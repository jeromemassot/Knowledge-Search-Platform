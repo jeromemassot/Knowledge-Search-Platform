{
  "cells": [
    {
      "cell_type": "markdown",
      "id": "jHUTkO545rmD",
      "metadata": {
        "id": "jHUTkO545rmD"
      },
      "source": [
        "# CHILD Knowledge Management\n",
        "## Seattle Children Hospital\n",
        "### July 2025\n",
        "#### Jerome Massot (jeromemassot@google.com)"
      ]
    },
    {
      "cell_type": "markdown",
      "id": "qpBfWKsw5t7h",
      "metadata": {
        "id": "qpBfWKsw5t7h"
      },
      "source": [
        "## 00- Setup and Import Modules"
      ]
    },
    {
      "cell_type": "markdown",
      "id": "FfFYRy6r59G4",
      "metadata": {
        "id": "FfFYRy6r59G4"
      },
      "source": [
        "requirements.txt\n",
        "\n",
        "- beautifulsoup4\n",
        "- google-cloud-discoveryengine\n",
        "- google-storage\n",
        "- google-genai"
      ]
    },
    {
      "cell_type": "code",
      "execution_count": null,
      "id": "s1YXnFj_7XRN",
      "metadata": {
        "colab": {
          "base_uri": "https://localhost:8080/"
        },
        "id": "s1YXnFj_7XRN",
        "outputId": "88ac8936-76e5-4442-d2fb-eacd1c9108ed"
      },
      "outputs": [
        {
          "name": "stdout",
          "output_type": "stream",
          "text": [
            "Overwriting requirements.txt\n"
          ]
        }
      ],
      "source": [
        "%%writefile requirements.txt\n",
        "html-to-markdown\n",
        "beautifulsoup4\n",
        "google-cloud-discoveryengine\n",
        "google-cloud-storage\n",
        "google-genai"
      ]
    },
    {
      "cell_type": "code",
      "execution_count": null,
      "id": "GtHDUEiz7ldlqJ4yVWzrlw9R",
      "metadata": {
        "colab": {
          "base_uri": "https://localhost:8080/"
        },
        "id": "GtHDUEiz7ldlqJ4yVWzrlw9R",
        "outputId": "96236779-3bca-4cb8-e289-1ff5bcbdf00e",
        "tags": []
      },
      "outputs": [
        {
          "name": "stdout",
          "output_type": "stream",
          "text": [
            "\u001b[?25l   \u001b[90m━━━━━━━━━━━━━━━━━━━━━━━━━━━━━━━━━━━━━━━━\u001b[0m \u001b[32m0.0/187.3 kB\u001b[0m \u001b[31m?\u001b[0m eta \u001b[36m-:--:--\u001b[0m\r\u001b[2K   \u001b[90m━━━━━━━━━━━━━━━━━━━━━━━━━━━━━━━━━━━━━━━━\u001b[0m \u001b[32m187.3/187.3 kB\u001b[0m \u001b[31m9.1 MB/s\u001b[0m eta \u001b[36m0:00:00\u001b[0m\n",
            "\u001b[?25h\u001b[?25l   \u001b[90m━━━━━━━━━━━━━━━━━━━━━━━━━━━━━━━━━━━━━━━━\u001b[0m \u001b[32m0.0/804.0 kB\u001b[0m \u001b[31m?\u001b[0m eta \u001b[36m-:--:--\u001b[0m\r\u001b[2K   \u001b[90m━━━━━━━━━━━━━━━━━━━━━━━━━━━━━━━━━━━━━━━━\u001b[0m \u001b[32m804.0/804.0 kB\u001b[0m \u001b[31m26.4 MB/s\u001b[0m eta \u001b[36m0:00:00\u001b[0m\n",
            "\u001b[?25h"
          ]
        }
      ],
      "source": [
        "! pip install -q -r \"/content/requirements.txt\""
      ]
    },
    {
      "cell_type": "code",
      "execution_count": 1,
      "id": "2BLhG6-K7tH1",
      "metadata": {
        "id": "2BLhG6-K7tH1"
      },
      "outputs": [],
      "source": [
        "from google.cloud import discoveryengine_v1beta\n",
        "from google.cloud import storage\n",
        "from google import genai"
      ]
    },
    {
      "cell_type": "code",
      "execution_count": 2,
      "id": "P4ZhHwpZ8h18",
      "metadata": {
        "id": "P4ZhHwpZ8h18"
      },
      "outputs": [],
      "source": [
        "from html_to_markdown import convert_to_markdown\n",
        "from bs4 import XMLParsedAsHTMLWarning\n",
        "from bs4 import BeautifulSoup\n",
        "import requests"
      ]
    },
    {
      "cell_type": "code",
      "execution_count": 3,
      "id": "8gCCVjtlBQuc",
      "metadata": {
        "id": "8gCCVjtlBQuc"
      },
      "outputs": [],
      "source": [
        "from pydantic import BaseModel, Field\n",
        "from collections import defaultdict\n",
        "from typing import List"
      ]
    },
    {
      "cell_type": "code",
      "execution_count": 4,
      "id": "49943MsURtyO",
      "metadata": {
        "id": "49943MsURtyO"
      },
      "outputs": [],
      "source": [
        "import warnings\n",
        "import pprint\n",
        "import tqdm\n",
        "import json\n",
        "import uuid\n",
        "import re"
      ]
    },
    {
      "cell_type": "code",
      "execution_count": 5,
      "id": "cyrJAm70Roxs",
      "metadata": {
        "id": "cyrJAm70Roxs"
      },
      "outputs": [],
      "source": [
        "warnings.filterwarnings(\"ignore\", category=XMLParsedAsHTMLWarning)"
      ]
    },
    {
      "cell_type": "markdown",
      "id": "fnG7Q-U48FTV",
      "metadata": {
        "id": "fnG7Q-U48FTV"
      },
      "source": [
        "## 01- Patient Eduction website"
      ]
    },
    {
      "cell_type": "markdown",
      "id": "FD_LjfZLBO15",
      "metadata": {
        "id": "FD_LjfZLBO15"
      },
      "source": [
        "The page education pages can be seen as a collection of PDFs documents and links to internal and external websites. There is almost no informational content in these pages, beyond these links to PDFs and other websites.\n",
        "\n",
        "The extraction consists in the retrieving of the PDFs documents, and URLs pointing to internal webpages, external webpaces, and videos content."
      ]
    },
    {
      "cell_type": "markdown",
      "id": "VdFuH14g8JCd",
      "metadata": {
        "id": "VdFuH14g8JCd"
      },
      "source": [
        "### 01-01- Pages Extraction"
      ]
    },
    {
      "cell_type": "markdown",
      "id": "wSG3nT9M-8Pi",
      "metadata": {
        "id": "wSG3nT9M-8Pi"
      },
      "source": [
        "We start by parsing the patient education landing page for extracting all the references to the conditions pages.\n",
        "\n",
        "An atomic page data contains:\n",
        "- a title (str)\n",
        "- an url (str)\n",
        "- a collection of PDFs (list of uri using the pattern gs://...\n",
        "- a collection of videos (YouTube)\n",
        "- a collection of internal links\n",
        "- a collection of external links\n",
        "- a collection of data impossible to retrieved"
      ]
    },
    {
      "cell_type": "code",
      "execution_count": null,
      "id": "wQIVKLOc8MP1",
      "metadata": {
        "id": "wQIVKLOc8MP1"
      },
      "outputs": [],
      "source": [
        "url = \"https://www.seattlechildrens.org/patients-families/patient-education/\"\n",
        "response = requests.get(url)\n",
        "soup = BeautifulSoup(response.content, \"html.parser\")"
      ]
    },
    {
      "cell_type": "code",
      "execution_count": null,
      "id": "5Rq6S5gN8sez",
      "metadata": {
        "id": "5Rq6S5gN8sez"
      },
      "outputs": [],
      "source": [
        "pages = defaultdict(lambda: defaultdict)\n",
        "for link in soup.find_all(\"a\"):\n",
        "    if link.get(\"href\").startswith(\"/clinics/\"):\n",
        "        # take care of the website naming unconsistencies\n",
        "        is_resources = \"resources\" in link.get(\"href\").split(\"/\")[-2] or \"education\" in link.get(\"href\").split(\"/\")[-2]\n",
        "        if is_resources:\n",
        "            pages[link.text] = {\n",
        "                \"title\": link.text,\n",
        "                \"url\": \"https://www.seattlechildrens.org\" + link.get(\"href\"),\n",
        "                \"pdfs\": [],\n",
        "                \"videos\": [],\n",
        "                \"internal_links\": [],\n",
        "                \"external_links\": [],\n",
        "                \"failed_links\": []\n",
        "            }\n",
        "\n",
        "# manually add the vascular access which does not respect the pattern of other pages\n",
        "pages[\"Vascular Access\"] = {\n",
        "    \"title\": \"Vascular Access\",\n",
        "    \"url\": \"https://www.seattlechildrens.org/clinics/vascular-access-service/\",\n",
        "    \"pdfs\": [],\n",
        "    \"videos\": [],\n",
        "    \"internal_links\": [],\n",
        "    \"external_links\": [],\n",
        "    \"failed_links\": []\n",
        "}"
      ]
    },
    {
      "cell_type": "markdown",
      "id": "8rkldDn8_DeD",
      "metadata": {
        "id": "8rkldDn8_DeD"
      },
      "source": [
        "The dictionary contains all the urls for the conditions, the keys are the conditions titles."
      ]
    },
    {
      "cell_type": "code",
      "execution_count": null,
      "id": "dMXDNcRQ9MfM",
      "metadata": {
        "colab": {
          "base_uri": "https://localhost:8080/"
        },
        "id": "dMXDNcRQ9MfM",
        "outputId": "908e2268-8fd3-46e5-e599-de419909922f"
      },
      "outputs": [
        {
          "name": "stdout",
          "output_type": "stream",
          "text": [
            "Number of pages found: 72...\n",
            "Airway and Esophageal Resources {'title': 'Airway and Esophageal Resources', 'url': 'https://www.seattlechildrens.org/clinics/airway-esophageal-center/patient-and-family-resources/', 'pdfs': [], 'videos': [], 'internal_links': [], 'external_links': [], 'failed_links': []}\n"
          ]
        }
      ],
      "source": [
        "print(f\"Number of pages found: {len(pages)}...\")\n",
        "for condition_name, url in pages.items():\n",
        "    print(condition_name, url)\n",
        "    break"
      ]
    },
    {
      "cell_type": "markdown",
      "id": "w69GeTM6AE7p",
      "metadata": {
        "id": "w69GeTM6AE7p"
      },
      "source": [
        "### 01-02- Embedded PDFs, Videos, and Hyperlinks extraction"
      ]
    },
    {
      "cell_type": "markdown",
      "id": "phMTnPv0CZH0",
      "metadata": {
        "id": "phMTnPv0CZH0"
      },
      "source": [
        "- A PDF object data contains:\n",
        "  - a title (str)\n",
        "  - an url (from sch website)\n",
        "  - an gs location (str using the gs:// pattern)\n",
        "  - a language (language used in the PDF)\n",
        "\n",
        "- A Video data contains:\n",
        "  - an url (YouTube format)\n",
        "\n",
        "- An Hyperlink data contains:\n",
        "  - an url"
      ]
    },
    {
      "cell_type": "code",
      "execution_count": null,
      "id": "u5GzFxn9Awr8",
      "metadata": {
        "id": "u5GzFxn9Awr8"
      },
      "outputs": [],
      "source": [
        "PDFS_BUCKET_NAME = \"sch_patient_education_pdfs\""
      ]
    },
    {
      "cell_type": "code",
      "execution_count": null,
      "id": "4yWrrVoXAI99",
      "metadata": {
        "id": "4yWrrVoXAI99"
      },
      "outputs": [],
      "source": [
        "def extract_pdfs_videos_hyperlinks(\n",
        "    condition_name: str, pages: dict, bucket_name: str, debug: bool=False\n",
        ") -> None:\n",
        "    \"\"\"\n",
        "    Extract all the PDF files, videos urls, and hyperlinks from a webpage.\n",
        "    :param condition_name: name of the condition\n",
        "    :param pages: dictionary containing pages information\n",
        "    :param bucket_name: name of the bucket where the PDFs are stored\n",
        "    :param debug: debug flag\n",
        "    :return: None\n",
        "    \"\"\"\n",
        "\n",
        "    # retrieve the condition title and page url\n",
        "    title = pages[condition_name][\"title\"]\n",
        "    url = pages[condition_name][\"url\"]\n",
        "\n",
        "    # create the bucket if it does not exist\n",
        "    storage_client = storage.Client()\n",
        "    bucket = storage_client.bucket(bucket_name)\n",
        "    if not bucket.exists():\n",
        "        bucket.create()\n",
        "\n",
        "    # extracting the knowledge embedded as links\n",
        "    response = requests.get(url)\n",
        "    soup = BeautifulSoup(response.content, \"html.parser\")\n",
        "\n",
        "    # pdfs list to be added to the page information\n",
        "    pdfs = []\n",
        "    mapping_for_multilingual_pdfs = {}\n",
        "\n",
        "    # hyperlinks and video lists to the page\n",
        "    internal_links = []\n",
        "    external_links = []\n",
        "    failed_links = []\n",
        "    videos = []\n",
        "\n",
        "    for link in tqdm.tqdm(soup.find_all(\"a\")):\n",
        "\n",
        "        if debug:\n",
        "            print(f'Working on {link.get(\"href\")}...')\n",
        "\n",
        "        # enrich the url if needed\n",
        "        if not link.get(\"href\"):\n",
        "            continue\n",
        "        if link.get(\"href\").startswith(\"http\"):\n",
        "            url = link.get(\"href\")\n",
        "        else:\n",
        "            url = \"https://www.seattlechildrens.org\" + link.get(\"href\")\n",
        "\n",
        "        # check if the link points to a PDF file\n",
        "        if url[-3:].lower() == \"pdf\":\n",
        "\n",
        "            # get the pdf name\n",
        "            file_name = url.split(\"/\")[-1].lower()\n",
        "\n",
        "            # get the pdf language\n",
        "            language = link.get(\"lang\", \"en\")\n",
        "\n",
        "            # to manage the titles of the documents written in other language than English\n",
        "            if language == 'en':\n",
        "                mapping_for_multilingual_pdfs[url.split(\"/\")[-1][:-4].lower()] = link.text\n",
        "                title = link.text\n",
        "            else:\n",
        "                current_pdf = url.split(\"/\")[-1].lower()\n",
        "                for reference_pdf in mapping_for_multilingual_pdfs.keys():\n",
        "                    if reference_pdf in current_pdf:\n",
        "                        title = mapping_for_multilingual_pdfs[reference_pdf]\n",
        "                        break\n",
        "\n",
        "            # append the current pdf to the list of page's pdfs\n",
        "            pdfs.append(\n",
        "                {\n",
        "                    \"title\": title,\n",
        "                    \"url\": url,\n",
        "                    \"gs_location\": f\"gs://{bucket_name}/{condition_name.lower()}/{file_name})\",\n",
        "                    \"language\": language\n",
        "                }\n",
        "            )\n",
        "\n",
        "            # download the pdf in the gs bucket\n",
        "            if debug:\n",
        "                print(f\"Downloading {url}...\")\n",
        "\n",
        "            try:\n",
        "                response = requests.get(url, timeout=10)\n",
        "                if response.status_code != 200:\n",
        "                    failed_links.append(url)\n",
        "                else:\n",
        "                    pdf_content = response.content\n",
        "                    folder_name = condition_name.lower().replace(\" \", \"_\").encode(\"ascii\", \"ignore\").decode(\"ascii\")\n",
        "                    file_name = file_name.replace(\" \", \"_\").encode(\"ascii\", \"ignore\").decode(\"ascii\")\n",
        "                    blob = bucket.blob(f\"{folder_name}/{file_name}\")\n",
        "                    blob.upload_from_string(pdf_content, content_type=\"application/pdf\")\n",
        "            except:\n",
        "                failed_links.append(url)\n",
        "        else:\n",
        "            # append the url to the list of external links or videos\n",
        "            if url.startswith(\"https://www.youtube.com\"):\n",
        "                  videos.append(url)\n",
        "            if url.startswith(\"https://www.seattlechildrens.org\"):\n",
        "                internal_links.append(url)\n",
        "            else:\n",
        "                external_links.append(url)\n",
        "\n",
        "    # update the pages dictionary\n",
        "    pages[condition_name][\"pdfs\"] = pdfs\n",
        "    pages[condition_name][\"internal_links\"] = internal_links\n",
        "    pages[condition_name][\"external_links\"] = external_links\n",
        "    pages[condition_name][\"failed_links\"] = failed_links\n",
        "\n",
        "    # videos list to be added to the page information\n",
        "    for link in soup.find_all(\"a\", class_=\"video-link\"):\n",
        "        videos.append(link.get(\"href\"))\n",
        "    pages[condition_name][\"videos\"] = videos\n",
        "\n",
        "    print(f\"Extracted {len(pdfs)} PDFs for condition {condition_name}...\")\n",
        "    print(f\"Extracted {len(videos)} videos for condition {condition_name}...\")\n",
        "    print(f\"Extracted {len(internal_links)} internal links for condition {condition_name}...\")\n",
        "    print(f\"Extracted {len(external_links)} external links for condition {condition_name}...\")\n",
        "    print(f\"Failed for {len(failed_links)} links for condition {condition_name}...\")"
      ]
    },
    {
      "cell_type": "code",
      "execution_count": null,
      "id": "3UpoIe3LcmVU",
      "metadata": {
        "colab": {
          "base_uri": "https://localhost:8080/"
        },
        "id": "3UpoIe3LcmVU",
        "outputId": "39b40ede-9dd9-4246-8dfd-5e0a6fc1e1ff"
      },
      "outputs": [
        {
          "name": "stderr",
          "output_type": "stream",
          "text": [
            "100%|██████████| 224/224 [00:19<00:00, 11.33it/s]"
          ]
        },
        {
          "name": "stdout",
          "output_type": "stream",
          "text": [
            "Extracted 32 PDFs for condition Craniofacial Resources...\n",
            "Extracted 2 videos for condition Craniofacial Resources...\n",
            "Extracted 135 internal links for condition Craniofacial Resources...\n",
            "Extracted 56 external links for condition Craniofacial Resources...\n",
            "Failed for 0 links for condition Craniofacial Resources...\n"
          ]
        },
        {
          "name": "stderr",
          "output_type": "stream",
          "text": [
            "\n"
          ]
        }
      ],
      "source": [
        "extract_pdfs_videos_hyperlinks(\"Craniofacial Resources\", pages, PDFS_BUCKET_NAME, False)"
      ]
    },
    {
      "cell_type": "code",
      "execution_count": null,
      "id": "ZCFolhMNJ1F6",
      "metadata": {
        "colab": {
          "base_uri": "https://localhost:8080/"
        },
        "id": "ZCFolhMNJ1F6",
        "outputId": "252c679e-356f-4685-c599-34a36cec5dcd"
      },
      "outputs": [
        {
          "name": "stdout",
          "output_type": "stream",
          "text": [
            "Working on Airway and Esophageal Resources...\n"
          ]
        },
        {
          "name": "stderr",
          "output_type": "stream",
          "text": [
            "100%|██████████| 169/169 [00:14<00:00, 11.85it/s]\n"
          ]
        },
        {
          "name": "stdout",
          "output_type": "stream",
          "text": [
            "Extracted 51 PDFs for condition Airway and Esophageal Resources...\n",
            "Extracted 1 videos for condition Airway and Esophageal Resources...\n",
            "Extracted 100 internal links for condition Airway and Esophageal Resources...\n",
            "Extracted 18 external links for condition Airway and Esophageal Resources...\n",
            "Failed for 0 links for condition Airway and Esophageal Resources...\n",
            "Working on Anesthesiology Resources...\n"
          ]
        },
        {
          "name": "stderr",
          "output_type": "stream",
          "text": [
            "100%|██████████| 161/161 [00:28<00:00,  5.56it/s]\n"
          ]
        },
        {
          "name": "stdout",
          "output_type": "stream",
          "text": [
            "Extracted 28 PDFs for condition Anesthesiology Resources...\n",
            "Extracted 3 videos for condition Anesthesiology Resources...\n",
            "Extracted 108 internal links for condition Anesthesiology Resources...\n",
            "Extracted 25 external links for condition Anesthesiology Resources...\n",
            "Failed for 0 links for condition Anesthesiology Resources...\n",
            "Working on Apheresis Resources...\n"
          ]
        },
        {
          "name": "stderr",
          "output_type": "stream",
          "text": [
            "100%|██████████| 123/123 [00:47<00:00,  2.57it/s]\n"
          ]
        },
        {
          "name": "stdout",
          "output_type": "stream",
          "text": [
            "Extracted 17 PDFs for condition Apheresis Resources...\n",
            "Extracted 1 videos for condition Apheresis Resources...\n",
            "Extracted 91 internal links for condition Apheresis Resources...\n",
            "Extracted 15 external links for condition Apheresis Resources...\n",
            "Failed for 1 links for condition Apheresis Resources...\n",
            "Working on Audiology Resources...\n"
          ]
        },
        {
          "name": "stderr",
          "output_type": "stream",
          "text": [
            "100%|██████████| 219/219 [01:38<00:00,  2.21it/s]\n"
          ]
        },
        {
          "name": "stdout",
          "output_type": "stream",
          "text": [
            "Extracted 69 PDFs for condition Audiology Resources...\n",
            "Extracted 7 videos for condition Audiology Resources...\n",
            "Extracted 100 internal links for condition Audiology Resources...\n",
            "Extracted 50 external links for condition Audiology Resources...\n",
            "Failed for 1 links for condition Audiology Resources...\n",
            "Working on Autism Resources...\n"
          ]
        },
        {
          "name": "stderr",
          "output_type": "stream",
          "text": [
            "100%|██████████| 735/735 [04:53<00:00,  2.50it/s]\n"
          ]
        },
        {
          "name": "stdout",
          "output_type": "stream",
          "text": [
            "Extracted 264 PDFs for condition Autism Resources...\n",
            "Extracted 54 videos for condition Autism Resources...\n",
            "Extracted 129 internal links for condition Autism Resources...\n",
            "Extracted 342 external links for condition Autism Resources...\n",
            "Failed for 11 links for condition Autism Resources...\n",
            "Working on Biofeedback Resources...\n"
          ]
        },
        {
          "name": "stderr",
          "output_type": "stream",
          "text": [
            "100%|██████████| 199/199 [01:50<00:00,  1.80it/s]\n"
          ]
        },
        {
          "name": "stdout",
          "output_type": "stream",
          "text": [
            "Extracted 88 PDFs for condition Biofeedback Resources...\n",
            "Extracted 1 videos for condition Biofeedback Resources...\n",
            "Extracted 95 internal links for condition Biofeedback Resources...\n",
            "Extracted 16 external links for condition Biofeedback Resources...\n",
            "Failed for 0 links for condition Biofeedback Resources...\n",
            "Working on Brachial Plexus Resources...\n"
          ]
        },
        {
          "name": "stderr",
          "output_type": "stream",
          "text": [
            "100%|██████████| 127/127 [00:02<00:00, 48.87it/s]\n"
          ]
        },
        {
          "name": "stdout",
          "output_type": "stream",
          "text": [
            "Extracted 10 PDFs for condition Brachial Plexus Resources...\n",
            "Extracted 1 videos for condition Brachial Plexus Resources...\n",
            "Extracted 99 internal links for condition Brachial Plexus Resources...\n",
            "Extracted 18 external links for condition Brachial Plexus Resources...\n",
            "Failed for 0 links for condition Brachial Plexus Resources...\n",
            "Working on Cancer and Blood Disorders Resources...\n"
          ]
        },
        {
          "name": "stderr",
          "output_type": "stream",
          "text": [
            "100%|██████████| 257/257 [00:35<00:00,  7.31it/s]\n"
          ]
        },
        {
          "name": "stdout",
          "output_type": "stream",
          "text": [
            "Extracted 52 PDFs for condition Cancer and Blood Disorders Resources...\n",
            "Extracted 8 videos for condition Cancer and Blood Disorders Resources...\n",
            "Extracted 132 internal links for condition Cancer and Blood Disorders Resources...\n",
            "Extracted 73 external links for condition Cancer and Blood Disorders Resources...\n",
            "Failed for 0 links for condition Cancer and Blood Disorders Resources...\n",
            "Working on Child Life Resources...\n"
          ]
        },
        {
          "name": "stderr",
          "output_type": "stream",
          "text": [
            "100%|██████████| 119/119 [00:02<00:00, 54.17it/s]\n"
          ]
        },
        {
          "name": "stdout",
          "output_type": "stream",
          "text": [
            "Extracted 9 PDFs for condition Child Life Resources...\n",
            "Extracted 7 videos for condition Child Life Resources...\n",
            "Extracted 89 internal links for condition Child Life Resources...\n",
            "Extracted 21 external links for condition Child Life Resources...\n",
            "Failed for 0 links for condition Child Life Resources...\n",
            "Working on Child Wellness Resources...\n"
          ]
        },
        {
          "name": "stderr",
          "output_type": "stream",
          "text": [
            "100%|██████████| 144/144 [00:03<00:00, 44.73it/s]\n"
          ]
        },
        {
          "name": "stdout",
          "output_type": "stream",
          "text": [
            "Extracted 14 PDFs for condition Child Wellness Resources...\n",
            "Extracted 1 videos for condition Child Wellness Resources...\n",
            "Extracted 102 internal links for condition Child Wellness Resources...\n",
            "Extracted 28 external links for condition Child Wellness Resources...\n",
            "Failed for 0 links for condition Child Wellness Resources...\n",
            "Working on Childhood Communication Resources...\n"
          ]
        },
        {
          "name": "stderr",
          "output_type": "stream",
          "text": [
            "100%|██████████| 212/212 [00:30<00:00,  6.86it/s]\n"
          ]
        },
        {
          "name": "stdout",
          "output_type": "stream",
          "text": [
            "Extracted 16 PDFs for condition Childhood Communication Resources...\n",
            "Extracted 3 videos for condition Childhood Communication Resources...\n",
            "Extracted 100 internal links for condition Childhood Communication Resources...\n",
            "Extracted 96 external links for condition Childhood Communication Resources...\n",
            "Failed for 0 links for condition Childhood Communication Resources...\n",
            "Working on Colorectal Resources...\n"
          ]
        },
        {
          "name": "stderr",
          "output_type": "stream",
          "text": [
            "100%|██████████| 194/194 [00:49<00:00,  3.89it/s]\n"
          ]
        },
        {
          "name": "stdout",
          "output_type": "stream",
          "text": [
            "Extracted 46 PDFs for condition Colorectal Resources...\n",
            "Extracted 2 videos for condition Colorectal Resources...\n",
            "Extracted 113 internal links for condition Colorectal Resources...\n",
            "Extracted 35 external links for condition Colorectal Resources...\n",
            "Failed for 0 links for condition Colorectal Resources...\n",
            "Working on Cranial Base Resources...\n"
          ]
        },
        {
          "name": "stderr",
          "output_type": "stream",
          "text": [
            "100%|██████████| 162/162 [00:00<00:00, 547083.13it/s]\n"
          ]
        },
        {
          "name": "stdout",
          "output_type": "stream",
          "text": [
            "Extracted 0 PDFs for condition Cranial Base Resources...\n",
            "Extracted 1 videos for condition Cranial Base Resources...\n",
            "Extracted 125 internal links for condition Cranial Base Resources...\n",
            "Extracted 37 external links for condition Cranial Base Resources...\n",
            "Failed for 0 links for condition Cranial Base Resources...\n",
            "Working on Craniofacial Resources...\n"
          ]
        },
        {
          "name": "stderr",
          "output_type": "stream",
          "text": [
            "100%|██████████| 224/224 [00:12<00:00, 17.52it/s]\n"
          ]
        },
        {
          "name": "stdout",
          "output_type": "stream",
          "text": [
            "Extracted 32 PDFs for condition Craniofacial Resources...\n",
            "Extracted 2 videos for condition Craniofacial Resources...\n",
            "Extracted 135 internal links for condition Craniofacial Resources...\n",
            "Extracted 56 external links for condition Craniofacial Resources...\n",
            "Failed for 0 links for condition Craniofacial Resources...\n",
            "Working on Critical Care Medicine Resources...\n"
          ]
        },
        {
          "name": "stderr",
          "output_type": "stream",
          "text": [
            "100%|██████████| 130/130 [00:00<00:00, 490341.29it/s]\n"
          ]
        },
        {
          "name": "stdout",
          "output_type": "stream",
          "text": [
            "Extracted 0 PDFs for condition Critical Care Medicine Resources...\n",
            "Extracted 1 videos for condition Critical Care Medicine Resources...\n",
            "Extracted 114 internal links for condition Critical Care Medicine Resources...\n",
            "Extracted 16 external links for condition Critical Care Medicine Resources...\n",
            "Failed for 0 links for condition Critical Care Medicine Resources...\n",
            "Working on Cystic Fibrosis Resources...\n"
          ]
        },
        {
          "name": "stderr",
          "output_type": "stream",
          "text": [
            "100%|██████████| 202/202 [01:58<00:00,  1.70it/s]\n"
          ]
        },
        {
          "name": "stdout",
          "output_type": "stream",
          "text": [
            "Extracted 72 PDFs for condition Cystic Fibrosis Resources...\n",
            "Extracted 1 videos for condition Cystic Fibrosis Resources...\n",
            "Extracted 105 internal links for condition Cystic Fibrosis Resources...\n",
            "Extracted 25 external links for condition Cystic Fibrosis Resources...\n",
            "Failed for 0 links for condition Cystic Fibrosis Resources...\n",
            "Working on Dental Resources...\n"
          ]
        },
        {
          "name": "stderr",
          "output_type": "stream",
          "text": [
            "100%|██████████| 144/144 [00:06<00:00, 23.44it/s]\n"
          ]
        },
        {
          "name": "stdout",
          "output_type": "stream",
          "text": [
            "Extracted 13 PDFs for condition Dental Resources...\n",
            "Extracted 1 videos for condition Dental Resources...\n",
            "Extracted 114 internal links for condition Dental Resources...\n",
            "Extracted 17 external links for condition Dental Resources...\n",
            "Failed for 0 links for condition Dental Resources...\n",
            "Working on Dermatology Resources...\n"
          ]
        },
        {
          "name": "stderr",
          "output_type": "stream",
          "text": [
            "100%|██████████| 257/257 [02:25<00:00,  1.76it/s]\n"
          ]
        },
        {
          "name": "stdout",
          "output_type": "stream",
          "text": [
            "Extracted 128 PDFs for condition Dermatology Resources...\n",
            "Extracted 1 videos for condition Dermatology Resources...\n",
            "Extracted 95 internal links for condition Dermatology Resources...\n",
            "Extracted 34 external links for condition Dermatology Resources...\n",
            "Failed for 0 links for condition Dermatology Resources...\n",
            "Working on Diabetes Resources...\n"
          ]
        },
        {
          "name": "stderr",
          "output_type": "stream",
          "text": [
            "100%|██████████| 441/441 [04:41<00:00,  1.57it/s]\n"
          ]
        },
        {
          "name": "stdout",
          "output_type": "stream",
          "text": [
            "Extracted 276 PDFs for condition Diabetes Resources...\n",
            "Extracted 2 videos for condition Diabetes Resources...\n",
            "Extracted 120 internal links for condition Diabetes Resources...\n",
            "Extracted 45 external links for condition Diabetes Resources...\n",
            "Failed for 0 links for condition Diabetes Resources...\n",
            "Working on Dialysis Resources...\n"
          ]
        },
        {
          "name": "stderr",
          "output_type": "stream",
          "text": [
            "100%|██████████| 249/249 [01:50<00:00,  2.26it/s]\n"
          ]
        },
        {
          "name": "stdout",
          "output_type": "stream",
          "text": [
            "Extracted 104 PDFs for condition Dialysis Resources...\n",
            "Extracted 9 videos for condition Dialysis Resources...\n",
            "Extracted 94 internal links for condition Dialysis Resources...\n",
            "Extracted 51 external links for condition Dialysis Resources...\n",
            "Failed for 0 links for condition Dialysis Resources...\n",
            "Working on Differences in Sex Development Resources...\n"
          ]
        },
        {
          "name": "stderr",
          "output_type": "stream",
          "text": [
            "100%|██████████| 225/225 [01:20<00:00,  2.80it/s]\n"
          ]
        },
        {
          "name": "stdout",
          "output_type": "stream",
          "text": [
            "Extracted 63 PDFs for condition Differences in Sex Development Resources...\n",
            "Extracted 1 videos for condition Differences in Sex Development Resources...\n",
            "Extracted 113 internal links for condition Differences in Sex Development Resources...\n",
            "Extracted 49 external links for condition Differences in Sex Development Resources...\n",
            "Failed for 0 links for condition Differences in Sex Development Resources...\n",
            "Working on Eating Disorders Recovery Resources...\n"
          ]
        },
        {
          "name": "stderr",
          "output_type": "stream",
          "text": [
            "100%|██████████| 192/192 [02:06<00:00,  1.51it/s]\n"
          ]
        },
        {
          "name": "stdout",
          "output_type": "stream",
          "text": [
            "Extracted 73 PDFs for condition Eating Disorders Recovery Resources...\n",
            "Extracted 1 videos for condition Eating Disorders Recovery Resources...\n",
            "Extracted 101 internal links for condition Eating Disorders Recovery Resources...\n",
            "Extracted 18 external links for condition Eating Disorders Recovery Resources...\n",
            "Failed for 0 links for condition Eating Disorders Recovery Resources...\n",
            "Working on Endocrinology Resources...\n"
          ]
        },
        {
          "name": "stderr",
          "output_type": "stream",
          "text": [
            "100%|██████████| 204/204 [01:07<00:00,  3.03it/s]\n"
          ]
        },
        {
          "name": "stdout",
          "output_type": "stream",
          "text": [
            "Extracted 47 PDFs for condition Endocrinology Resources...\n",
            "Extracted 3 videos for condition Endocrinology Resources...\n",
            "Extracted 120 internal links for condition Endocrinology Resources...\n",
            "Extracted 37 external links for condition Endocrinology Resources...\n",
            "Failed for 1 links for condition Endocrinology Resources...\n",
            "Working on Fetal Care and Treatment Resources...\n"
          ]
        },
        {
          "name": "stderr",
          "output_type": "stream",
          "text": [
            "100%|██████████| 211/211 [00:47<00:00,  4.48it/s]\n"
          ]
        },
        {
          "name": "stdout",
          "output_type": "stream",
          "text": [
            "Extracted 36 PDFs for condition Fetal Care and Treatment Resources...\n",
            "Extracted 1 videos for condition Fetal Care and Treatment Resources...\n",
            "Extracted 143 internal links for condition Fetal Care and Treatment Resources...\n",
            "Extracted 32 external links for condition Fetal Care and Treatment Resources...\n",
            "Failed for 2 links for condition Fetal Care and Treatment Resources...\n",
            "Working on Gastroenterology and Hepatology Resources...\n"
          ]
        },
        {
          "name": "stderr",
          "output_type": "stream",
          "text": [
            "100%|██████████| 302/302 [03:49<00:00,  1.31it/s]\n"
          ]
        },
        {
          "name": "stdout",
          "output_type": "stream",
          "text": [
            "Extracted 146 PDFs for condition Gastroenterology and Hepatology Resources...\n",
            "Extracted 5 videos for condition Gastroenterology and Hepatology Resources...\n",
            "Extracted 102 internal links for condition Gastroenterology and Hepatology Resources...\n",
            "Extracted 46 external links for condition Gastroenterology and Hepatology Resources...\n",
            "Failed for 3 links for condition Gastroenterology and Hepatology Resources...\n",
            "Working on General and Thoracic Surgery Resources...\n"
          ]
        },
        {
          "name": "stderr",
          "output_type": "stream",
          "text": [
            "100%|██████████| 166/166 [00:03<00:00, 45.92it/s]\n"
          ]
        },
        {
          "name": "stdout",
          "output_type": "stream",
          "text": [
            "Extracted 8 PDFs for condition General and Thoracic Surgery Resources...\n",
            "Extracted 5 videos for condition General and Thoracic Surgery Resources...\n",
            "Extracted 122 internal links for condition General and Thoracic Surgery Resources...\n",
            "Extracted 36 external links for condition General and Thoracic Surgery Resources...\n",
            "Failed for 0 links for condition General and Thoracic Surgery Resources...\n",
            "Working on Genetics Resources...\n"
          ]
        },
        {
          "name": "stderr",
          "output_type": "stream",
          "text": [
            "100%|██████████| 173/173 [00:03<00:00, 47.34it/s]\n"
          ]
        },
        {
          "name": "stdout",
          "output_type": "stream",
          "text": [
            "Extracted 8 PDFs for condition Genetics Resources...\n",
            "Extracted 1 videos for condition Genetics Resources...\n",
            "Extracted 103 internal links for condition Genetics Resources...\n",
            "Extracted 62 external links for condition Genetics Resources...\n",
            "Failed for 0 links for condition Genetics Resources...\n",
            "Working on Heart Resources...\n"
          ]
        },
        {
          "name": "stderr",
          "output_type": "stream",
          "text": [
            "100%|██████████| 207/207 [00:27<00:00,  7.64it/s]\n"
          ]
        },
        {
          "name": "stdout",
          "output_type": "stream",
          "text": [
            "Extracted 39 PDFs for condition Heart Resources...\n",
            "Extracted 2 videos for condition Heart Resources...\n",
            "Extracted 124 internal links for condition Heart Resources...\n",
            "Extracted 43 external links for condition Heart Resources...\n",
            "Failed for 0 links for condition Heart Resources...\n",
            "Working on Home Care Resources...\n"
          ]
        },
        {
          "name": "stderr",
          "output_type": "stream",
          "text": [
            "100%|██████████| 303/303 [02:57<00:00,  1.71it/s]\n"
          ]
        },
        {
          "name": "stdout",
          "output_type": "stream",
          "text": [
            "Extracted 154 PDFs for condition Home Care Resources...\n",
            "Extracted 21 videos for condition Home Care Resources...\n",
            "Extracted 90 internal links for condition Home Care Resources...\n",
            "Extracted 59 external links for condition Home Care Resources...\n",
            "Failed for 2 links for condition Home Care Resources...\n",
            "Working on Immunology Resources...\n"
          ]
        },
        {
          "name": "stderr",
          "output_type": "stream",
          "text": [
            "100%|██████████| 119/119 [00:01<00:00, 80.28it/s]\n"
          ]
        },
        {
          "name": "stdout",
          "output_type": "stream",
          "text": [
            "Extracted 3 PDFs for condition Immunology Resources...\n",
            "Extracted 1 videos for condition Immunology Resources...\n",
            "Extracted 90 internal links for condition Immunology Resources...\n",
            "Extracted 26 external links for condition Immunology Resources...\n",
            "Failed for 0 links for condition Immunology Resources...\n",
            "Working on Infectious Diseases and Virology Resources...\n"
          ]
        },
        {
          "name": "stderr",
          "output_type": "stream",
          "text": [
            "100%|██████████| 172/172 [00:54<00:00,  3.18it/s]\n"
          ]
        },
        {
          "name": "stdout",
          "output_type": "stream",
          "text": [
            "Extracted 39 PDFs for condition Infectious Diseases and Virology Resources...\n",
            "Extracted 1 videos for condition Infectious Diseases and Virology Resources...\n",
            "Extracted 111 internal links for condition Infectious Diseases and Virology Resources...\n",
            "Extracted 22 external links for condition Infectious Diseases and Virology Resources...\n",
            "Failed for 0 links for condition Infectious Diseases and Virology Resources...\n",
            "Working on Inpatient Rehabilitation Resources...\n"
          ]
        },
        {
          "name": "stderr",
          "output_type": "stream",
          "text": [
            "100%|██████████| 144/144 [00:04<00:00, 29.06it/s]\n"
          ]
        },
        {
          "name": "stdout",
          "output_type": "stream",
          "text": [
            "Extracted 4 PDFs for condition Inpatient Rehabilitation Resources...\n",
            "Extracted 1 videos for condition Inpatient Rehabilitation Resources...\n",
            "Extracted 108 internal links for condition Inpatient Rehabilitation Resources...\n",
            "Extracted 32 external links for condition Inpatient Rehabilitation Resources...\n",
            "Failed for 0 links for condition Inpatient Rehabilitation Resources...\n",
            "Working on Interventional Radiology Resources...\n"
          ]
        },
        {
          "name": "stderr",
          "output_type": "stream",
          "text": [
            "100%|██████████| 129/129 [00:14<00:00,  9.12it/s]\n"
          ]
        },
        {
          "name": "stdout",
          "output_type": "stream",
          "text": [
            "Extracted 11 PDFs for condition Interventional Radiology Resources...\n",
            "Extracted 1 videos for condition Interventional Radiology Resources...\n",
            "Extracted 101 internal links for condition Interventional Radiology Resources...\n",
            "Extracted 17 external links for condition Interventional Radiology Resources...\n",
            "Failed for 0 links for condition Interventional Radiology Resources...\n",
            "Working on Laboratory Medicine and Pathology Resources...\n"
          ]
        },
        {
          "name": "stderr",
          "output_type": "stream",
          "text": [
            "100%|██████████| 143/143 [00:16<00:00,  8.74it/s]\n"
          ]
        },
        {
          "name": "stdout",
          "output_type": "stream",
          "text": [
            "Extracted 28 PDFs for condition Laboratory Medicine and Pathology Resources...\n",
            "Extracted 2 videos for condition Laboratory Medicine and Pathology Resources...\n",
            "Extracted 97 internal links for condition Laboratory Medicine and Pathology Resources...\n",
            "Extracted 18 external links for condition Laboratory Medicine and Pathology Resources...\n",
            "Failed for 0 links for condition Laboratory Medicine and Pathology Resources...\n",
            "Working on Mitochondrial Medicine and Metabolism Resources...\n"
          ]
        },
        {
          "name": "stderr",
          "output_type": "stream",
          "text": [
            "100%|██████████| 142/142 [00:08<00:00, 17.43it/s]\n"
          ]
        },
        {
          "name": "stdout",
          "output_type": "stream",
          "text": [
            "Extracted 14 PDFs for condition Mitochondrial Medicine and Metabolism Resources...\n",
            "Extracted 1 videos for condition Mitochondrial Medicine and Metabolism Resources...\n",
            "Extracted 93 internal links for condition Mitochondrial Medicine and Metabolism Resources...\n",
            "Extracted 35 external links for condition Mitochondrial Medicine and Metabolism Resources...\n",
            "Failed for 0 links for condition Mitochondrial Medicine and Metabolism Resources...\n",
            "Working on Neonatology Resources...\n"
          ]
        },
        {
          "name": "stderr",
          "output_type": "stream",
          "text": [
            "100%|██████████| 143/143 [00:00<00:00, 170.48it/s]\n"
          ]
        },
        {
          "name": "stdout",
          "output_type": "stream",
          "text": [
            "Extracted 2 PDFs for condition Neonatology Resources...\n",
            "Extracted 1 videos for condition Neonatology Resources...\n",
            "Extracted 115 internal links for condition Neonatology Resources...\n",
            "Extracted 26 external links for condition Neonatology Resources...\n",
            "Failed for 0 links for condition Neonatology Resources...\n",
            "Working on Nephrology Resources...\n"
          ]
        },
        {
          "name": "stderr",
          "output_type": "stream",
          "text": [
            "100%|██████████| 263/263 [01:50<00:00,  2.37it/s]\n"
          ]
        },
        {
          "name": "stdout",
          "output_type": "stream",
          "text": [
            "Extracted 105 PDFs for condition Nephrology Resources...\n",
            "Extracted 1 videos for condition Nephrology Resources...\n",
            "Extracted 112 internal links for condition Nephrology Resources...\n",
            "Extracted 46 external links for condition Nephrology Resources...\n",
            "Failed for 1 links for condition Nephrology Resources...\n",
            "Working on Neurodevelopmental Resources...\n"
          ]
        },
        {
          "name": "stderr",
          "output_type": "stream",
          "text": [
            "100%|██████████| 249/249 [01:22<00:00,  3.03it/s]\n"
          ]
        },
        {
          "name": "stdout",
          "output_type": "stream",
          "text": [
            "Extracted 61 PDFs for condition Neurodevelopmental Resources...\n",
            "Extracted 1 videos for condition Neurodevelopmental Resources...\n",
            "Extracted 109 internal links for condition Neurodevelopmental Resources...\n",
            "Extracted 79 external links for condition Neurodevelopmental Resources...\n",
            "Failed for 1 links for condition Neurodevelopmental Resources...\n",
            "Working on Neurosciences Resources...\n"
          ]
        },
        {
          "name": "stderr",
          "output_type": "stream",
          "text": [
            "100%|██████████| 379/379 [03:20<00:00,  1.89it/s]\n"
          ]
        },
        {
          "name": "stdout",
          "output_type": "stream",
          "text": [
            "Extracted 172 PDFs for condition Neurosciences Resources...\n",
            "Extracted 2 videos for condition Neurosciences Resources...\n",
            "Extracted 137 internal links for condition Neurosciences Resources...\n",
            "Extracted 68 external links for condition Neurosciences Resources...\n",
            "Failed for 0 links for condition Neurosciences Resources...\n",
            "Working on Nutrition Resources...\n"
          ]
        },
        {
          "name": "stderr",
          "output_type": "stream",
          "text": [
            "100%|██████████| 276/276 [02:11<00:00,  2.09it/s]\n"
          ]
        },
        {
          "name": "stdout",
          "output_type": "stream",
          "text": [
            "Extracted 125 PDFs for condition Nutrition Resources...\n",
            "Extracted 1 videos for condition Nutrition Resources...\n",
            "Extracted 115 internal links for condition Nutrition Resources...\n",
            "Extracted 36 external links for condition Nutrition Resources...\n",
            "Failed for 0 links for condition Nutrition Resources...\n",
            "Working on Occupational Therapy Resources...\n"
          ]
        },
        {
          "name": "stderr",
          "output_type": "stream",
          "text": [
            "100%|██████████| 230/230 [02:27<00:00,  1.56it/s]\n"
          ]
        },
        {
          "name": "stdout",
          "output_type": "stream",
          "text": [
            "Extracted 111 PDFs for condition Occupational Therapy Resources...\n",
            "Extracted 1 videos for condition Occupational Therapy Resources...\n",
            "Extracted 104 internal links for condition Occupational Therapy Resources...\n",
            "Extracted 15 external links for condition Occupational Therapy Resources...\n",
            "Failed for 0 links for condition Occupational Therapy Resources...\n",
            "Working on Odessa Brown Children's Clinic Resources...\n"
          ]
        },
        {
          "name": "stderr",
          "output_type": "stream",
          "text": [
            "100%|██████████| 300/300 [01:32<00:00,  3.24it/s]\n"
          ]
        },
        {
          "name": "stdout",
          "output_type": "stream",
          "text": [
            "Extracted 71 PDFs for condition Odessa Brown Children's Clinic Resources...\n",
            "Extracted 31 videos for condition Odessa Brown Children's Clinic Resources...\n",
            "Extracted 147 internal links for condition Odessa Brown Children's Clinic Resources...\n",
            "Extracted 81 external links for condition Odessa Brown Children's Clinic Resources...\n",
            "Failed for 0 links for condition Odessa Brown Children's Clinic Resources...\n",
            "Working on Ophthalmology Resources...\n"
          ]
        },
        {
          "name": "stderr",
          "output_type": "stream",
          "text": [
            "100%|██████████| 133/133 [00:41<00:00,  3.18it/s]\n"
          ]
        },
        {
          "name": "stdout",
          "output_type": "stream",
          "text": [
            "Extracted 26 PDFs for condition Ophthalmology Resources...\n",
            "Extracted 1 videos for condition Ophthalmology Resources...\n",
            "Extracted 90 internal links for condition Ophthalmology Resources...\n",
            "Extracted 17 external links for condition Ophthalmology Resources...\n",
            "Failed for 0 links for condition Ophthalmology Resources...\n",
            "Working on Oral and Maxillofacial Surgery Resources...\n"
          ]
        },
        {
          "name": "stderr",
          "output_type": "stream",
          "text": [
            "100%|██████████| 136/136 [00:06<00:00, 21.57it/s]\n"
          ]
        },
        {
          "name": "stdout",
          "output_type": "stream",
          "text": [
            "Extracted 16 PDFs for condition Oral and Maxillofacial Surgery Resources...\n",
            "Extracted 1 videos for condition Oral and Maxillofacial Surgery Resources...\n",
            "Extracted 102 internal links for condition Oral and Maxillofacial Surgery Resources...\n",
            "Extracted 18 external links for condition Oral and Maxillofacial Surgery Resources...\n",
            "Failed for 0 links for condition Oral and Maxillofacial Surgery Resources...\n",
            "Working on Orthopedics and Sports Medicine Resources...\n"
          ]
        },
        {
          "name": "stderr",
          "output_type": "stream",
          "text": [
            "100%|██████████| 336/336 [02:15<00:00,  2.47it/s]\n"
          ]
        },
        {
          "name": "stdout",
          "output_type": "stream",
          "text": [
            "Extracted 126 PDFs for condition Orthopedics and Sports Medicine Resources...\n",
            "Extracted 1 videos for condition Orthopedics and Sports Medicine Resources...\n",
            "Extracted 160 internal links for condition Orthopedics and Sports Medicine Resources...\n",
            "Extracted 50 external links for condition Orthopedics and Sports Medicine Resources...\n",
            "Failed for 0 links for condition Orthopedics and Sports Medicine Resources...\n",
            "Working on Orthotics and Prosthetics Resources...\n"
          ]
        },
        {
          "name": "stderr",
          "output_type": "stream",
          "text": [
            "100%|██████████| 169/169 [01:51<00:00,  1.52it/s]\n"
          ]
        },
        {
          "name": "stdout",
          "output_type": "stream",
          "text": [
            "Extracted 49 PDFs for condition Orthotics and Prosthetics Resources...\n",
            "Extracted 1 videos for condition Orthotics and Prosthetics Resources...\n",
            "Extracted 104 internal links for condition Orthotics and Prosthetics Resources...\n",
            "Extracted 16 external links for condition Orthotics and Prosthetics Resources...\n",
            "Failed for 0 links for condition Orthotics and Prosthetics Resources...\n",
            "Working on Otolaryngology Resources...\n"
          ]
        },
        {
          "name": "stderr",
          "output_type": "stream",
          "text": [
            "100%|██████████| 260/260 [02:51<00:00,  1.52it/s]\n"
          ]
        },
        {
          "name": "stdout",
          "output_type": "stream",
          "text": [
            "Extracted 128 PDFs for condition Otolaryngology Resources...\n",
            "Extracted 1 videos for condition Otolaryngology Resources...\n",
            "Extracted 107 internal links for condition Otolaryngology Resources...\n",
            "Extracted 25 external links for condition Otolaryngology Resources...\n",
            "Failed for 0 links for condition Otolaryngology Resources...\n",
            "Working on Pain Medicine Resources...\n"
          ]
        },
        {
          "name": "stderr",
          "output_type": "stream",
          "text": [
            "100%|██████████| 175/175 [00:24<00:00,  7.23it/s]\n"
          ]
        },
        {
          "name": "stdout",
          "output_type": "stream",
          "text": [
            "Extracted 50 PDFs for condition Pain Medicine Resources...\n",
            "Extracted 3 videos for condition Pain Medicine Resources...\n",
            "Extracted 100 internal links for condition Pain Medicine Resources...\n",
            "Extracted 25 external links for condition Pain Medicine Resources...\n",
            "Failed for 0 links for condition Pain Medicine Resources...\n",
            "Working on Palliative Care Resources...\n"
          ]
        },
        {
          "name": "stderr",
          "output_type": "stream",
          "text": [
            "100%|██████████| 123/123 [00:00<00:00, 478570.86it/s]\n"
          ]
        },
        {
          "name": "stdout",
          "output_type": "stream",
          "text": [
            "Extracted 0 PDFs for condition Palliative Care Resources...\n",
            "Extracted 2 videos for condition Palliative Care Resources...\n",
            "Extracted 95 internal links for condition Palliative Care Resources...\n",
            "Extracted 28 external links for condition Palliative Care Resources...\n",
            "Failed for 0 links for condition Palliative Care Resources...\n",
            "Working on Pediatric Feeding Resources...\n"
          ]
        },
        {
          "name": "stderr",
          "output_type": "stream",
          "text": [
            "100%|██████████| 138/138 [00:56<00:00,  2.43it/s]\n"
          ]
        },
        {
          "name": "stdout",
          "output_type": "stream",
          "text": [
            "Extracted 22 PDFs for condition Pediatric Feeding Resources...\n",
            "Extracted 6 videos for condition Pediatric Feeding Resources...\n",
            "Extracted 96 internal links for condition Pediatric Feeding Resources...\n",
            "Extracted 20 external links for condition Pediatric Feeding Resources...\n",
            "Failed for 0 links for condition Pediatric Feeding Resources...\n",
            "Working on Pediatric Hypertension Resources...\n"
          ]
        },
        {
          "name": "stderr",
          "output_type": "stream",
          "text": [
            "100%|██████████| 106/106 [00:03<00:00, 28.23it/s]\n"
          ]
        },
        {
          "name": "stdout",
          "output_type": "stream",
          "text": [
            "Extracted 6 PDFs for condition Pediatric Hypertension Resources...\n",
            "Extracted 1 videos for condition Pediatric Hypertension Resources...\n",
            "Extracted 84 internal links for condition Pediatric Hypertension Resources...\n",
            "Extracted 16 external links for condition Pediatric Hypertension Resources...\n",
            "Failed for 0 links for condition Pediatric Hypertension Resources...\n",
            "Working on Pediatric Intensive Care Unit (PICU) Resources...\n"
          ]
        },
        {
          "name": "stderr",
          "output_type": "stream",
          "text": [
            "100%|██████████| 158/158 [00:14<00:00, 10.91it/s]\n"
          ]
        },
        {
          "name": "stdout",
          "output_type": "stream",
          "text": [
            "Extracted 11 PDFs for condition Pediatric Intensive Care Unit (PICU) Resources...\n",
            "Extracted 1 videos for condition Pediatric Intensive Care Unit (PICU) Resources...\n",
            "Extracted 132 internal links for condition Pediatric Intensive Care Unit (PICU) Resources...\n",
            "Extracted 15 external links for condition Pediatric Intensive Care Unit (PICU) Resources...\n",
            "Failed for 0 links for condition Pediatric Intensive Care Unit (PICU) Resources...\n",
            "Working on Pediatric and Adolescent Gynecology Resources...\n"
          ]
        },
        {
          "name": "stderr",
          "output_type": "stream",
          "text": [
            "100%|██████████| 150/150 [00:17<00:00,  8.67it/s]\n"
          ]
        },
        {
          "name": "stdout",
          "output_type": "stream",
          "text": [
            "Extracted 19 PDFs for condition Pediatric and Adolescent Gynecology Resources...\n",
            "Extracted 1 videos for condition Pediatric and Adolescent Gynecology Resources...\n",
            "Extracted 109 internal links for condition Pediatric and Adolescent Gynecology Resources...\n",
            "Extracted 22 external links for condition Pediatric and Adolescent Gynecology Resources...\n",
            "Failed for 0 links for condition Pediatric and Adolescent Gynecology Resources...\n",
            "Working on Physical Therapy Resources...\n"
          ]
        },
        {
          "name": "stderr",
          "output_type": "stream",
          "text": [
            "100%|██████████| 230/230 [02:01<00:00,  1.89it/s]\n"
          ]
        },
        {
          "name": "stdout",
          "output_type": "stream",
          "text": [
            "Extracted 111 PDFs for condition Physical Therapy Resources...\n",
            "Extracted 1 videos for condition Physical Therapy Resources...\n",
            "Extracted 104 internal links for condition Physical Therapy Resources...\n",
            "Extracted 15 external links for condition Physical Therapy Resources...\n",
            "Failed for 1 links for condition Physical Therapy Resources...\n",
            "Working on Plastic Surgery Resources...\n"
          ]
        },
        {
          "name": "stderr",
          "output_type": "stream",
          "text": [
            "100%|██████████| 144/144 [00:43<00:00,  3.31it/s]\n"
          ]
        },
        {
          "name": "stdout",
          "output_type": "stream",
          "text": [
            "Extracted 31 PDFs for condition Plastic Surgery Resources...\n",
            "Extracted 1 videos for condition Plastic Surgery Resources...\n",
            "Extracted 92 internal links for condition Plastic Surgery Resources...\n",
            "Extracted 21 external links for condition Plastic Surgery Resources...\n",
            "Failed for 0 links for condition Plastic Surgery Resources...\n",
            "Working on Psychiatry and Behavioral Medicine Resources...\n"
          ]
        },
        {
          "name": "stderr",
          "output_type": "stream",
          "text": [
            "100%|██████████| 420/420 [04:28<00:00,  1.56it/s]\n"
          ]
        },
        {
          "name": "stdout",
          "output_type": "stream",
          "text": [
            "Extracted 188 PDFs for condition Psychiatry and Behavioral Medicine Resources...\n",
            "Extracted 10 videos for condition Psychiatry and Behavioral Medicine Resources...\n",
            "Extracted 153 internal links for condition Psychiatry and Behavioral Medicine Resources...\n",
            "Extracted 78 external links for condition Psychiatry and Behavioral Medicine Resources...\n",
            "Failed for 0 links for condition Psychiatry and Behavioral Medicine Resources...\n",
            "Working on Pulmonary Resources...\n"
          ]
        },
        {
          "name": "stderr",
          "output_type": "stream",
          "text": [
            "100%|██████████| 346/346 [04:19<00:00,  1.33it/s]\n"
          ]
        },
        {
          "name": "stdout",
          "output_type": "stream",
          "text": [
            "Extracted 221 PDFs for condition Pulmonary Resources...\n",
            "Extracted 3 videos for condition Pulmonary Resources...\n",
            "Extracted 100 internal links for condition Pulmonary Resources...\n",
            "Extracted 24 external links for condition Pulmonary Resources...\n",
            "Failed for 9 links for condition Pulmonary Resources...\n",
            "Working on Radiology Resources...\n"
          ]
        },
        {
          "name": "stderr",
          "output_type": "stream",
          "text": [
            "100%|██████████| 167/167 [00:24<00:00,  6.83it/s]\n"
          ]
        },
        {
          "name": "stdout",
          "output_type": "stream",
          "text": [
            "Extracted 53 PDFs for condition Radiology Resources...\n",
            "Extracted 5 videos for condition Radiology Resources...\n",
            "Extracted 93 internal links for condition Radiology Resources...\n",
            "Extracted 21 external links for condition Radiology Resources...\n",
            "Failed for 0 links for condition Radiology Resources...\n",
            "Working on Reconstructive Pelvic Medicine Resources...\n"
          ]
        },
        {
          "name": "stderr",
          "output_type": "stream",
          "text": [
            "100%|██████████| 194/194 [01:16<00:00,  2.55it/s]\n"
          ]
        },
        {
          "name": "stdout",
          "output_type": "stream",
          "text": [
            "Extracted 46 PDFs for condition Reconstructive Pelvic Medicine Resources...\n",
            "Extracted 2 videos for condition Reconstructive Pelvic Medicine Resources...\n",
            "Extracted 113 internal links for condition Reconstructive Pelvic Medicine Resources...\n",
            "Extracted 35 external links for condition Reconstructive Pelvic Medicine Resources...\n",
            "Failed for 0 links for condition Reconstructive Pelvic Medicine Resources...\n",
            "Working on Rehabilitation Medicine Resources...\n"
          ]
        },
        {
          "name": "stderr",
          "output_type": "stream",
          "text": [
            "100%|██████████| 166/166 [00:25<00:00,  6.53it/s]\n"
          ]
        },
        {
          "name": "stdout",
          "output_type": "stream",
          "text": [
            "Extracted 12 PDFs for condition Rehabilitation Medicine Resources...\n",
            "Extracted 1 videos for condition Rehabilitation Medicine Resources...\n",
            "Extracted 125 internal links for condition Rehabilitation Medicine Resources...\n",
            "Extracted 29 external links for condition Rehabilitation Medicine Resources...\n",
            "Failed for 0 links for condition Rehabilitation Medicine Resources...\n",
            "Working on Rehabilitation Psychology Resources...\n"
          ]
        },
        {
          "name": "stderr",
          "output_type": "stream",
          "text": [
            "100%|██████████| 164/164 [00:04<00:00, 35.92it/s]\n"
          ]
        },
        {
          "name": "stdout",
          "output_type": "stream",
          "text": [
            "Extracted 9 PDFs for condition Rehabilitation Psychology Resources...\n",
            "Extracted 1 videos for condition Rehabilitation Psychology Resources...\n",
            "Extracted 113 internal links for condition Rehabilitation Psychology Resources...\n",
            "Extracted 42 external links for condition Rehabilitation Psychology Resources...\n",
            "Failed for 0 links for condition Rehabilitation Psychology Resources...\n",
            "Working on Reproductive and Sexual Health Resources...\n"
          ]
        },
        {
          "name": "stderr",
          "output_type": "stream",
          "text": [
            "100%|██████████| 126/126 [00:03<00:00, 35.88it/s]\n"
          ]
        },
        {
          "name": "stdout",
          "output_type": "stream",
          "text": [
            "Extracted 10 PDFs for condition Reproductive and Sexual Health Resources...\n",
            "Extracted 1 videos for condition Reproductive and Sexual Health Resources...\n",
            "Extracted 98 internal links for condition Reproductive and Sexual Health Resources...\n",
            "Extracted 18 external links for condition Reproductive and Sexual Health Resources...\n",
            "Failed for 0 links for condition Reproductive and Sexual Health Resources...\n",
            "Working on Rheumatology Resources...\n"
          ]
        },
        {
          "name": "stderr",
          "output_type": "stream",
          "text": [
            "100%|██████████| 167/167 [00:09<00:00, 18.13it/s]\n"
          ]
        },
        {
          "name": "stdout",
          "output_type": "stream",
          "text": [
            "Extracted 21 PDFs for condition Rheumatology Resources...\n",
            "Extracted 1 videos for condition Rheumatology Resources...\n",
            "Extracted 105 internal links for condition Rheumatology Resources...\n",
            "Extracted 41 external links for condition Rheumatology Resources...\n",
            "Failed for 0 links for condition Rheumatology Resources...\n",
            "Working on Seattle Children’s Resources...\n"
          ]
        },
        {
          "name": "stderr",
          "output_type": "stream",
          "text": [
            "100%|██████████| 149/149 [00:53<00:00,  2.80it/s]\n"
          ]
        },
        {
          "name": "stdout",
          "output_type": "stream",
          "text": [
            "Extracted 44 PDFs for condition Seattle Children’s Resources...\n",
            "Extracted 1 videos for condition Seattle Children’s Resources...\n",
            "Extracted 89 internal links for condition Seattle Children’s Resources...\n",
            "Extracted 16 external links for condition Seattle Children’s Resources...\n",
            "Failed for 0 links for condition Seattle Children’s Resources...\n",
            "Working on Sleep Medicine Resources...\n"
          ]
        },
        {
          "name": "stderr",
          "output_type": "stream",
          "text": [
            "100%|██████████| 213/213 [02:06<00:00,  1.68it/s]\n"
          ]
        },
        {
          "name": "stdout",
          "output_type": "stream",
          "text": [
            "Extracted 85 PDFs for condition Sleep Medicine Resources...\n",
            "Extracted 1 videos for condition Sleep Medicine Resources...\n",
            "Extracted 103 internal links for condition Sleep Medicine Resources...\n",
            "Extracted 25 external links for condition Sleep Medicine Resources...\n",
            "Failed for 0 links for condition Sleep Medicine Resources...\n",
            "Working on Social Work Resources...\n"
          ]
        },
        {
          "name": "stderr",
          "output_type": "stream",
          "text": [
            "100%|██████████| 125/125 [00:01<00:00, 66.79it/s]\n"
          ]
        },
        {
          "name": "stdout",
          "output_type": "stream",
          "text": [
            "Extracted 8 PDFs for condition Social Work Resources...\n",
            "Extracted 1 videos for condition Social Work Resources...\n",
            "Extracted 95 internal links for condition Social Work Resources...\n",
            "Extracted 22 external links for condition Social Work Resources...\n",
            "Failed for 0 links for condition Social Work Resources...\n",
            "Working on Speech and Language Resources...\n"
          ]
        },
        {
          "name": "stderr",
          "output_type": "stream",
          "text": [
            "100%|██████████| 216/216 [00:49<00:00,  4.40it/s]\n"
          ]
        },
        {
          "name": "stdout",
          "output_type": "stream",
          "text": [
            "Extracted 67 PDFs for condition Speech and Language Resources...\n",
            "Extracted 4 videos for condition Speech and Language Resources...\n",
            "Extracted 113 internal links for condition Speech and Language Resources...\n",
            "Extracted 36 external links for condition Speech and Language Resources...\n",
            "Failed for 0 links for condition Speech and Language Resources...\n",
            "Working on Sports Physical Therapy Resources...\n"
          ]
        },
        {
          "name": "stderr",
          "output_type": "stream",
          "text": [
            "100%|██████████| 188/188 [01:09<00:00,  2.70it/s]\n"
          ]
        },
        {
          "name": "stdout",
          "output_type": "stream",
          "text": [
            "Extracted 40 PDFs for condition Sports Physical Therapy Resources...\n",
            "Extracted 1 videos for condition Sports Physical Therapy Resources...\n",
            "Extracted 125 internal links for condition Sports Physical Therapy Resources...\n",
            "Extracted 23 external links for condition Sports Physical Therapy Resources...\n",
            "Failed for 0 links for condition Sports Physical Therapy Resources...\n",
            "Working on Transplant Resources...\n"
          ]
        },
        {
          "name": "stderr",
          "output_type": "stream",
          "text": [
            "100%|██████████| 150/150 [00:08<00:00, 17.80it/s]\n"
          ]
        },
        {
          "name": "stdout",
          "output_type": "stream",
          "text": [
            "Extracted 10 PDFs for condition Transplant Resources...\n",
            "Extracted 2 videos for condition Transplant Resources...\n",
            "Extracted 99 internal links for condition Transplant Resources...\n",
            "Extracted 41 external links for condition Transplant Resources...\n",
            "Failed for 0 links for condition Transplant Resources...\n",
            "Working on Urology Resources...\n"
          ]
        },
        {
          "name": "stderr",
          "output_type": "stream",
          "text": [
            "100%|██████████| 386/386 [05:00<00:00,  1.29it/s]\n"
          ]
        },
        {
          "name": "stdout",
          "output_type": "stream",
          "text": [
            "Extracted 238 PDFs for condition Urology Resources...\n",
            "Extracted 2 videos for condition Urology Resources...\n",
            "Extracted 110 internal links for condition Urology Resources...\n",
            "Extracted 38 external links for condition Urology Resources...\n",
            "Failed for 0 links for condition Urology Resources...\n",
            "Working on Vascular Anomalies Resources...\n"
          ]
        },
        {
          "name": "stderr",
          "output_type": "stream",
          "text": [
            "100%|██████████| 168/168 [00:25<00:00,  6.72it/s]\n"
          ]
        },
        {
          "name": "stdout",
          "output_type": "stream",
          "text": [
            "Extracted 24 PDFs for condition Vascular Anomalies Resources...\n",
            "Extracted 1 videos for condition Vascular Anomalies Resources...\n",
            "Extracted 114 internal links for condition Vascular Anomalies Resources...\n",
            "Extracted 30 external links for condition Vascular Anomalies Resources...\n",
            "Failed for 0 links for condition Vascular Anomalies Resources...\n",
            "Working on Vascular Access...\n"
          ]
        },
        {
          "name": "stderr",
          "output_type": "stream",
          "text": [
            "100%|██████████| 240/240 [02:25<00:00,  1.65it/s]"
          ]
        },
        {
          "name": "stdout",
          "output_type": "stream",
          "text": [
            "Extracted 117 PDFs for condition Vascular Access...\n",
            "Extracted 17 videos for condition Vascular Access...\n",
            "Extracted 89 internal links for condition Vascular Access...\n",
            "Extracted 33 external links for condition Vascular Access...\n",
            "Failed for 0 links for condition Vascular Access...\n"
          ]
        },
        {
          "name": "stderr",
          "output_type": "stream",
          "text": [
            "\n"
          ]
        }
      ],
      "source": [
        "for condition_name in pages.keys():\n",
        "    print(f\"Working on {condition_name}...\")\n",
        "    extract_pdfs_videos_hyperlinks(condition_name, pages, PDFS_BUCKET_NAME)"
      ]
    },
    {
      "cell_type": "code",
      "execution_count": null,
      "id": "Mgf_ht0WqjDg",
      "metadata": {
        "colab": {
          "base_uri": "https://localhost:8080/"
        },
        "id": "Mgf_ht0WqjDg",
        "outputId": "46017984-11f7-49d1-dcf5-49f29d623e97"
      },
      "outputs": [
        {
          "name": "stdout",
          "output_type": "stream",
          "text": [
            "72 pages have been parsed from the Patient Education website ...\n"
          ]
        }
      ],
      "source": [
        "print(f\"{len(pages)} pages have been parsed from the Patient Education website ...\")"
      ]
    },
    {
      "cell_type": "code",
      "execution_count": null,
      "id": "4wfhvXLGqys_",
      "metadata": {
        "colab": {
          "base_uri": "https://localhost:8080/"
        },
        "id": "4wfhvXLGqys_",
        "outputId": "5620eec1-61b3-4af5-e7ba-67e10f98605e"
      },
      "outputs": [
        {
          "name": "stdout",
          "output_type": "stream",
          "text": [
            "4397 pdfs have been extracted from the Patient Education website ...\n",
            "267 videos have been extracted from the Patient Education website ...\n",
            "7829 internal_links have been extracted from the Patient Education website ...\n",
            "2741 external_links have been extracted from the Patient Education website ...\n"
          ]
        }
      ],
      "source": [
        "for artifact_type in ['pdfs', 'videos', 'internal_links', 'external_links']:\n",
        "    count = sum([len(condition[artifact_type]) for condition in pages.values()])\n",
        "    print(f\"{count} {artifact_type} have been extracted from the Patient Education website ...\")"
      ]
    },
    {
      "cell_type": "markdown",
      "id": "cBCxgqseqAL9",
      "metadata": {
        "id": "cBCxgqseqAL9"
      },
      "source": [
        "Ok so now let's save the pages dictionary as a JSON file."
      ]
    },
    {
      "cell_type": "code",
      "execution_count": null,
      "id": "vLV6j67sqELc",
      "metadata": {
        "id": "vLV6j67sqELc"
      },
      "outputs": [],
      "source": [
        "with open(\"pages.json\", \"w\") as f:\n",
        "    json.dump(pages, f)"
      ]
    },
    {
      "cell_type": "markdown",
      "id": "GP9I-lbKqNwi",
      "metadata": {
        "id": "GP9I-lbKqNwi"
      },
      "source": [
        "We can also duplicate it in the GSC bucket used for the PDF extractions."
      ]
    },
    {
      "cell_type": "code",
      "execution_count": null,
      "id": "aKUEQ11XqVML",
      "metadata": {
        "colab": {
          "base_uri": "https://localhost:8080/"
        },
        "id": "aKUEQ11XqVML",
        "outputId": "d1153ec1-6391-418a-d686-71fb368f1486"
      },
      "outputs": [
        {
          "name": "stdout",
          "output_type": "stream",
          "text": [
            "Copying file://pages.json [Content-Type=application/json]...\n",
            "/ [0 files][    0.0 B/  1.7 MiB]                                                \r/ [1 files][  1.7 MiB/  1.7 MiB]                                                \r\n",
            "Operation completed over 1 objects/1.7 MiB.                                      \n"
          ]
        }
      ],
      "source": [
        "# upload the pages.json to GSC bucket\n",
        "!gsutil cp patient_education_pages.json gs://{PDFS_BUCKET_NAME}/patient_education_pages.json"
      ]
    },
    {
      "cell_type": "markdown",
      "id": "klii7rhm5E74",
      "metadata": {
        "id": "klii7rhm5E74"
      },
      "source": [
        "## 02- Conditions website"
      ]
    },
    {
      "cell_type": "markdown",
      "id": "I3q6A-lTBvAa",
      "metadata": {
        "id": "I3q6A-lTBvAa"
      },
      "source": [
        "The conditions webpages contain a lot of information available as text content. The number of embedded PDF documnents is low.\n",
        "\n",
        "- The knowledge extraction is focus on the text content. The text content is organized in chunks created from the pages hierarchy.\n",
        "\n",
        "- The external and internal hyperlinks are also referenced for each page."
      ]
    },
    {
      "cell_type": "markdown",
      "id": "MWBUzFiW-fwq",
      "metadata": {
        "id": "MWBUzFiW-fwq"
      },
      "source": [
        "### 02-01- Pages Extraction"
      ]
    },
    {
      "cell_type": "markdown",
      "id": "lbjDuSvo-kF8",
      "metadata": {
        "id": "lbjDuSvo-kF8"
      },
      "source": [
        "This section of the notebook extracts the list of conditions pages from the index page available in the Seattle Children website."
      ]
    },
    {
      "cell_type": "code",
      "execution_count": null,
      "id": "BnzlOLKo-nXV",
      "metadata": {
        "id": "BnzlOLKo-nXV"
      },
      "outputs": [],
      "source": [
        "def extract_conditions_collection(url: str) -> dict:\n",
        "    \"\"\"\n",
        "    Extract the collection of conditions pages\n",
        "    :param url: url of the index page\n",
        "    :return: a dictionary with the conditions names and urls\n",
        "    \"\"\"\n",
        "\n",
        "    # prefix for the links\n",
        "    prefix = \"https://www.seattlechildrens.org\"\n",
        "\n",
        "    # get the source of the page\n",
        "    response = requests.get(url)\n",
        "    response.raise_for_status()  # Raise an exception for bad status codes\n",
        "    soup = BeautifulSoup(response.content, 'html.parser')\n",
        "\n",
        "    # list the links corresponding to the conditions pages\n",
        "    conditions_pages = {\n",
        "        a.text: prefix+a.get('href') for a in soup.find_all('a', href=True) if a.get('href').startswith(\"/conditions\")\n",
        "    }\n",
        "\n",
        "    return conditions_pages"
      ]
    },
    {
      "cell_type": "code",
      "execution_count": null,
      "id": "dAHdvL4s-sCZ",
      "metadata": {
        "id": "dAHdvL4s-sCZ"
      },
      "outputs": [],
      "source": [
        "conditions_pages = extract_conditions_collection(\"https://www.seattlechildrens.org/conditions/a-z/\")"
      ]
    },
    {
      "cell_type": "code",
      "execution_count": null,
      "id": "mzmLL8rh-5kc",
      "metadata": {
        "colab": {
          "base_uri": "https://localhost:8080/"
        },
        "id": "mzmLL8rh-5kc",
        "outputId": "87161093-5572-4947-acd4-099851a814cf"
      },
      "outputs": [
        {
          "name": "stdout",
          "output_type": "stream",
          "text": [
            "There are 392 Condition pages in the collection...\n"
          ]
        }
      ],
      "source": [
        "print(f\"There are {len(conditions_pages)} Condition pages in the collection...\")"
      ]
    },
    {
      "cell_type": "markdown",
      "id": "L_Wdf83VN4R7",
      "metadata": {
        "id": "L_Wdf83VN4R7"
      },
      "source": [
        "### 02-02- Content Extraction and Chunking"
      ]
    },
    {
      "cell_type": "markdown",
      "id": "BPGv_ux7RKNU",
      "metadata": {
        "id": "BPGv_ux7RKNU"
      },
      "source": [
        "The schema for the page object is slightly different as the one used for the Patient Education pages, because there are more information to be extracted from the Conditions pages and also to include the references to the chunks."
      ]
    },
    {
      "cell_type": "code",
      "execution_count": null,
      "id": "7lyq_GmsN84N",
      "metadata": {
        "id": "7lyq_GmsN84N"
      },
      "outputs": [],
      "source": [
        "def chunk_markdown(markdown_content: str, links: dict) -> list:\n",
        "    \"\"\"\n",
        "    Chunk the markdown content\n",
        "    :param markdown_content: content in markdown format\n",
        "    :param links: dictionary containing the links extracted from content\n",
        "    :return: list of chunks\n",
        "    \"\"\"\n",
        "\n",
        "    # list of chunks\n",
        "    chunks = []\n",
        "\n",
        "    # chunking is based on the mardown layout\n",
        "    lines = markdown_content.split(\"\\n\")\n",
        "\n",
        "    # current chunk\n",
        "    current_id = -1\n",
        "    def default_chunk():\n",
        "        return {\n",
        "            \"id\": current_id + 1,\n",
        "            \"unique_id\": str(uuid.uuid4()),\n",
        "            \"content\": \"\",\n",
        "            \"parent_id\": None,\n",
        "            \"url_links\": [],\n",
        "            \"is_root\": False,\n",
        "            \"kind\": \"chunk\"\n",
        "        }\n",
        "\n",
        "    # init the different artifacts\n",
        "    current_chunk = default_chunk()\n",
        "    hierarchy_ids = dict()\n",
        "\n",
        "    # fill the chunks line by line\n",
        "    for i, line in enumerate(lines):\n",
        "        if len(line)>0:\n",
        "\n",
        "            # Markdown layour drives the chunks content\n",
        "            hashtag_count = line[:10].count(\"#\")\n",
        "\n",
        "            if hashtag_count == 0:\n",
        "                current_chunk['content'] += \"\\n\" + line\n",
        "\n",
        "                # gather the found links\n",
        "                for link in links:\n",
        "                    if link in line:\n",
        "                        current_chunk['url_links'].append(links[link])\n",
        "            else:\n",
        "                current_chunk['url_links'] = list(set(current_chunk['url_links']))\n",
        "                chunks.append(current_chunk)\n",
        "                current_chunk = default_chunk()\n",
        "                current_chunk['content'] += line + \"\\n\"\n",
        "                hierarchy_ids[hashtag_count] = current_chunk['id']\n",
        "\n",
        "                if hashtag_count == 1:\n",
        "                    current_chunk['is_root'] = True\n",
        "                else:\n",
        "                    if hashtag_count == 2:\n",
        "                        current_chunk['parent_id'] = 0\n",
        "                    elif hashtag_count > 2:\n",
        "                        if hashtag_count-1 in hierarchy_ids:\n",
        "                            current_chunk['parent_id'] = hierarchy_ids[hashtag_count-1]\n",
        "                        else:\n",
        "                            current_chunk['parent_id'] = hierarchy_ids[min(hierarchy_ids.keys())]\n",
        "\n",
        "                # gather the found links\n",
        "                for link in links:\n",
        "                    if link in line:\n",
        "                        current_chunk['url_links'].append(links[link])\n",
        "\n",
        "                # incrementing the id counter for next chunk\n",
        "                current_id = current_chunk['id']\n",
        "    chunks.append(current_chunk)\n",
        "    return chunks[1:]"
      ]
    },
    {
      "cell_type": "code",
      "execution_count": null,
      "id": "EHzdhKH9N-G1",
      "metadata": {
        "id": "EHzdhKH9N-G1"
      },
      "outputs": [],
      "source": [
        "def extract_from_page(url: str) -> dict:\n",
        "    \"\"\"\n",
        "    Extract knowledge from Conditions Page.\n",
        "    :param url: url of the condition page\n",
        "    :return: content and metadata as dictionary\n",
        "    \"\"\"\n",
        "\n",
        "    # prefix for the links\n",
        "    prefix = \"https://www.seattlechildrens.org\"\n",
        "\n",
        "    # get the source of the page\n",
        "    response = requests.get(url)\n",
        "    response.raise_for_status()  # Raise an exception for bad status codes\n",
        "    soup = BeautifulSoup(response.content, 'html.parser')\n",
        "\n",
        "    # extract the title of the page\n",
        "    title = soup.find('div', class_=\"mod page-title\")\n",
        "    if title:\n",
        "        title = title.find('h1').text\n",
        "        title_content = f\"# {title}\"\n",
        "    else:\n",
        "        title = \"Title Not Found\"\n",
        "\n",
        "    # treate the accordeons\n",
        "    div_elements = soup.find_all('div', class_='accordion-header heading4 js-accordion-header')\n",
        "    for div_tag in div_elements:\n",
        "        new_h3_tag = soup.new_tag('h3')\n",
        "        new_h3_tag.extend(div_tag.contents)\n",
        "        div_tag.replace_with(new_h3_tag)\n",
        "    div_elements = soup.find_all('div', class_='accordion-more js-accordion-more')\n",
        "    for div_tag in div_elements:\n",
        "        div_tag.unwrap()\n",
        "    uv_elements = soup.find_all('ul', class_='accordion accordion--classic js-accordion')\n",
        "    for uv_element in uv_elements:\n",
        "        uv_element.unwrap()\n",
        "    li_elements = soup.find_all('li', class_='accordion-item js-accordion-item')\n",
        "    for li_element in li_elements:\n",
        "        li_element.unwrap()\n",
        "\n",
        "    # extract the main content of the page\n",
        "    main_content = soup.find('div', class_=\"main-content-body\")\n",
        "\n",
        "    if main_content:\n",
        "\n",
        "        markdown_content = convert_to_markdown(\n",
        "            main_content,\n",
        "            heading_style='atx',\n",
        "            escape_asterisks=True\n",
        "        )\n",
        "\n",
        "        link_regex = re.compile(r'(!?\\[[(^)\\]]*\\])\\((.*?)\\)')\n",
        "        link_matches = link_regex.findall(markdown_content)\n",
        "        if link_matches:\n",
        "            for link_match in link_matches:\n",
        "                target = link_match[1]\n",
        "                if target.startswith(\"http\"):\n",
        "                    prefixed_target = target\n",
        "                else:\n",
        "                    prefixed_target = prefix + target\n",
        "                pattern = r\"\\(\" + target.replace(\"/\", \"\\\\/\") + \"\\\\)\"\n",
        "                markdown_content = re.sub(pattern, f\"({prefixed_target})\", markdown_content)\n",
        "    else:\n",
        "        markdown_content = \"Main content not found\"\n",
        "\n",
        "    # copyrights\n",
        "    copyright = soup.find('p', class_=\"ho-psmall\")\n",
        "    if copyright:\n",
        "        copyright = copyright.text\n",
        "    else:\n",
        "        copyright = \"Copyright not found\"\n",
        "\n",
        "    # extract links\n",
        "    def clean_link(link_value: str):\n",
        "        link_value = link_value.replace(\"\\r\\n\", \"\").strip()\n",
        "        return link_value\n",
        "\n",
        "    # Links parsing for page and chunks\n",
        "    links = []\n",
        "    internal_links = []\n",
        "    external_links = []\n",
        "    if main_content:\n",
        "        internal_links = [prefix+a.get('href') for a in main_content.find_all('a', href=True) if not a.get('href').startswith(\"http\")]\n",
        "        external_links = [a.get('href') for a in main_content.find_all('a', href=True) if a.get('href').startswith(\"http\")]\n",
        "        links = {\n",
        "            clean_link(a.text): prefix+a.get('href') for a in main_content.find_all('a', href=True)\n",
        "        }\n",
        "\n",
        "    # create the page content dictionary\n",
        "    page_content = {\n",
        "        \"unique_id\": str(uuid.uuid4()),\n",
        "        \"title\": title,\n",
        "        \"content\": title_content + markdown_content,\n",
        "        \"copyright\": copyright,\n",
        "        \"chunks\": chunk_markdown(title_content + markdown_content, links),\n",
        "        \"kind\": \"page\",\n",
        "        \"external_links\": external_links,\n",
        "        \"internal_links\": internal_links\n",
        "    }\n",
        "\n",
        "    return page_content"
      ]
    },
    {
      "cell_type": "code",
      "execution_count": null,
      "id": "lVpdNIyGSex-",
      "metadata": {
        "id": "lVpdNIyGSex-"
      },
      "outputs": [],
      "source": [
        "test = extract_from_page(conditions_pages['22q11.2-Related Disorders'])"
      ]
    },
    {
      "cell_type": "code",
      "execution_count": null,
      "id": "mBDTtcT1Yl7w",
      "metadata": {
        "colab": {
          "base_uri": "https://localhost:8080/"
        },
        "id": "mBDTtcT1Yl7w",
        "outputId": "b6a59fe9-4f2d-435e-cc0c-ce52922b5a69"
      },
      "outputs": [
        {
          "name": "stdout",
          "output_type": "stream",
          "text": [
            "[{'content': '# 22q11.2-Related Disorders## What are 22q11\\\\.2\\\\-related '\n",
            "             'disorders?\\n'\n",
            "             '\\n'\n",
            "             '22q11\\\\.2\\\\-related disorders are caused by differences in part '\n",
            "             'of chromosome 22, called the q11\\\\.2 region. Chromosomes contain '\n",
            "             'genes, which tell our cells how to work and what proteins to '\n",
            "             'make. There are 23 pairs of chromosomes in each cell of the '\n",
            "             'body.\\n'\n",
            "             '22q11\\\\.2\\\\-related disorders happen in at least 1 in 1,000 '\n",
            "             'newborns.\\n'\n",
            "             'The symptoms differ widely, even among members of the same '\n",
            "             'family. There may be small differences in how your child’s '\n",
            "             'eyelids, nose and ears look.\\n'\n",
            "             'These conditions are linked to many health issues. They can '\n",
            "             'affect your child’s growth, feeding, breathing, speaking, '\n",
            "             'hearing, learning and mental health. But most children with '\n",
            "             '22q11\\\\.2\\\\-related disorders only have problems in some of '\n",
            "             'these areas.',\n",
            "  'id': 0,\n",
            "  'is_root': True,\n",
            "  'kind': 'chunk',\n",
            "  'parent_id': None,\n",
            "  'unique_id': '702902c2-e6c2-4997-a0cc-cff2c9d4bff2',\n",
            "  'url_links': ['https://www.seattlechildrens.org/clinics/psychiatry-and-behavioral-medicine/']},\n",
            " {'content': '### What causes 22q11\\\\.2\\\\-related disorders?\\n'\n",
            "             '\\n'\n",
            "             'These disorders happen because of changes in the 22q11\\\\.2 part '\n",
            "             'of chromosome 22\\\\. There may be extra genes, missing genes or '\n",
            "             'genes in the wrong place.\\n'\n",
            "             'Your child may:\\n'\n",
            "             '* Be **missing** a small part of chromosome 22 (22q11\\\\.2 '\n",
            "             'deletion syndrome).\\n'\n",
            "             '* Have **extra** genes in the q11\\\\.2 part of chromosome 22 '\n",
            "             '(22q11\\\\.2 duplication syndrome).\\n'\n",
            "             '* Have changes**near**the q11\\\\.2 part of chromosome 22 '\n",
            "             '(22q11\\\\.2 distal deletion disorder).\\n'\n",
            "             '* Have genes from 22q11\\\\.2 switch places with genes on another '\n",
            "             'chromosome (translocation).\\n'\n",
            "             '* Have a 22q11\\\\.2\\\\-related disorder**and**another genetic '\n",
            "             'syndrome.\\n'\n",
            "             'Whether the genetic change is new or inherited varies:\\n'\n",
            "             '* For 90% of children with 22q11\\\\.2 **deletion**, this is a new '\n",
            "             'genetic change (not passed down from a parent).\\n'\n",
            "             '* In 66% of children with 22q11\\\\.2 **duplication**, the genetic '\n",
            "             'change is passed from a parent.\\n'\n",
            "             'When people with 22q11\\\\.2 related disorders become parents, '\n",
            "             'they have a 50% chance of passing the condition to their child.',\n",
            "  'id': 1,\n",
            "  'is_root': False,\n",
            "  'kind': 'chunk',\n",
            "  'parent_id': 0,\n",
            "  'unique_id': 'dc19a8ff-1d8c-49df-8735-c905a02e723f',\n",
            "  'url_links': []},\n",
            " {'content': '### Other names for 22q11\\\\.2\\\\-related disorders\\n'\n",
            "             '\\n'\n",
            "             'There are many older names for these conditions. These names '\n",
            "             'were used before it was known that all are a form of the same '\n",
            "             'condition.\\n'\n",
            "             'All of these names have been replaced with “22q11\\\\.2\\\\-related '\n",
            "             'disorders:”\\n'\n",
            "             '* Velocardiofacial syndrome (VCFS)\\n'\n",
            "             '* DiGeorge syndrome\\n'\n",
            "             '* Shprintzen syndrome\\n'\n",
            "             '* Conotruncal anomaly unusual face syndrome\\n'\n",
            "             '* Cayler cardiofacial syndrome\\n'\n",
            "             '* Catch 22 syndrome\\n'\n",
            "             '---\\n'\n",
            "             '[22q11\\\\.2\\\\-Related Disorders Care at Seattle '\n",
            "             \"Children's](/clinics/craniofacial/services/22q-clinic/)\\n\"\n",
            "             'At the 22q Clinic, a team experienced with these conditions will '\n",
            "             'evaluate your child. We create a personalized care plan for your '\n",
            "             'child and bring in other experts to meet your child’s specific '\n",
            "             'needs.\\n'\n",
            "             '---',\n",
            "  'id': 2,\n",
            "  'is_root': False,\n",
            "  'kind': 'chunk',\n",
            "  'parent_id': 0,\n",
            "  'unique_id': 'e7e5c6d6-e382-4a43-8ccc-153bc9dc9bc2',\n",
            "  'url_links': ['https://www.seattlechildrens.org/clinics/craniofacial/services/22q-clinic/']},\n",
            " {'content': '## Symptoms of 22q11\\\\.2\\\\-Related Disorders\\n'\n",
            "             '\\n'\n",
            "             'Every child with a 22q11\\\\.2\\\\-related disorder is different.\\n'\n",
            "             'Some children have facial differences, including:\\n'\n",
            "             '* Eyelids that look hooded\\n'\n",
            "             '* A nose that is tube\\\\-shaped\\n'\n",
            "             '* Ears that are folded over more than normal at the edges\\n'\n",
            "             '* A face that looks long, with flat cheeks\\n'\n",
            "             '* A narrow mouth\\n'\n",
            "             'The 22q11\\\\.2\\\\-related disorders may cause problems with your '\n",
            "             'child’s:\\n'\n",
            "             '* Roof of the mouth (palate), including[cleft '\n",
            "             'palate](/conditions/cleft-lip-palate/ \"cleft palate\")\\n'\n",
            "             '* Ears, nose or throat\\n'\n",
            "             '* Heart\\n'\n",
            "             '* Infection\\\\-fighting immune system\\n'\n",
            "             '* Nervous system\\n'\n",
            "             '* Kidneys\\n'\n",
            "             '* Skeleton\\n'\n",
            "             '* Hormone\\\\-producing endocrine system\\n'\n",
            "             'These differences may affect your child’s growth, feeding, '\n",
            "             'breathing, speaking, hearing, learning or mental health.',\n",
            "  'id': 3,\n",
            "  'is_root': False,\n",
            "  'kind': 'chunk',\n",
            "  'parent_id': 0,\n",
            "  'unique_id': 'd3fbb656-1b31-4ce3-8bf2-4942c83cc57a',\n",
            "  'url_links': ['https://www.seattlechildrens.org/conditions/cleft-lip-palate/',\n",
            "                'https://www.seattlechildrens.org/clinics/psychiatry-and-behavioral-medicine/']},\n",
            " {'content': '## Diagnosing 22q11\\\\.2\\\\-Related Disorders\\n'\n",
            "             '\\n'\n",
            "             'Seattle Children’s has a [22q '\n",
            "             'Clinic](/clinics/craniofacial/services/22q-clinic/ \"22q Clinic\") '\n",
            "             'focused on diagnosing these conditions and helping families '\n",
            "             'manage them.',\n",
            "  'id': 4,\n",
            "  'is_root': False,\n",
            "  'kind': 'chunk',\n",
            "  'parent_id': 0,\n",
            "  'unique_id': '5ed7be9d-a90a-484c-9d6c-15a2a3b223b4',\n",
            "  'url_links': ['https://www.seattlechildrens.org/clinics/craniofacial/services/22q-clinic/']},\n",
            " {'content': '### Diagnosis before birth\\n'\n",
            "             '\\n'\n",
            "             'These conditions are sometimes diagnosed before birth. The tests '\n",
            "             'use different samples:\\n'\n",
            "             '* An expectant mother’s blood, which includes DNA from the '\n",
            "             'placenta. Noninvasive prenatal screening (NIPS) can identify '\n",
            "             'some conditions. But many mothers whose test shows a risk of '\n",
            "             '22q11\\\\.2 conditions will go on to have a healthy child. Further '\n",
            "             'testing is needed to confirm the diagnosis.\\n'\n",
            "             '* Amniotic fluid that surrounds and protects a baby in the womb '\n",
            "             '(amniocentesis).\\n'\n",
            "             '* Part of the placenta, through a test called chorionic villus '\n",
            "             'sampling (CVS).\\n'\n",
            "             'Further tests on CVS or amniotic fluid samples may detect the '\n",
            "             'specific 22q11\\\\.2 disorder. The 2 tests are FISH and '\n",
            "             'chromosomal microarray analysis (CMA). Genetic testing may '\n",
            "             'include doing a karyotype to make sure parts of the chromosomes '\n",
            "             'have not switched places with one another.\\n'\n",
            "             'The tests can show if your baby has missing, extra or misplaced '\n",
            "             'genes in the q11\\\\.2 area of chromosome 22\\\\. But they can not '\n",
            "             'tell how much these genetic changes will affect your baby.\\n'\n",
            "             'To look for specific problems, your child may have a detailed '\n",
            "             'ultrasound or fetal heart scan ([fetal '\n",
            "             'echo](/clinics/heart/treatments-and-services/echocardiography/ '\n",
            "             '\"fetal echo\")).',\n",
            "  'id': 5,\n",
            "  'is_root': False,\n",
            "  'kind': 'chunk',\n",
            "  'parent_id': 4,\n",
            "  'unique_id': '171f0800-c3ea-414e-8a0d-d0100b404def',\n",
            "  'url_links': ['https://www.seattlechildrens.org/clinics/heart/',\n",
            "                'https://www.seattlechildrens.org/clinics/craniofacial/services/22q-clinic/',\n",
            "                'https://www.seattlechildrens.org/clinics/heart/treatments-and-services/echocardiography/']},\n",
            " {'content': '### Diagnosis after birth\\n'\n",
            "             '\\n'\n",
            "             'Your doctor will check your child and look for the differences '\n",
            "             'that are linked with 22q11\\\\.2\\\\-related disorders. Since the '\n",
            "             'symptoms of the conditions differ from child to child, a careful '\n",
            "             'exam is important.\\n'\n",
            "             'Your doctor may recommend genetic tests to tell the type of '\n",
            "             '22q11\\\\.2 disorder your child has.\\n'\n",
            "             'Doctors may order other tests or procedures to learn more about '\n",
            "             'your child’s exact condition. For example, an ultrasound picture '\n",
            "             'of their heart (echocardiogram) can show if they have any heart '\n",
            "             'problems.',\n",
            "  'id': 6,\n",
            "  'is_root': False,\n",
            "  'kind': 'chunk',\n",
            "  'parent_id': 4,\n",
            "  'unique_id': 'b70a17f4-17e8-4a0c-aed2-fd7193395bfb',\n",
            "  'url_links': ['https://www.seattlechildrens.org/clinics/heart/']},\n",
            " {'content': '### Genetic counseling and testing\\n'\n",
            "             '\\n'\n",
            "             'Physicians and <button>genetic counselors</button>\\n'\n",
            "             ' at our 22q Clinic will talk with you about the pros and cons of '\n",
            "             'genetic testing and explain test results.\\n'\n",
            "             'Our counselors also can give you information about your child’s '\n",
            "             'condition. Counseling can help you make informed decisions about '\n",
            "             'family planning and your child’s treatment.\\n'\n",
            "             'Our genetic counselors also advise people with '\n",
            "             '22q11\\\\.2\\\\-related disorders about their chance of having a '\n",
            "             'child with a similar condition. A person with the condition has '\n",
            "             'a 50% chance in each pregnancy of passing it on to their child.',\n",
            "  'id': 7,\n",
            "  'is_root': False,\n",
            "  'kind': 'chunk',\n",
            "  'parent_id': 4,\n",
            "  'unique_id': 'be28e1f5-8dbc-4886-8aea-62ced066a6e0',\n",
            "  'url_links': ['https://www.seattlechildrens.org/clinics/craniofacial/services/22q-clinic/',\n",
            "                'https://www.seattlechildrens.org/clinics/genetics/genetic-counseling/']},\n",
            " {'content': '## Treating 22q11\\\\.2\\\\-Related Disorders\\n'\n",
            "             '\\n'\n",
            "             'The effects of these conditions vary greatly from child to '\n",
            "             \"child. We create a personalized care plan based on your child's \"\n",
            "             'specific needs.\\n'\n",
            "             'Because of the high rates of problems in the following areas, '\n",
            "             'most children with 22q11\\\\.2\\\\-related disorders will need to '\n",
            "             'see providers with special training in:\\n'\n",
            "             '* [Audiology](/clinics/audiology/ \"Audiology\")\\n'\n",
            "             '* [Genetic counseling](/clinics/genetics/genetic-counseling/ '\n",
            "             '\"Genetic counseling\")\\n'\n",
            "             '* [Neuropsychology](/clinics/neuropsychology/)\\n'\n",
            "             '* [Immunology](/clinics/immunology/)\\n'\n",
            "             '* [Nutrition](/clinics/nutrition/ \"Nutrition\")\\n'\n",
            "             '* [Occupational Therapy](/clinics/occupational-therapy/)\\n'\n",
            "             '* [Otolaryngology](/clinics/otolaryngology/ \"Otolaryngology\")\\n'\n",
            "             '* '\n",
            "             '[Psychiatry/Psychology](/clinics/psychiatry-and-behavioral-medicine/ '\n",
            "             '\"Psychiatry\")\\n'\n",
            "             '* [Social work](/clinics/social-work/ \"Social work\")\\n'\n",
            "             '* [Speech and language pathology](/clinics/speech-and-language/ '\n",
            "             '\"Speech and language pathology\")\\n'\n",
            "             'These providers are all part of our coordinated 22q Team '\n",
            "             'Clinic.\\n'\n",
            "             'Depending on their medical problems and test results, your child '\n",
            "             'may also need to see other specialists at Seattle Children’s.',\n",
            "  'id': 8,\n",
            "  'is_root': False,\n",
            "  'kind': 'chunk',\n",
            "  'parent_id': 0,\n",
            "  'unique_id': '47610654-84b2-4e5d-a32f-2ab1becd58d4',\n",
            "  'url_links': ['https://www.seattlechildrens.org/clinics/speech-and-language/',\n",
            "                'https://www.seattlechildrens.org/clinics/nutrition/',\n",
            "                'https://www.seattlechildrens.org/clinics/otolaryngology/',\n",
            "                'https://www.seattlechildrens.org/clinics/social-work/',\n",
            "                'https://www.seattlechildrens.org/clinics/neuropsychology/',\n",
            "                'https://www.seattlechildrens.org/clinics/occupational-therapy/',\n",
            "                'https://www.seattlechildrens.org/clinics/psychiatry-and-behavioral-medicine/',\n",
            "                'https://www.seattlechildrens.org/clinics/immunology/',\n",
            "                'https://www.seattlechildrens.org/clinics/craniofacial/services/22q-clinic/',\n",
            "                'https://www.seattlechildrens.org/clinics/audiology/',\n",
            "                'https://www.seattlechildrens.org/clinics/genetics/genetic-counseling/']},\n",
            " {'content': '### Feeding and growth\\n'\n",
            "             '\\n'\n",
            "             'Children with 22q11\\\\.2\\\\-related disorders may have a hard time '\n",
            "             'feeding. This can be caused by problems with their mouth or '\n",
            "             'throat:\\n'\n",
            "             '* Not having enough tissue (“insufficient”) in the palate or '\n",
            "             'throat ([velopharyngeal insufficiency](/conditions/vpd/ '\n",
            "             '\"velopharyngeal insufficiency\"), VPI)\\n'\n",
            "             '* A gap in the roof of the mouth ([cleft '\n",
            "             'palate](/conditions/cleft-lip-palate/ \"cleft palate\"))\\n'\n",
            "             '* A gap in the roof of the mouth that is covered by the lining '\n",
            "             'of the mouth (submucous cleft palate)\\n'\n",
            "             'Our [Feeding '\n",
            "             'Management](/clinics/craniofacial/services/feeding-management/ '\n",
            "             '\"Feeding Management\") team can help. A dietitian may advise you '\n",
            "             \"about your child's diet.\\n\"\n",
            "             '* We can teach you ways to [feed your '\n",
            "             'baby](/clinics/craniofacial/patient-family-resources/cleft-feeding-instructions/ '\n",
            "             '\"feed your baby\") and recommend special bottles to use.\\n'\n",
            "             '* If your baby is not able to get enough nutrition by bottle, '\n",
            "             'they may need a tube from their nose to their stomach (NG tube). '\n",
            "             'For most children, this is temporary and they are able to go '\n",
            "             'back to feeding entirely by mouth after feeding therapy.\\n'\n",
            "             '* If feeding problems are severe, your doctor may recommend '\n",
            "             'placing a tube through your child’s belly (abdominal wall) into '\n",
            "             'the stomach. This is called a gastrostomy tube or G\\\\-tube.',\n",
            "  'id': 9,\n",
            "  'is_root': False,\n",
            "  'kind': 'chunk',\n",
            "  'parent_id': 8,\n",
            "  'unique_id': '2a7110c0-aebf-4c35-81ff-6d557b9f1ac6',\n",
            "  'url_links': ['https://www.seattlechildrens.org/clinics/craniofacial/services/feeding-management/',\n",
            "                'https://www.seattlechildrens.org/clinics/craniofacial/services/22q-clinic/',\n",
            "                'https://www.seattlechildrens.org/conditions/vpd/',\n",
            "                'https://www.seattlechildrens.org/clinics/craniofacial/patient-family-resources/cleft-feeding-instructions/',\n",
            "                'https://www.seattlechildrens.org/conditions/cleft-lip-palate/']},\n",
            " {'content': '#### Palate repair\\n'\n",
            "             '\\n'\n",
            "             'If your child has problems with the roof of their mouth or '\n",
            "             'throat, your surgeon will talk with you about repair.\\n'\n",
            "             '* Repairing a gap in the roof of the mouth (cleft palate) '\n",
            "             'usually happens when your child is about 1 year old. See [Cleft '\n",
            "             'Palate Treatments](/conditions/cleft-lip-palate/#treating \"Cleft '\n",
            "             'Palate Treatments\").\\n'\n",
            "             '* Other problems with the mouth or throat, such as '\n",
            "             '[velopharyngeal dysfunction](/conditions/vpd/ \"velopharyngeal '\n",
            "             'dysfunction\") (VPD), are treated when your child is older than 1 '\n",
            "             'year.',\n",
            "  'id': 10,\n",
            "  'is_root': False,\n",
            "  'kind': 'chunk',\n",
            "  'parent_id': 9,\n",
            "  'unique_id': 'b0512a14-07e9-4e17-a0e3-cd73cb4e74db',\n",
            "  'url_links': ['https://www.seattlechildrens.org/conditions/vpd/',\n",
            "                'https://www.seattlechildrens.org/conditions/cleft-lip-palate/',\n",
            "                'https://www.seattlechildrens.org/conditions/cleft-lip-palate/#treating']},\n",
            " {'content': '#### Growth\\n'\n",
            "             '\\n'\n",
            "             'We will check regularly to make sure your child is growing '\n",
            "             'well.\\n'\n",
            "             '* Children with 22q11\\\\.2 **deletion** syndrome often have a '\n",
            "             'different and slower pattern of growth than other children. We '\n",
            "             'compare your child to growth charts specific to 22q11\\\\.2 '\n",
            "             'deletion syndrome.\\n'\n",
            "             '* Usually, children with 22q11\\\\.2 **duplication**are bigger '\n",
            "             'than average.',\n",
            "  'id': 11,\n",
            "  'is_root': False,\n",
            "  'kind': 'chunk',\n",
            "  'parent_id': 9,\n",
            "  'unique_id': 'fd45f983-deb6-4d8e-9322-e4155d5dd19e',\n",
            "  'url_links': []},\n",
            " {'content': '### Hearing\\n'\n",
            "             '\\n'\n",
            "             \"Your doctor will check your child's ear health and hearing \"\n",
            "             'regularly.\\n'\n",
            "             '* Most often your baby’s hearing is tested soon after birth or '\n",
            "             'within a few days.\\n'\n",
            "             '* If there are concerns, we do more tests. A specialist trained '\n",
            "             'to test hearing in babies and children (audiologist) will do the '\n",
            "             'testing.\\n'\n",
            "             '* Some children have hearing loss. It may be caused by fluid '\n",
            "             'behind the eardrums or by problems with the nerve pathways from '\n",
            "             'the inner ear to the brain. The treatments for these types of '\n",
            "             'hearing loss are different.\\n'\n",
            "             '* Your doctor will determine if your child has hearing loss and '\n",
            "             'will talk with you about treatment.',\n",
            "  'id': 12,\n",
            "  'is_root': False,\n",
            "  'kind': 'chunk',\n",
            "  'parent_id': 8,\n",
            "  'unique_id': '2332b8c1-3f2c-48c5-b702-1f30a048b916',\n",
            "  'url_links': []},\n",
            " {'content': '### Speech\\n'\n",
            "             '\\n'\n",
            "             'In some children, differences in the mouth or throat cause '\n",
            "             'problems with speech.\\n'\n",
            "             'By age 2, a speech and language pathologist (SLP) will regularly '\n",
            "             'check your child’s ability to make speech sounds. Our team will '\n",
            "             'continue to check your child’s speech as they grow.\\n'\n",
            "             'Some children have a condition called [velopharyngeal '\n",
            "             'dysfunction](/conditions/vpd/ \"velopharyngeal dysfunction\") '\n",
            "             '(VPD), which makes it hard for them to make speech sounds '\n",
            "             'correctly. VPD may develop over time in a child who had a cleft '\n",
            "             'palate repaired.\\n'\n",
            "             'Depending on your child’s needs, we may recommend:\\n'\n",
            "             '* A custom\\\\-made speech appliance called an obturator.\\n'\n",
            "             '* Surgery on the roof of the mouth or throat. Your surgeon and '\n",
            "             'speech pathologist will work together to recommend what is best '\n",
            "             'for your child.\\n'\n",
            "             '* Speech therapy to develop correct speech sounds.',\n",
            "  'id': 13,\n",
            "  'is_root': False,\n",
            "  'kind': 'chunk',\n",
            "  'parent_id': 8,\n",
            "  'unique_id': 'b4820594-17b6-4707-9f25-defe6de3f068',\n",
            "  'url_links': ['https://www.seattlechildrens.org/conditions/vpd/',\n",
            "                'https://www.seattlechildrens.org/conditions/cleft-lip-palate/']},\n",
            " {'content': '### Heart\\n'\n",
            "             '\\n'\n",
            "             'Problems in the heart are common in children with '\n",
            "             '22q11\\\\.2\\\\-related disorders. The problem could be mild, like '\n",
            "             'an unusual sound heard during a heartbeat (heart murmur). '\n",
            "             'Sometimes it is serious enough to affect how the heart works.\\n'\n",
            "             'If your child is healthy and growing well, it is not likely that '\n",
            "             'they have a major heart problem. To check, your child’s doctor '\n",
            "             'will order an ultrasound picture of your child’s heart '\n",
            "             '(echocardiogram).\\n'\n",
            "             'If problems are found, your child will see a heart specialist '\n",
            "             '(cardiologist) for care as needed. [Learn more about Children’s '\n",
            "             'Heart Center](/clinics/heart/why-choose-us/ \"Learn more about '\n",
            "             'Children’s Heart Center\").',\n",
            "  'id': 14,\n",
            "  'is_root': False,\n",
            "  'kind': 'chunk',\n",
            "  'parent_id': 8,\n",
            "  'unique_id': '0b25ef2f-026a-4f7d-a3d2-4c605c89547d',\n",
            "  'url_links': ['https://www.seattlechildrens.org/clinics/heart/',\n",
            "                'https://www.seattlechildrens.org/clinics/craniofacial/services/22q-clinic/',\n",
            "                'https://www.seattlechildrens.org/clinics/heart/why-choose-us/']},\n",
            " {'content': '### Immune system\\n'\n",
            "             '\\n'\n",
            "             'Many children with 22q11\\\\.2\\\\-related disorders have problems '\n",
            "             'with their immune system, which helps protect their body from '\n",
            "             'sickness.\\n'\n",
            "             'We will check the number of infection\\\\-fighting white cells in '\n",
            "             'your child’s blood. We may send your child to a doctor who '\n",
            "             'specializes in the immune system (immunologist).\\n'\n",
            "             'If your child’s immune system does not work well, they may:\\n'\n",
            "             '* Be more likely to get infections. We will watch for signs of '\n",
            "             'an infection and treat it quickly. Rarely, children need to take '\n",
            "             'antibiotics or other treatments to prevent infection.\\n'\n",
            "             '* Need extra doses of vaccines to build enough protection '\n",
            "             'against disease.\\n'\n",
            "             '* Need to avoid some vaccines with live viruses because their '\n",
            "             'body is less able to fight infection.\\n'\n",
            "             '[Learn more about Children’s Immunology '\n",
            "             'program](/clinics/immunology/ \"Learn more about Children’s '\n",
            "             'Immunology program\").',\n",
            "  'id': 15,\n",
            "  'is_root': False,\n",
            "  'kind': 'chunk',\n",
            "  'parent_id': 8,\n",
            "  'unique_id': '95499481-59a5-4777-80db-d7f80cdc1b08',\n",
            "  'url_links': ['https://www.seattlechildrens.org/clinics/immunology/',\n",
            "                'https://www.seattlechildrens.org/clinics/craniofacial/services/22q-clinic/']},\n",
            " {'content': '### Kidneys\\n'\n",
            "             '\\n'\n",
            "             'Some children with 22q11\\\\.2\\\\-related disorders have kidney '\n",
            "             'problems. We may recommend that your child have a kidney (renal) '\n",
            "             'ultrasound.\\n'\n",
            "             'We are looking to make sure that the kidneys formed normally. If '\n",
            "             'your child has a normal ultrasound, they will not need another '\n",
            "             'one.\\n'\n",
            "             'If there is a problem, your child will see a kidney specialist '\n",
            "             '(nephrologist).\\n'\n",
            "             '[Learn more about Children’s Nephrology '\n",
            "             'program](/clinics/nephrology/ \"Learn more about Children’s '\n",
            "             'Nephrology program\").',\n",
            "  'id': 16,\n",
            "  'is_root': False,\n",
            "  'kind': 'chunk',\n",
            "  'parent_id': 8,\n",
            "  'unique_id': '3b272324-db50-457e-be62-ded2770f3dfd',\n",
            "  'url_links': ['https://www.seattlechildrens.org/clinics/craniofacial/services/22q-clinic/',\n",
            "                'https://www.seattlechildrens.org/clinics/nephrology/']},\n",
            " {'content': '### Low calcium levels in blood\\n'\n",
            "             '\\n'\n",
            "             'Some children with 22q\\\\-related disorders have problems with '\n",
            "             'low calcium levels. If calcium is too low it can cause '\n",
            "             'seizures.\\n'\n",
            "             'We will do a blood test to check the calcium level. Your doctor '\n",
            "             'may decide your child needs to take a calcium supplement or see '\n",
            "             'an [endocrinologist](/clinics/endocrinology/).',\n",
            "  'id': 17,\n",
            "  'is_root': False,\n",
            "  'kind': 'chunk',\n",
            "  'parent_id': 8,\n",
            "  'unique_id': '04f26e0a-e68b-4946-8455-eef59cc368a9',\n",
            "  'url_links': ['https://www.seattlechildrens.org/clinics/endocrinology/',\n",
            "                'https://www.seattlechildrens.org/clinics/craniofacial/services/22q-clinic/']},\n",
            " {'content': '### Development and learning\\n'\n",
            "             '\\n'\n",
            "             'Many children with 22q11\\\\.2\\\\-related disorders have '\n",
            "             'differences in how they learn and process information. Some '\n",
            "             'children will have normal intelligence, and some will have '\n",
            "             'intelligence that is below normal.\\n'\n",
            "             'Your child’s care team will make sure their learning style is '\n",
            "             'tested. This helps us better understand how they process '\n",
            "             'information. We will help your child’s school know the best ways '\n",
            "             'to support your child’s learning.\\n'\n",
            "             'Some children with 22q11\\\\.2\\\\-related disorders will have '\n",
            "             'trouble learning because of attention deficit hyperactivity '\n",
            "             'disorder (ADHD), anxiety or <button>autism spectrum '\n",
            "             'disorder</button>\\n'\n",
            "             '. If your child develops any of these problems, a specialist '\n",
            "             'will evaluate your child and suggest treatment to help them '\n",
            "             'start school ready to learn. We will also work with you to find '\n",
            "             'resources in your community if needed.',\n",
            "  'id': 18,\n",
            "  'is_root': False,\n",
            "  'kind': 'chunk',\n",
            "  'parent_id': 8,\n",
            "  'unique_id': '8ff24a36-08bf-4a92-861d-696a25939030',\n",
            "  'url_links': []},\n",
            " {'content': '### Behavior and mental health\\n'\n",
            "             '\\n'\n",
            "             '22q11\\\\.2\\\\-related disorders increase the risk of problems with '\n",
            "             'behavior and mental health. These include:\\n'\n",
            "             '* Attention deficit hyperactivity disorder (ADHD)\\n'\n",
            "             '* Autism spectrum disorder\\n'\n",
            "             '* Anxiety\\n'\n",
            "             '* Depression\\n'\n",
            "             '* Bipolar disorder\\n'\n",
            "             'Many problems can be managed well if they are found early and '\n",
            "             'treated by a doctor familiar with 22q11\\\\.2\\\\-related '\n",
            "             'disorders.\\n'\n",
            "             '* Patients with 22q\\\\-related disorders have an increased risk '\n",
            "             'of autism spectrum disorder and other problems affecting the '\n",
            "             'brain and central nervous system (neurodevelopmental).\\n'\n",
            "             '* Children with 22q\\\\-related disorders are also at risk for '\n",
            "             'other psychiatric conditions, such as schizophrenia \\xa0and '\n",
            "             'anxiety.\\n'\n",
            "             'Various types of mental health issues begin at different times. '\n",
            "             'We will regularly check your child’s behavior, mood and coping. '\n",
            "             'Your healthcare team will ask about your child’s behavior at '\n",
            "             'home and school.\\n'\n",
            "             'If there are concerns, a psychiatrist or neurodevelopmental '\n",
            "             'specialist will evaluate your child and recommend treatment. '\n",
            "             'Your craniofacial pediatrician and social worker will work with '\n",
            "             'you to find resources in your community if needed.',\n",
            "  'id': 19,\n",
            "  'is_root': False,\n",
            "  'kind': 'chunk',\n",
            "  'parent_id': 8,\n",
            "  'unique_id': 'b6d4ad90-bba7-44a6-a300-a6f3bc101b0b',\n",
            "  'url_links': ['https://www.seattlechildrens.org/clinics/neurosciences/',\n",
            "                'https://www.seattlechildrens.org/clinics/psychiatry-and-behavioral-medicine/']},\n",
            " {'content': \"## 22q11\\\\.2\\\\-Related Disorders at Seattle Children's\\n\"\n",
            "             '\\n'\n",
            "             'Many families have never heard of these conditions before their '\n",
            "             'child’s diagnosis. Seattle Children’s has a '\n",
            "             '[clinic](/clinics/craniofacial/services/22q-clinic/ \"clinic\") '\n",
            "             'focused on caring for children with 22q11\\\\.2\\\\-related '\n",
            "             'disorders.\\n'\n",
            "             'Many of the babies and children we see are newly diagnosed. We '\n",
            "             'also work with expectant parents who are worried about the '\n",
            "             'results of tests during pregnancy.\\n'\n",
            "             'Please call the Craniofacial Center at '\n",
            "             '[206\\\\-987\\\\-0339](tel:206-987-0339) for more information, a '\n",
            "             'second opinion or to make an appointment.',\n",
            "  'id': 20,\n",
            "  'is_root': False,\n",
            "  'kind': 'chunk',\n",
            "  'parent_id': 0,\n",
            "  'unique_id': '5a005dd3-8251-4cc8-b13a-847c40d97771',\n",
            "  'url_links': ['https://www.seattlechildrens.orgtel:206-987-0339',\n",
            "                'https://www.seattlechildrens.org/clinics/craniofacial/services/22q-clinic/',\n",
            "                'https://www.seattlechildrens.org/clinics/craniofacial/contact-locations/']},\n",
            " {'content': '### A clinic focused on your child’s condition\\n'\n",
            "             '\\n'\n",
            "             'Our [22q Clinic](/clinics/craniofacial/services/22q-clinic/ \"22q '\n",
            "             'Clinic\") is the only multidisciplinary clinic for children with '\n",
            "             '22q11\\\\.2\\\\-related disorders in the 5\\\\-state region that '\n",
            "             'includes Washington, Alaska, Montana, Idaho and Wyoming. Our '\n",
            "             'clinic team has been diagnosing these conditions and helping '\n",
            "             'families care for their children since 2006\\\\.\\n'\n",
            "             'Our doctors are experienced in treating the problems caused by '\n",
            "             'these conditions.',\n",
            "  'id': 21,\n",
            "  'is_root': False,\n",
            "  'kind': 'chunk',\n",
            "  'parent_id': 20,\n",
            "  'unique_id': 'd572be8a-7cf9-4cf4-a37b-4e1c35af6567',\n",
            "  'url_links': ['https://www.seattlechildrens.org/clinics/craniofacial/services/22q-clinic/']},\n",
            " {'content': \"### Specialists to cover your child's needs\\n\"\n",
            "             '\\n'\n",
            "             'The 22q Clinic is part of Seattle Children’s [Craniofacial '\n",
            "             'Center](/clinics/craniofacial/ \"Craniofacial Center\"). Our 50 '\n",
            "             'specialists in 19 different fields meet weekly to discuss '\n",
            "             'children with complex needs and decide on the best care plan for '\n",
            "             'each child.\\n'\n",
            "             'A craniofacial pediatrician, medical geneticist, genetic '\n",
            "             'counselor, nurse, family service coordinator and social worker '\n",
            "             'will work closely with your family. They manage your child’s '\n",
            "             'care and make sure all your questions are answered.\\n'\n",
            "             '[Our 22q Clinic](/clinics/craniofacial/services/22q-clinic/ \"Our '\n",
            "             '22q Clinic\") can easily form a team with the right experts to '\n",
            "             'care for your child’s specific needs. These may include an '\n",
            "             'audiologist; dietitian; ear, nose and throat specialist '\n",
            "             '(otolaryngologist); feeding therapist; psychiatrist; and speech '\n",
            "             'and language pathologist (SLP). They create a personalized plan '\n",
            "             'of care for your child.\\n'\n",
            "             'If needed, your child will see experts in other departments at '\n",
            "             'Seattle Children’s, for problems affecting their '\n",
            "             '[heart](/clinics/heart/ \"heart\"), [mental '\n",
            "             'health](/clinics/psychiatry-and-behavioral-medicine/ \"mental '\n",
            "             'health\"), [hormones](/clinics/endocrinology/ \"hormones\"), '\n",
            "             '[nervous system](/clinics/neurosciences/ \"nervous system\"), '\n",
            "             '[stomach and intestines](/clinics/gastroenterology-hepatology/ '\n",
            "             '\"stomach and intestines\"), [bones](/clinics/orthopedics/ '\n",
            "             '\"bones\"), [kidneys](/clinics/nephrology/ \"kidneys\") and '\n",
            "             '[infection\\\\-fighting immune system](/clinics/immunology/ '\n",
            "             '\"infection-fighting immune system\"). We work together, and with '\n",
            "             'you and your family’s doctor, to care for your child.',\n",
            "  'id': 22,\n",
            "  'is_root': False,\n",
            "  'kind': 'chunk',\n",
            "  'parent_id': 20,\n",
            "  'unique_id': '58add8aa-4860-4f0a-88cb-b9cd5fb9d9ab',\n",
            "  'url_links': ['https://www.seattlechildrens.org/clinics/heart/',\n",
            "                'https://www.seattlechildrens.org/clinics/craniofacial/contact-locations/',\n",
            "                'https://www.seattlechildrens.org/clinics/gastroenterology-hepatology/',\n",
            "                'https://www.seattlechildrens.org/clinics/psychiatry-and-behavioral-medicine/',\n",
            "                'https://www.seattlechildrens.org/clinics/immunology/',\n",
            "                'https://www.seattlechildrens.org/clinics/endocrinology/',\n",
            "                'https://www.seattlechildrens.org/clinics/craniofacial/services/22q-clinic/',\n",
            "                'https://www.seattlechildrens.org/clinics/nephrology/',\n",
            "                'https://www.seattlechildrens.org/clinics/neurosciences/',\n",
            "                'https://www.seattlechildrens.org/clinics/orthopedics/']},\n",
            " {'content': '### We support your whole family\\n'\n",
            "             '\\n'\n",
            "             'A diagnosis of a 22q11\\\\.2\\\\-related disorder can be scary. We '\n",
            "             'take time to explain your child’s condition. We help you fully '\n",
            "             'understand your treatment options and make choices that are '\n",
            "             'right for your family.\\n'\n",
            "             'Our child life specialists and social workers support your child '\n",
            "             'and family through the challenges of their condition. We help '\n",
            "             'you find [community resources and support '\n",
            "             'groups](/clinics/craniofacial/patient-family-resources/ '\n",
            "             '\"community resources and support groups\").\\n'\n",
            "             'As your child gets older, we include them in decisions about '\n",
            "             'their medical care. Your family has a [full '\n",
            "             'team](/clinics/craniofacial/meet-your-team/ \"full team\") behind '\n",
            "             'you, including specialists in nutrition, physical therapy and '\n",
            "             'speech therapy. Read more about the [supportive care we '\n",
            "             'offer](/clinics/craniofacial/services/supportive-care/ '\n",
            "             '\"supportive care we offer\").\\n'\n",
            "             'Seattle Children’s provides craniofacial care for children in an '\n",
            "             'area one\\\\-fourth the size of the continental U.S. We also treat '\n",
            "             'children from across the globe. This has helped us develop '\n",
            "             'systems to provide outstanding, personalized care at great '\n",
            "             'distance.',\n",
            "  'id': 23,\n",
            "  'is_root': False,\n",
            "  'kind': 'chunk',\n",
            "  'parent_id': 20,\n",
            "  'unique_id': 'adfdfdce-6b22-4cfc-b998-3fc715d1e9bd',\n",
            "  'url_links': ['https://www.seattlechildrens.org/clinics/craniofacial/services/22q-clinic/',\n",
            "                'https://www.seattlechildrens.org/clinics/craniofacial/patient-family-resources/',\n",
            "                'https://www.seattlechildrens.org/clinics/craniofacial/meet-your-team/',\n",
            "                'https://www.seattlechildrens.org/clinics/craniofacial/services/supportive-care/']},\n",
            " {'content': '## Contact Us\\n'\n",
            "             '\\n'\n",
            "             'Contact the [Craniofacial '\n",
            "             'Center](/clinics/craniofacial/contact-locations/ \"Craniofacial '\n",
            "             'Center\") at[206\\\\-987\\\\-2208](tel:206-987-2208) for an '\n",
            "             'appointment, a second opinion or more information.\\n'\n",
            "             'Providers, see [how to refer a '\n",
            "             'patient](/clinics/craniofacial/refer-a-patient/ \"how to refer a '\n",
            "             'patient\").',\n",
            "  'id': 24,\n",
            "  'is_root': False,\n",
            "  'kind': 'chunk',\n",
            "  'parent_id': 0,\n",
            "  'unique_id': '7f1f3b9e-3b92-4b2f-9459-b0a09fc904c1',\n",
            "  'url_links': ['https://www.seattlechildrens.org/clinics/craniofacial/services/22q-clinic/',\n",
            "                'https://www.seattlechildrens.org/clinics/craniofacial/contact-locations/',\n",
            "                'https://www.seattlechildrens.orgtel:206-987-2208',\n",
            "                'https://www.seattlechildrens.org/clinics/craniofacial/services/22q-clinic/',\n",
            "                'https://www.seattlechildrens.org/clinics/craniofacial/refer-a-patient/']}]\n"
          ]
        }
      ],
      "source": [
        "pprint.pprint(test['chunks'])"
      ]
    },
    {
      "cell_type": "code",
      "execution_count": null,
      "id": "BYfJ8_2_rZH9",
      "metadata": {
        "id": "BYfJ8_2_rZH9"
      },
      "outputs": [],
      "source": [
        "with open(\"one_condition.jsonl\", \"w\") as fp:\n",
        "    json.dump(test, fp)"
      ]
    },
    {
      "cell_type": "markdown",
      "id": "W2YjzzRXnVu7",
      "metadata": {
        "id": "W2YjzzRXnVu7"
      },
      "source": [
        "Let's extract the content of all the conditions pages available in the collection."
      ]
    },
    {
      "cell_type": "code",
      "execution_count": null,
      "id": "XczCwJUlnVLk",
      "metadata": {
        "colab": {
          "base_uri": "https://localhost:8080/"
        },
        "id": "XczCwJUlnVLk",
        "outputId": "9b0097b6-b34a-44b0-de2c-3de49f2f3a02"
      },
      "outputs": [
        {
          "name": "stderr",
          "output_type": "stream",
          "text": [
            "100%|██████████| 392/392 [11:15<00:00,  1.72s/it]\n"
          ]
        }
      ],
      "source": [
        "pages_content = []\n",
        "pages_w_issue = []\n",
        "for condition, page_url in tqdm.tqdm(conditions_pages.items()):\n",
        "    if condition != \"Conditions\" and condition != \"\\r\\n        All Symptoms\\r\\n    \":\n",
        "        try:\n",
        "            pages_content.append(extract_from_page(page_url))\n",
        "        except:\n",
        "            pages_w_issue.append(condition)"
      ]
    },
    {
      "cell_type": "code",
      "execution_count": null,
      "id": "XBRktwABpnKp",
      "metadata": {
        "colab": {
          "base_uri": "https://localhost:8080/"
        },
        "id": "XBRktwABpnKp",
        "outputId": "cf732d5e-2780-43ae-895f-88824da46233"
      },
      "outputs": [
        {
          "name": "stdout",
          "output_type": "stream",
          "text": [
            "389 Condition pages extracted...\n"
          ]
        }
      ],
      "source": [
        "print(f\"{len(pages_content)} Condition pages extracted...\")"
      ]
    },
    {
      "cell_type": "code",
      "execution_count": null,
      "id": "D506YTUdqMFX",
      "metadata": {
        "colab": {
          "base_uri": "https://localhost:8080/"
        },
        "id": "D506YTUdqMFX",
        "outputId": "4678deec-9238-4902-fc7b-d729b52d676b"
      },
      "outputs": [
        {
          "data": {
            "text/plain": [
              "['Mental Health Problems']"
            ]
          },
          "execution_count": 46,
          "metadata": {},
          "output_type": "execute_result"
        }
      ],
      "source": [
        "pages_w_issue"
      ]
    },
    {
      "cell_type": "markdown",
      "id": "zSgAmJzrqQr3",
      "metadata": {
        "id": "zSgAmJzrqQr3"
      },
      "source": [
        "Let's save the page content dict as a JSON file."
      ]
    },
    {
      "cell_type": "code",
      "execution_count": null,
      "id": "wN488LA8qOYe",
      "metadata": {
        "id": "wN488LA8qOYe"
      },
      "outputs": [],
      "source": [
        "jsonl_content = \"\"\n",
        "for page_content in pages_content:\n",
        "    if \"unique_id\" not in page_content.keys():\n",
        "        print(page_content)\n",
        "    jsonl_content += json.dumps(page_content) + \"\\n\"\n",
        "\n",
        "\n",
        "with open(\"pages_content.jsonl\", \"w\") as fp:\n",
        "    fp.write(jsonl_content)"
      ]
    },
    {
      "cell_type": "code",
      "execution_count": null,
      "id": "ftvnaSkyqmj-",
      "metadata": {
        "colab": {
          "base_uri": "https://localhost:8080/"
        },
        "id": "ftvnaSkyqmj-",
        "outputId": "9b562e95-2987-493c-c12c-5dd68fc62767"
      },
      "outputs": [
        {
          "name": "stdout",
          "output_type": "stream",
          "text": [
            "Copying file://pages_content.jsonl [Content-Type=application/octet-stream]...\n",
            "/ [1 files][ 10.3 MiB/ 10.3 MiB]                                                \n",
            "Operation completed over 1 objects/10.3 MiB.                                     \n"
          ]
        }
      ],
      "source": [
        "# upload the pages.json to GSC bucket\n",
        "! gsutil cp pages_content.jsonl gs://sch_conditions_pages/pages_content.jsonl"
      ]
    },
    {
      "cell_type": "markdown",
      "id": "8GT3-jrSfH-X",
      "metadata": {
        "id": "8GT3-jrSfH-X"
      },
      "source": [
        "Let's summarize the amount of information extracted."
      ]
    },
    {
      "cell_type": "code",
      "execution_count": null,
      "id": "7DPLI56-gY4v",
      "metadata": {
        "colab": {
          "base_uri": "https://localhost:8080/"
        },
        "id": "7DPLI56-gY4v",
        "outputId": "bade374c-5723-420d-e503-d16b9d89e640"
      },
      "outputs": [
        {
          "name": "stdout",
          "output_type": "stream",
          "text": [
            "{'unique_id': 'bde8c4d6-693a-46f9-8cc1-b204eaf34d07', 'title': '22q11.2-Related Disorders', 'content': '# 22q11.2-Related Disorders## What are 22q11\\\\.2\\\\-related disorders?\\n\\n22q11\\\\.2\\\\-related disorders are caused by differences in part of chromosome 22, called the q11\\\\.2 region. Chromosomes contain genes, which tell our cells how to work and what proteins to make. There are 23 pairs of chromosomes in each cell of the body.\\n\\n22q11\\\\.2\\\\-related disorders happen in at least 1 in 1,000 newborns.\\n\\nThe symptoms differ widely, even among members of the same family. There may be small differences in how your child’s eyelids, nose and ears look.\\n\\nThese conditions are linked to many health issues. They can affect your child’s growth, feeding, breathing, speaking, hearing, learning and mental health. But most children with 22q11\\\\.2\\\\-related disorders only have problems in some of these areas.\\n\\n### What causes 22q11\\\\.2\\\\-related disorders?\\n\\nThese disorders happen because of changes in the 22q11\\\\.2 part of chromosome 22\\\\. There may be extra genes, missing genes or genes in the wrong place.\\n\\nYour child may:\\n\\n* Be **missing** a small part of chromosome 22 (22q11\\\\.2 deletion syndrome).\\n* Have **extra** genes in the q11\\\\.2 part of chromosome 22 (22q11\\\\.2 duplication syndrome).\\n* Have changes**near**the q11\\\\.2 part of chromosome 22 (22q11\\\\.2 distal deletion disorder).\\n* Have genes from 22q11\\\\.2 switch places with genes on another chromosome (translocation).\\n* Have a 22q11\\\\.2\\\\-related disorder**and**another genetic syndrome.\\n\\nWhether the genetic change is new or inherited varies:\\n\\n* For 90% of children with 22q11\\\\.2 **deletion**, this is a new genetic change (not passed down from a parent).\\n* In 66% of children with 22q11\\\\.2 **duplication**, the genetic change is passed from a parent.\\n\\nWhen people with 22q11\\\\.2 related disorders become parents, they have a 50% chance of passing the condition to their child.\\n\\n### Other names for 22q11\\\\.2\\\\-related disorders\\n\\nThere are many older names for these conditions. These names were used before it was known that all are a form of the same condition.\\n\\nAll of these names have been replaced with “22q11\\\\.2\\\\-related disorders:”\\n\\n* Velocardiofacial syndrome (VCFS)\\n* DiGeorge syndrome\\n* Shprintzen syndrome\\n* Conotruncal anomaly unusual face syndrome\\n* Cayler cardiofacial syndrome\\n* Catch 22 syndrome\\n\\n---\\n\\n[22q11\\\\.2\\\\-Related Disorders Care at Seattle Children\\'s](/clinics/craniofacial/services/22q-clinic/)\\n\\nAt the 22q Clinic, a team experienced with these conditions will evaluate your child. We create a personalized care plan for your child and bring in other experts to meet your child’s specific needs.\\n\\n---\\n\\n## Symptoms of 22q11\\\\.2\\\\-Related Disorders\\n\\nEvery child with a 22q11\\\\.2\\\\-related disorder is different.\\n\\nSome children have facial differences, including:\\n\\n* Eyelids that look hooded\\n* A nose that is tube\\\\-shaped\\n* Ears that are folded over more than normal at the edges\\n* A face that looks long, with flat cheeks\\n* A narrow mouth\\n\\nThe 22q11\\\\.2\\\\-related disorders may cause problems with your child’s:\\n\\n* Roof of the mouth (palate), including[cleft palate](/conditions/cleft-lip-palate/ \"cleft palate\")\\n* Ears, nose or throat\\n* Heart\\n* Infection\\\\-fighting immune system\\n* Nervous system\\n* Kidneys\\n* Skeleton\\n* Hormone\\\\-producing endocrine system\\n\\nThese differences may affect your child’s growth, feeding, breathing, speaking, hearing, learning or mental health.\\n\\n## Diagnosing 22q11\\\\.2\\\\-Related Disorders\\n\\nSeattle Children’s has a [22q Clinic](/clinics/craniofacial/services/22q-clinic/ \"22q Clinic\") focused on diagnosing these conditions and helping families manage them.\\n\\n### Diagnosis before birth\\n\\nThese conditions are sometimes diagnosed before birth. The tests use different samples:\\n\\n* An expectant mother’s blood, which includes DNA from the placenta. Noninvasive prenatal screening (NIPS) can identify some conditions. But many mothers whose test shows a risk of 22q11\\\\.2 conditions will go on to have a healthy child. Further testing is needed to confirm the diagnosis.\\n* Amniotic fluid that surrounds and protects a baby in the womb (amniocentesis).\\n* Part of the placenta, through a test called chorionic villus sampling (CVS).\\n\\nFurther tests on CVS or amniotic fluid samples may detect the specific 22q11\\\\.2 disorder. The 2 tests are FISH and chromosomal microarray analysis (CMA). Genetic testing may include doing a karyotype to make sure parts of the chromosomes have not switched places with one another.\\n\\nThe tests can show if your baby has missing, extra or misplaced genes in the q11\\\\.2 area of chromosome 22\\\\. But they can not tell how much these genetic changes will affect your baby.\\n\\nTo look for specific problems, your child may have a detailed ultrasound or fetal heart scan ([fetal echo](/clinics/heart/treatments-and-services/echocardiography/ \"fetal echo\")).\\n\\n### Diagnosis after birth\\n\\nYour doctor will check your child and look for the differences that are linked with 22q11\\\\.2\\\\-related disorders. Since the symptoms of the conditions differ from child to child, a careful exam is important.\\n\\nYour doctor may recommend genetic tests to tell the type of 22q11\\\\.2 disorder your child has.\\n\\nDoctors may order other tests or procedures to learn more about your child’s exact condition. For example, an ultrasound picture of their heart (echocardiogram) can show if they have any heart problems.\\n\\n### Genetic counseling and testing\\n\\nPhysicians and <button>genetic counselors</button>\\n\\n at our 22q Clinic will talk with you about the pros and cons of genetic testing and explain test results.\\n\\nOur counselors also can give you information about your child’s condition. Counseling can help you make informed decisions about family planning and your child’s treatment.\\n\\nOur genetic counselors also advise people with 22q11\\\\.2\\\\-related disorders about their chance of having a child with a similar condition. A person with the condition has a 50% chance in each pregnancy of passing it on to their child.\\n\\n## Treating 22q11\\\\.2\\\\-Related Disorders\\n\\nThe effects of these conditions vary greatly from child to child. We create a personalized care plan based on your child\\'s specific needs.\\n\\nBecause of the high rates of problems in the following areas, most children with 22q11\\\\.2\\\\-related disorders will need to see providers with special training in:\\n\\n* [Audiology](/clinics/audiology/ \"Audiology\")\\n* [Genetic counseling](/clinics/genetics/genetic-counseling/ \"Genetic counseling\")\\n* [Neuropsychology](/clinics/neuropsychology/)\\n* [Immunology](/clinics/immunology/)\\n* [Nutrition](/clinics/nutrition/ \"Nutrition\")\\n* [Occupational Therapy](/clinics/occupational-therapy/)\\n* [Otolaryngology](/clinics/otolaryngology/ \"Otolaryngology\")\\n* [Psychiatry/Psychology](/clinics/psychiatry-and-behavioral-medicine/ \"Psychiatry\")\\n* [Social work](/clinics/social-work/ \"Social work\")\\n* [Speech and language pathology](/clinics/speech-and-language/ \"Speech and language pathology\")\\n\\nThese providers are all part of our coordinated 22q Team Clinic.\\n\\nDepending on their medical problems and test results, your child may also need to see other specialists at Seattle Children’s.\\n\\n### Feeding and growth\\n\\nChildren with 22q11\\\\.2\\\\-related disorders may have a hard time feeding. This can be caused by problems with their mouth or throat:\\n\\n* Not having enough tissue (“insufficient”) in the palate or throat ([velopharyngeal insufficiency](/conditions/vpd/ \"velopharyngeal insufficiency\"), VPI)\\n* A gap in the roof of the mouth ([cleft palate](/conditions/cleft-lip-palate/ \"cleft palate\"))\\n* A gap in the roof of the mouth that is covered by the lining of the mouth (submucous cleft palate)\\n\\nOur [Feeding Management](/clinics/craniofacial/services/feeding-management/ \"Feeding Management\") team can help. A dietitian may advise you about your child\\'s diet.\\n\\n* We can teach you ways to [feed your baby](/clinics/craniofacial/patient-family-resources/cleft-feeding-instructions/ \"feed your baby\") and recommend special bottles to use.\\n* If your baby is not able to get enough nutrition by bottle, they may need a tube from their nose to their stomach (NG tube). For most children, this is temporary and they are able to go back to feeding entirely by mouth after feeding therapy.\\n* If feeding problems are severe, your doctor may recommend placing a tube through your child’s belly (abdominal wall) into the stomach. This is called a gastrostomy tube or G\\\\-tube.\\n\\n#### Palate repair\\n\\nIf your child has problems with the roof of their mouth or throat, your surgeon will talk with you about repair.\\n\\n* Repairing a gap in the roof of the mouth (cleft palate) usually happens when your child is about 1 year old. See [Cleft Palate Treatments](/conditions/cleft-lip-palate/#treating \"Cleft Palate Treatments\").\\n* Other problems with the mouth or throat, such as [velopharyngeal dysfunction](/conditions/vpd/ \"velopharyngeal dysfunction\") (VPD), are treated when your child is older than 1 year.\\n\\n#### Growth\\n\\nWe will check regularly to make sure your child is growing well.\\n\\n* Children with 22q11\\\\.2 **deletion** syndrome often have a different and slower pattern of growth than other children. We compare your child to growth charts specific to 22q11\\\\.2 deletion syndrome.\\n* Usually, children with 22q11\\\\.2 **duplication**are bigger than average.\\n\\n### Hearing\\n\\nYour doctor will check your child\\'s ear health and hearing regularly.\\n\\n* Most often your baby’s hearing is tested soon after birth or within a few days.\\n* If there are concerns, we do more tests. A specialist trained to test hearing in babies and children (audiologist) will do the testing.\\n* Some children have hearing loss. It may be caused by fluid behind the eardrums or by problems with the nerve pathways from the inner ear to the brain. The treatments for these types of hearing loss are different.\\n* Your doctor will determine if your child has hearing loss and will talk with you about treatment.\\n\\n### Speech\\n\\nIn some children, differences in the mouth or throat cause problems with speech.\\n\\nBy age 2, a speech and language pathologist (SLP) will regularly check your child’s ability to make speech sounds. Our team will continue to check your child’s speech as they grow.\\n\\nSome children have a condition called [velopharyngeal dysfunction](/conditions/vpd/ \"velopharyngeal dysfunction\") (VPD), which makes it hard for them to make speech sounds correctly. VPD may develop over time in a child who had a cleft palate repaired.\\n\\nDepending on your child’s needs, we may recommend:\\n\\n* A custom\\\\-made speech appliance called an obturator.\\n* Surgery on the roof of the mouth or throat. Your surgeon and speech pathologist will work together to recommend what is best for your child.\\n* Speech therapy to develop correct speech sounds.\\n\\n### Heart\\n\\nProblems in the heart are common in children with 22q11\\\\.2\\\\-related disorders. The problem could be mild, like an unusual sound heard during a heartbeat (heart murmur). Sometimes it is serious enough to affect how the heart works.\\n\\nIf your child is healthy and growing well, it is not likely that they have a major heart problem. To check, your child’s doctor will order an ultrasound picture of your child’s heart (echocardiogram).\\n\\nIf problems are found, your child will see a heart specialist (cardiologist) for care as needed. [Learn more about Children’s Heart Center](/clinics/heart/why-choose-us/ \"Learn more about Children’s Heart Center\").\\n\\n### Immune system\\n\\nMany children with 22q11\\\\.2\\\\-related disorders have problems with their immune system, which helps protect their body from sickness.\\n\\nWe will check the number of infection\\\\-fighting white cells in your child’s blood. We may send your child to a doctor who specializes in the immune system (immunologist).\\n\\nIf your child’s immune system does not work well, they may:\\n\\n* Be more likely to get infections. We will watch for signs of an infection and treat it quickly. Rarely, children need to take antibiotics or other treatments to prevent infection.\\n* Need extra doses of vaccines to build enough protection against disease.\\n* Need to avoid some vaccines with live viruses because their body is less able to fight infection.\\n\\n[Learn more about Children’s Immunology program](/clinics/immunology/ \"Learn more about Children’s Immunology program\").\\n\\n### Kidneys\\n\\nSome children with 22q11\\\\.2\\\\-related disorders have kidney problems. We may recommend that your child have a kidney (renal) ultrasound.\\n\\nWe are looking to make sure that the kidneys formed normally. If your child has a normal ultrasound, they will not need another one.\\n\\nIf there is a problem, your child will see a kidney specialist (nephrologist).\\n\\n[Learn more about Children’s Nephrology program](/clinics/nephrology/ \"Learn more about Children’s Nephrology program\").\\n\\n### Low calcium levels in blood\\n\\nSome children with 22q\\\\-related disorders have problems with low calcium levels. If calcium is too low it can cause seizures.\\n\\nWe will do a blood test to check the calcium level. Your doctor may decide your child needs to take a calcium supplement or see an [endocrinologist](/clinics/endocrinology/).\\n\\n### Development and learning\\n\\nMany children with 22q11\\\\.2\\\\-related disorders have differences in how they learn and process information. Some children will have normal intelligence, and some will have intelligence that is below normal.\\n\\nYour child’s care team will make sure their learning style is tested. This helps us better understand how they process information. We will help your child’s school know the best ways to support your child’s learning.\\n\\nSome children with 22q11\\\\.2\\\\-related disorders will have trouble learning because of attention deficit hyperactivity disorder (ADHD), anxiety or <button>autism spectrum disorder</button>\\n\\n. If your child develops any of these problems, a specialist will evaluate your child and suggest treatment to help them start school ready to learn. We will also work with you to find resources in your community if needed.\\n\\n### Behavior and mental health\\n\\n22q11\\\\.2\\\\-related disorders increase the risk of problems with behavior and mental health. These include:\\n\\n* Attention deficit hyperactivity disorder (ADHD)\\n* Autism spectrum disorder\\n* Anxiety\\n* Depression\\n* Bipolar disorder\\n\\nMany problems can be managed well if they are found early and treated by a doctor familiar with 22q11\\\\.2\\\\-related disorders.\\n\\n* Patients with 22q\\\\-related disorders have an increased risk of autism spectrum disorder and other problems affecting the brain and central nervous system (neurodevelopmental).\\n* Children with 22q\\\\-related disorders are also at risk for other psychiatric conditions, such as schizophrenia \\xa0and anxiety.\\n\\nVarious types of mental health issues begin at different times. We will regularly check your child’s behavior, mood and coping. Your healthcare team will ask about your child’s behavior at home and school.\\n\\nIf there are concerns, a psychiatrist or neurodevelopmental specialist will evaluate your child and recommend treatment. Your craniofacial pediatrician and social worker will work with you to find resources in your community if needed.\\n\\n## 22q11\\\\.2\\\\-Related Disorders at Seattle Children\\'s\\n\\nMany families have never heard of these conditions before their child’s diagnosis. Seattle Children’s has a [clinic](/clinics/craniofacial/services/22q-clinic/ \"clinic\") focused on caring for children with 22q11\\\\.2\\\\-related disorders.\\n\\nMany of the babies and children we see are newly diagnosed. We also work with expectant parents who are worried about the results of tests during pregnancy.\\n\\nPlease call the Craniofacial Center at [206\\\\-987\\\\-0339](tel:206-987-0339) for more information, a second opinion or to make an appointment.\\n\\n### A clinic focused on your child’s condition\\n\\nOur [22q Clinic](/clinics/craniofacial/services/22q-clinic/ \"22q Clinic\") is the only multidisciplinary clinic for children with 22q11\\\\.2\\\\-related disorders in the 5\\\\-state region that includes Washington, Alaska, Montana, Idaho and Wyoming. Our clinic team has been diagnosing these conditions and helping families care for their children since 2006\\\\.\\n\\nOur doctors are experienced in treating the problems caused by these conditions.\\n\\n### Specialists to cover your child\\'s needs\\n\\nThe 22q Clinic is part of Seattle Children’s [Craniofacial Center](/clinics/craniofacial/ \"Craniofacial Center\"). Our 50 specialists in 19 different fields meet weekly to discuss children with complex needs and decide on the best care plan for each child.\\n\\nA craniofacial pediatrician, medical geneticist, genetic counselor, nurse, family service coordinator and social worker will work closely with your family. They manage your child’s care and make sure all your questions are answered.\\n\\n[Our 22q Clinic](/clinics/craniofacial/services/22q-clinic/ \"Our 22q Clinic\") can easily form a team with the right experts to care for your child’s specific needs. These may include an audiologist; dietitian; ear, nose and throat specialist (otolaryngologist); feeding therapist; psychiatrist; and speech and language pathologist (SLP). They create a personalized plan of care for your child.\\n\\nIf needed, your child will see experts in other departments at Seattle Children’s, for problems affecting their [heart](/clinics/heart/ \"heart\"), [mental health](/clinics/psychiatry-and-behavioral-medicine/ \"mental health\"), [hormones](/clinics/endocrinology/ \"hormones\"), [nervous system](/clinics/neurosciences/ \"nervous system\"), [stomach and intestines](/clinics/gastroenterology-hepatology/ \"stomach and intestines\"), [bones](/clinics/orthopedics/ \"bones\"), [kidneys](/clinics/nephrology/ \"kidneys\") and [infection\\\\-fighting immune system](/clinics/immunology/ \"infection-fighting immune system\"). We work together, and with you and your family’s doctor, to care for your child.\\n\\n### We support your whole family\\n\\nA diagnosis of a 22q11\\\\.2\\\\-related disorder can be scary. We take time to explain your child’s condition. We help you fully understand your treatment options and make choices that are right for your family.\\n\\nOur child life specialists and social workers support your child and family through the challenges of their condition. We help you find [community resources and support groups](/clinics/craniofacial/patient-family-resources/ \"community resources and support groups\").\\n\\nAs your child gets older, we include them in decisions about their medical care. Your family has a [full team](/clinics/craniofacial/meet-your-team/ \"full team\") behind you, including specialists in nutrition, physical therapy and speech therapy. Read more about the [supportive care we offer](/clinics/craniofacial/services/supportive-care/ \"supportive care we offer\").\\n\\nSeattle Children’s provides craniofacial care for children in an area one\\\\-fourth the size of the continental U.S. We also treat children from across the globe. This has helped us develop systems to provide outstanding, personalized care at great distance.\\n\\n## Contact Us\\n\\nContact the [Craniofacial Center](/clinics/craniofacial/contact-locations/ \"Craniofacial Center\") at[206\\\\-987\\\\-2208](tel:206-987-2208) for an appointment, a second opinion or more information.\\n\\nProviders, see [how to refer a patient](/clinics/craniofacial/refer-a-patient/ \"how to refer a patient\").\\n\\n', 'copyright': 'Copyright not found', 'chunks': [{'id': 0, 'unique_id': 'fe870e0c-f181-4f83-a82d-dce30ef0647b', 'content': '# 22q11.2-Related Disorders## What are 22q11\\\\.2\\\\-related disorders?\\n\\n22q11\\\\.2\\\\-related disorders are caused by differences in part of chromosome 22, called the q11\\\\.2 region. Chromosomes contain genes, which tell our cells how to work and what proteins to make. There are 23 pairs of chromosomes in each cell of the body.\\n22q11\\\\.2\\\\-related disorders happen in at least 1 in 1,000 newborns.\\nThe symptoms differ widely, even among members of the same family. There may be small differences in how your child’s eyelids, nose and ears look.\\nThese conditions are linked to many health issues. They can affect your child’s growth, feeding, breathing, speaking, hearing, learning and mental health. But most children with 22q11\\\\.2\\\\-related disorders only have problems in some of these areas.', 'parent_id': None, 'url_links': ['https://www.seattlechildrens.org/clinics/psychiatry-and-behavioral-medicine/'], 'is_root': True, 'kind': 'chunk'}, {'id': 1, 'unique_id': '4aeef8eb-e1b0-43fd-af81-dd888f518265', 'content': '### What causes 22q11\\\\.2\\\\-related disorders?\\n\\nThese disorders happen because of changes in the 22q11\\\\.2 part of chromosome 22\\\\. There may be extra genes, missing genes or genes in the wrong place.\\nYour child may:\\n* Be **missing** a small part of chromosome 22 (22q11\\\\.2 deletion syndrome).\\n* Have **extra** genes in the q11\\\\.2 part of chromosome 22 (22q11\\\\.2 duplication syndrome).\\n* Have changes**near**the q11\\\\.2 part of chromosome 22 (22q11\\\\.2 distal deletion disorder).\\n* Have genes from 22q11\\\\.2 switch places with genes on another chromosome (translocation).\\n* Have a 22q11\\\\.2\\\\-related disorder**and**another genetic syndrome.\\nWhether the genetic change is new or inherited varies:\\n* For 90% of children with 22q11\\\\.2 **deletion**, this is a new genetic change (not passed down from a parent).\\n* In 66% of children with 22q11\\\\.2 **duplication**, the genetic change is passed from a parent.\\nWhen people with 22q11\\\\.2 related disorders become parents, they have a 50% chance of passing the condition to their child.', 'parent_id': 0, 'url_links': [], 'is_root': False, 'kind': 'chunk'}, {'id': 2, 'unique_id': '778cd8b0-3f01-4e13-9afb-62caac666d0c', 'content': \"### Other names for 22q11\\\\.2\\\\-related disorders\\n\\nThere are many older names for these conditions. These names were used before it was known that all are a form of the same condition.\\nAll of these names have been replaced with “22q11\\\\.2\\\\-related disorders:”\\n* Velocardiofacial syndrome (VCFS)\\n* DiGeorge syndrome\\n* Shprintzen syndrome\\n* Conotruncal anomaly unusual face syndrome\\n* Cayler cardiofacial syndrome\\n* Catch 22 syndrome\\n---\\n[22q11\\\\.2\\\\-Related Disorders Care at Seattle Children's](/clinics/craniofacial/services/22q-clinic/)\\nAt the 22q Clinic, a team experienced with these conditions will evaluate your child. We create a personalized care plan for your child and bring in other experts to meet your child’s specific needs.\\n---\", 'parent_id': 0, 'url_links': ['https://www.seattlechildrens.org/clinics/craniofacial/services/22q-clinic/'], 'is_root': False, 'kind': 'chunk'}, {'id': 3, 'unique_id': '57052939-ff3c-47c8-aca3-1610587e5fc1', 'content': '## Symptoms of 22q11\\\\.2\\\\-Related Disorders\\n\\nEvery child with a 22q11\\\\.2\\\\-related disorder is different.\\nSome children have facial differences, including:\\n* Eyelids that look hooded\\n* A nose that is tube\\\\-shaped\\n* Ears that are folded over more than normal at the edges\\n* A face that looks long, with flat cheeks\\n* A narrow mouth\\nThe 22q11\\\\.2\\\\-related disorders may cause problems with your child’s:\\n* Roof of the mouth (palate), including[cleft palate](/conditions/cleft-lip-palate/ \"cleft palate\")\\n* Ears, nose or throat\\n* Heart\\n* Infection\\\\-fighting immune system\\n* Nervous system\\n* Kidneys\\n* Skeleton\\n* Hormone\\\\-producing endocrine system\\nThese differences may affect your child’s growth, feeding, breathing, speaking, hearing, learning or mental health.', 'parent_id': 0, 'url_links': ['https://www.seattlechildrens.org/conditions/cleft-lip-palate/', 'https://www.seattlechildrens.org/clinics/psychiatry-and-behavioral-medicine/'], 'is_root': False, 'kind': 'chunk'}, {'id': 4, 'unique_id': '8ad5a788-b1d8-40ae-bbb3-a30cef54976c', 'content': '## Diagnosing 22q11\\\\.2\\\\-Related Disorders\\n\\nSeattle Children’s has a [22q Clinic](/clinics/craniofacial/services/22q-clinic/ \"22q Clinic\") focused on diagnosing these conditions and helping families manage them.', 'parent_id': 0, 'url_links': ['https://www.seattlechildrens.org/clinics/craniofacial/services/22q-clinic/'], 'is_root': False, 'kind': 'chunk'}, {'id': 5, 'unique_id': '9555ae31-bf24-4b90-9535-0f8385693be0', 'content': '### Diagnosis before birth\\n\\nThese conditions are sometimes diagnosed before birth. The tests use different samples:\\n* An expectant mother’s blood, which includes DNA from the placenta. Noninvasive prenatal screening (NIPS) can identify some conditions. But many mothers whose test shows a risk of 22q11\\\\.2 conditions will go on to have a healthy child. Further testing is needed to confirm the diagnosis.\\n* Amniotic fluid that surrounds and protects a baby in the womb (amniocentesis).\\n* Part of the placenta, through a test called chorionic villus sampling (CVS).\\nFurther tests on CVS or amniotic fluid samples may detect the specific 22q11\\\\.2 disorder. The 2 tests are FISH and chromosomal microarray analysis (CMA). Genetic testing may include doing a karyotype to make sure parts of the chromosomes have not switched places with one another.\\nThe tests can show if your baby has missing, extra or misplaced genes in the q11\\\\.2 area of chromosome 22\\\\. But they can not tell how much these genetic changes will affect your baby.\\nTo look for specific problems, your child may have a detailed ultrasound or fetal heart scan ([fetal echo](/clinics/heart/treatments-and-services/echocardiography/ \"fetal echo\")).', 'parent_id': 4, 'url_links': ['https://www.seattlechildrens.org/clinics/heart/', 'https://www.seattlechildrens.org/clinics/craniofacial/services/22q-clinic/', 'https://www.seattlechildrens.org/clinics/heart/treatments-and-services/echocardiography/'], 'is_root': False, 'kind': 'chunk'}, {'id': 6, 'unique_id': '3e5ebd46-bddc-4f58-bf8d-df3b626e2750', 'content': '### Diagnosis after birth\\n\\nYour doctor will check your child and look for the differences that are linked with 22q11\\\\.2\\\\-related disorders. Since the symptoms of the conditions differ from child to child, a careful exam is important.\\nYour doctor may recommend genetic tests to tell the type of 22q11\\\\.2 disorder your child has.\\nDoctors may order other tests or procedures to learn more about your child’s exact condition. For example, an ultrasound picture of their heart (echocardiogram) can show if they have any heart problems.', 'parent_id': 4, 'url_links': ['https://www.seattlechildrens.org/clinics/heart/'], 'is_root': False, 'kind': 'chunk'}, {'id': 7, 'unique_id': 'b8c9ec5c-1b8a-4fe5-915b-6489d07456da', 'content': '### Genetic counseling and testing\\n\\nPhysicians and <button>genetic counselors</button>\\n at our 22q Clinic will talk with you about the pros and cons of genetic testing and explain test results.\\nOur counselors also can give you information about your child’s condition. Counseling can help you make informed decisions about family planning and your child’s treatment.\\nOur genetic counselors also advise people with 22q11\\\\.2\\\\-related disorders about their chance of having a child with a similar condition. A person with the condition has a 50% chance in each pregnancy of passing it on to their child.', 'parent_id': 4, 'url_links': ['https://www.seattlechildrens.org/clinics/craniofacial/services/22q-clinic/', 'https://www.seattlechildrens.org/clinics/genetics/genetic-counseling/'], 'is_root': False, 'kind': 'chunk'}, {'id': 8, 'unique_id': '24ae7eb5-fafa-43d0-a885-06b17ba33dd3', 'content': '## Treating 22q11\\\\.2\\\\-Related Disorders\\n\\nThe effects of these conditions vary greatly from child to child. We create a personalized care plan based on your child\\'s specific needs.\\nBecause of the high rates of problems in the following areas, most children with 22q11\\\\.2\\\\-related disorders will need to see providers with special training in:\\n* [Audiology](/clinics/audiology/ \"Audiology\")\\n* [Genetic counseling](/clinics/genetics/genetic-counseling/ \"Genetic counseling\")\\n* [Neuropsychology](/clinics/neuropsychology/)\\n* [Immunology](/clinics/immunology/)\\n* [Nutrition](/clinics/nutrition/ \"Nutrition\")\\n* [Occupational Therapy](/clinics/occupational-therapy/)\\n* [Otolaryngology](/clinics/otolaryngology/ \"Otolaryngology\")\\n* [Psychiatry/Psychology](/clinics/psychiatry-and-behavioral-medicine/ \"Psychiatry\")\\n* [Social work](/clinics/social-work/ \"Social work\")\\n* [Speech and language pathology](/clinics/speech-and-language/ \"Speech and language pathology\")\\nThese providers are all part of our coordinated 22q Team Clinic.\\nDepending on their medical problems and test results, your child may also need to see other specialists at Seattle Children’s.', 'parent_id': 0, 'url_links': ['https://www.seattlechildrens.org/clinics/speech-and-language/', 'https://www.seattlechildrens.org/clinics/nutrition/', 'https://www.seattlechildrens.org/clinics/otolaryngology/', 'https://www.seattlechildrens.org/clinics/social-work/', 'https://www.seattlechildrens.org/clinics/neuropsychology/', 'https://www.seattlechildrens.org/clinics/occupational-therapy/', 'https://www.seattlechildrens.org/clinics/psychiatry-and-behavioral-medicine/', 'https://www.seattlechildrens.org/clinics/immunology/', 'https://www.seattlechildrens.org/clinics/craniofacial/services/22q-clinic/', 'https://www.seattlechildrens.org/clinics/audiology/', 'https://www.seattlechildrens.org/clinics/genetics/genetic-counseling/'], 'is_root': False, 'kind': 'chunk'}, {'id': 9, 'unique_id': '6ed0c586-ab27-4fbd-91be-779c7e44e744', 'content': '### Feeding and growth\\n\\nChildren with 22q11\\\\.2\\\\-related disorders may have a hard time feeding. This can be caused by problems with their mouth or throat:\\n* Not having enough tissue (“insufficient”) in the palate or throat ([velopharyngeal insufficiency](/conditions/vpd/ \"velopharyngeal insufficiency\"), VPI)\\n* A gap in the roof of the mouth ([cleft palate](/conditions/cleft-lip-palate/ \"cleft palate\"))\\n* A gap in the roof of the mouth that is covered by the lining of the mouth (submucous cleft palate)\\nOur [Feeding Management](/clinics/craniofacial/services/feeding-management/ \"Feeding Management\") team can help. A dietitian may advise you about your child\\'s diet.\\n* We can teach you ways to [feed your baby](/clinics/craniofacial/patient-family-resources/cleft-feeding-instructions/ \"feed your baby\") and recommend special bottles to use.\\n* If your baby is not able to get enough nutrition by bottle, they may need a tube from their nose to their stomach (NG tube). For most children, this is temporary and they are able to go back to feeding entirely by mouth after feeding therapy.\\n* If feeding problems are severe, your doctor may recommend placing a tube through your child’s belly (abdominal wall) into the stomach. This is called a gastrostomy tube or G\\\\-tube.', 'parent_id': 8, 'url_links': ['https://www.seattlechildrens.org/clinics/craniofacial/services/feeding-management/', 'https://www.seattlechildrens.org/clinics/craniofacial/services/22q-clinic/', 'https://www.seattlechildrens.org/conditions/vpd/', 'https://www.seattlechildrens.org/clinics/craniofacial/patient-family-resources/cleft-feeding-instructions/', 'https://www.seattlechildrens.org/conditions/cleft-lip-palate/'], 'is_root': False, 'kind': 'chunk'}, {'id': 10, 'unique_id': '262478eb-fd71-4efe-a6c6-80d4d764782c', 'content': '#### Palate repair\\n\\nIf your child has problems with the roof of their mouth or throat, your surgeon will talk with you about repair.\\n* Repairing a gap in the roof of the mouth (cleft palate) usually happens when your child is about 1 year old. See [Cleft Palate Treatments](/conditions/cleft-lip-palate/#treating \"Cleft Palate Treatments\").\\n* Other problems with the mouth or throat, such as [velopharyngeal dysfunction](/conditions/vpd/ \"velopharyngeal dysfunction\") (VPD), are treated when your child is older than 1 year.', 'parent_id': 9, 'url_links': ['https://www.seattlechildrens.org/conditions/vpd/', 'https://www.seattlechildrens.org/conditions/cleft-lip-palate/', 'https://www.seattlechildrens.org/conditions/cleft-lip-palate/#treating'], 'is_root': False, 'kind': 'chunk'}, {'id': 11, 'unique_id': '72cb077f-0aa7-465f-91b9-ee019350332f', 'content': '#### Growth\\n\\nWe will check regularly to make sure your child is growing well.\\n* Children with 22q11\\\\.2 **deletion** syndrome often have a different and slower pattern of growth than other children. We compare your child to growth charts specific to 22q11\\\\.2 deletion syndrome.\\n* Usually, children with 22q11\\\\.2 **duplication**are bigger than average.', 'parent_id': 9, 'url_links': [], 'is_root': False, 'kind': 'chunk'}, {'id': 12, 'unique_id': '38c625b8-a49e-4aa2-a0ce-c7bd1ca13510', 'content': \"### Hearing\\n\\nYour doctor will check your child's ear health and hearing regularly.\\n* Most often your baby’s hearing is tested soon after birth or within a few days.\\n* If there are concerns, we do more tests. A specialist trained to test hearing in babies and children (audiologist) will do the testing.\\n* Some children have hearing loss. It may be caused by fluid behind the eardrums or by problems with the nerve pathways from the inner ear to the brain. The treatments for these types of hearing loss are different.\\n* Your doctor will determine if your child has hearing loss and will talk with you about treatment.\", 'parent_id': 8, 'url_links': [], 'is_root': False, 'kind': 'chunk'}, {'id': 13, 'unique_id': 'a80f6f46-c02c-4f32-af98-2ce6356e0ae1', 'content': '### Speech\\n\\nIn some children, differences in the mouth or throat cause problems with speech.\\nBy age 2, a speech and language pathologist (SLP) will regularly check your child’s ability to make speech sounds. Our team will continue to check your child’s speech as they grow.\\nSome children have a condition called [velopharyngeal dysfunction](/conditions/vpd/ \"velopharyngeal dysfunction\") (VPD), which makes it hard for them to make speech sounds correctly. VPD may develop over time in a child who had a cleft palate repaired.\\nDepending on your child’s needs, we may recommend:\\n* A custom\\\\-made speech appliance called an obturator.\\n* Surgery on the roof of the mouth or throat. Your surgeon and speech pathologist will work together to recommend what is best for your child.\\n* Speech therapy to develop correct speech sounds.', 'parent_id': 8, 'url_links': ['https://www.seattlechildrens.org/conditions/vpd/', 'https://www.seattlechildrens.org/conditions/cleft-lip-palate/'], 'is_root': False, 'kind': 'chunk'}, {'id': 14, 'unique_id': '7566c3ac-245b-4ee5-bc2b-41ab1c1b8cec', 'content': '### Heart\\n\\nProblems in the heart are common in children with 22q11\\\\.2\\\\-related disorders. The problem could be mild, like an unusual sound heard during a heartbeat (heart murmur). Sometimes it is serious enough to affect how the heart works.\\nIf your child is healthy and growing well, it is not likely that they have a major heart problem. To check, your child’s doctor will order an ultrasound picture of your child’s heart (echocardiogram).\\nIf problems are found, your child will see a heart specialist (cardiologist) for care as needed. [Learn more about Children’s Heart Center](/clinics/heart/why-choose-us/ \"Learn more about Children’s Heart Center\").', 'parent_id': 8, 'url_links': ['https://www.seattlechildrens.org/clinics/heart/', 'https://www.seattlechildrens.org/clinics/craniofacial/services/22q-clinic/', 'https://www.seattlechildrens.org/clinics/heart/why-choose-us/'], 'is_root': False, 'kind': 'chunk'}, {'id': 15, 'unique_id': 'ee2755bb-5d43-4424-bd4f-4f8a54212fc4', 'content': '### Immune system\\n\\nMany children with 22q11\\\\.2\\\\-related disorders have problems with their immune system, which helps protect their body from sickness.\\nWe will check the number of infection\\\\-fighting white cells in your child’s blood. We may send your child to a doctor who specializes in the immune system (immunologist).\\nIf your child’s immune system does not work well, they may:\\n* Be more likely to get infections. We will watch for signs of an infection and treat it quickly. Rarely, children need to take antibiotics or other treatments to prevent infection.\\n* Need extra doses of vaccines to build enough protection against disease.\\n* Need to avoid some vaccines with live viruses because their body is less able to fight infection.\\n[Learn more about Children’s Immunology program](/clinics/immunology/ \"Learn more about Children’s Immunology program\").', 'parent_id': 8, 'url_links': ['https://www.seattlechildrens.org/clinics/immunology/', 'https://www.seattlechildrens.org/clinics/craniofacial/services/22q-clinic/'], 'is_root': False, 'kind': 'chunk'}, {'id': 16, 'unique_id': '689d154d-75b0-45d4-8f2e-5a1da1ef46ed', 'content': '### Kidneys\\n\\nSome children with 22q11\\\\.2\\\\-related disorders have kidney problems. We may recommend that your child have a kidney (renal) ultrasound.\\nWe are looking to make sure that the kidneys formed normally. If your child has a normal ultrasound, they will not need another one.\\nIf there is a problem, your child will see a kidney specialist (nephrologist).\\n[Learn more about Children’s Nephrology program](/clinics/nephrology/ \"Learn more about Children’s Nephrology program\").', 'parent_id': 8, 'url_links': ['https://www.seattlechildrens.org/clinics/craniofacial/services/22q-clinic/', 'https://www.seattlechildrens.org/clinics/nephrology/'], 'is_root': False, 'kind': 'chunk'}, {'id': 17, 'unique_id': '93fb5ed6-4535-4ee0-b6a3-7d21dd6a0084', 'content': '### Low calcium levels in blood\\n\\nSome children with 22q\\\\-related disorders have problems with low calcium levels. If calcium is too low it can cause seizures.\\nWe will do a blood test to check the calcium level. Your doctor may decide your child needs to take a calcium supplement or see an [endocrinologist](/clinics/endocrinology/).', 'parent_id': 8, 'url_links': ['https://www.seattlechildrens.org/clinics/endocrinology/', 'https://www.seattlechildrens.org/clinics/craniofacial/services/22q-clinic/'], 'is_root': False, 'kind': 'chunk'}, {'id': 18, 'unique_id': '19ad8ea5-e678-4019-9a2b-5c9c4b27f73e', 'content': '### Development and learning\\n\\nMany children with 22q11\\\\.2\\\\-related disorders have differences in how they learn and process information. Some children will have normal intelligence, and some will have intelligence that is below normal.\\nYour child’s care team will make sure their learning style is tested. This helps us better understand how they process information. We will help your child’s school know the best ways to support your child’s learning.\\nSome children with 22q11\\\\.2\\\\-related disorders will have trouble learning because of attention deficit hyperactivity disorder (ADHD), anxiety or <button>autism spectrum disorder</button>\\n. If your child develops any of these problems, a specialist will evaluate your child and suggest treatment to help them start school ready to learn. We will also work with you to find resources in your community if needed.', 'parent_id': 8, 'url_links': [], 'is_root': False, 'kind': 'chunk'}, {'id': 19, 'unique_id': 'a357719a-6737-439e-9a80-78dcb82fa38d', 'content': '### Behavior and mental health\\n\\n22q11\\\\.2\\\\-related disorders increase the risk of problems with behavior and mental health. These include:\\n* Attention deficit hyperactivity disorder (ADHD)\\n* Autism spectrum disorder\\n* Anxiety\\n* Depression\\n* Bipolar disorder\\nMany problems can be managed well if they are found early and treated by a doctor familiar with 22q11\\\\.2\\\\-related disorders.\\n* Patients with 22q\\\\-related disorders have an increased risk of autism spectrum disorder and other problems affecting the brain and central nervous system (neurodevelopmental).\\n* Children with 22q\\\\-related disorders are also at risk for other psychiatric conditions, such as schizophrenia \\xa0and anxiety.\\nVarious types of mental health issues begin at different times. We will regularly check your child’s behavior, mood and coping. Your healthcare team will ask about your child’s behavior at home and school.\\nIf there are concerns, a psychiatrist or neurodevelopmental specialist will evaluate your child and recommend treatment. Your craniofacial pediatrician and social worker will work with you to find resources in your community if needed.', 'parent_id': 8, 'url_links': ['https://www.seattlechildrens.org/clinics/neurosciences/', 'https://www.seattlechildrens.org/clinics/psychiatry-and-behavioral-medicine/'], 'is_root': False, 'kind': 'chunk'}, {'id': 20, 'unique_id': '78cbd3c4-4d9e-4c28-ab80-3481f96fb0f8', 'content': '## 22q11\\\\.2\\\\-Related Disorders at Seattle Children\\'s\\n\\nMany families have never heard of these conditions before their child’s diagnosis. Seattle Children’s has a [clinic](/clinics/craniofacial/services/22q-clinic/ \"clinic\") focused on caring for children with 22q11\\\\.2\\\\-related disorders.\\nMany of the babies and children we see are newly diagnosed. We also work with expectant parents who are worried about the results of tests during pregnancy.\\nPlease call the Craniofacial Center at [206\\\\-987\\\\-0339](tel:206-987-0339) for more information, a second opinion or to make an appointment.', 'parent_id': 0, 'url_links': ['https://www.seattlechildrens.orgtel:206-987-0339', 'https://www.seattlechildrens.org/clinics/craniofacial/services/22q-clinic/', 'https://www.seattlechildrens.org/clinics/craniofacial/contact-locations/'], 'is_root': False, 'kind': 'chunk'}, {'id': 21, 'unique_id': '03a9669d-08b1-458c-aa7b-50cc74c83d78', 'content': '### A clinic focused on your child’s condition\\n\\nOur [22q Clinic](/clinics/craniofacial/services/22q-clinic/ \"22q Clinic\") is the only multidisciplinary clinic for children with 22q11\\\\.2\\\\-related disorders in the 5\\\\-state region that includes Washington, Alaska, Montana, Idaho and Wyoming. Our clinic team has been diagnosing these conditions and helping families care for their children since 2006\\\\.\\nOur doctors are experienced in treating the problems caused by these conditions.', 'parent_id': 20, 'url_links': ['https://www.seattlechildrens.org/clinics/craniofacial/services/22q-clinic/'], 'is_root': False, 'kind': 'chunk'}, {'id': 22, 'unique_id': '0558ae5d-c96b-4b0b-bf73-965233e89dfe', 'content': '### Specialists to cover your child\\'s needs\\n\\nThe 22q Clinic is part of Seattle Children’s [Craniofacial Center](/clinics/craniofacial/ \"Craniofacial Center\"). Our 50 specialists in 19 different fields meet weekly to discuss children with complex needs and decide on the best care plan for each child.\\nA craniofacial pediatrician, medical geneticist, genetic counselor, nurse, family service coordinator and social worker will work closely with your family. They manage your child’s care and make sure all your questions are answered.\\n[Our 22q Clinic](/clinics/craniofacial/services/22q-clinic/ \"Our 22q Clinic\") can easily form a team with the right experts to care for your child’s specific needs. These may include an audiologist; dietitian; ear, nose and throat specialist (otolaryngologist); feeding therapist; psychiatrist; and speech and language pathologist (SLP). They create a personalized plan of care for your child.\\nIf needed, your child will see experts in other departments at Seattle Children’s, for problems affecting their [heart](/clinics/heart/ \"heart\"), [mental health](/clinics/psychiatry-and-behavioral-medicine/ \"mental health\"), [hormones](/clinics/endocrinology/ \"hormones\"), [nervous system](/clinics/neurosciences/ \"nervous system\"), [stomach and intestines](/clinics/gastroenterology-hepatology/ \"stomach and intestines\"), [bones](/clinics/orthopedics/ \"bones\"), [kidneys](/clinics/nephrology/ \"kidneys\") and [infection\\\\-fighting immune system](/clinics/immunology/ \"infection-fighting immune system\"). We work together, and with you and your family’s doctor, to care for your child.', 'parent_id': 20, 'url_links': ['https://www.seattlechildrens.org/clinics/heart/', 'https://www.seattlechildrens.org/clinics/craniofacial/contact-locations/', 'https://www.seattlechildrens.org/clinics/gastroenterology-hepatology/', 'https://www.seattlechildrens.org/clinics/psychiatry-and-behavioral-medicine/', 'https://www.seattlechildrens.org/clinics/immunology/', 'https://www.seattlechildrens.org/clinics/endocrinology/', 'https://www.seattlechildrens.org/clinics/craniofacial/services/22q-clinic/', 'https://www.seattlechildrens.org/clinics/nephrology/', 'https://www.seattlechildrens.org/clinics/neurosciences/', 'https://www.seattlechildrens.org/clinics/orthopedics/'], 'is_root': False, 'kind': 'chunk'}, {'id': 23, 'unique_id': '73fe0f33-da7a-4763-af0d-5ffa24abecae', 'content': '### We support your whole family\\n\\nA diagnosis of a 22q11\\\\.2\\\\-related disorder can be scary. We take time to explain your child’s condition. We help you fully understand your treatment options and make choices that are right for your family.\\nOur child life specialists and social workers support your child and family through the challenges of their condition. We help you find [community resources and support groups](/clinics/craniofacial/patient-family-resources/ \"community resources and support groups\").\\nAs your child gets older, we include them in decisions about their medical care. Your family has a [full team](/clinics/craniofacial/meet-your-team/ \"full team\") behind you, including specialists in nutrition, physical therapy and speech therapy. Read more about the [supportive care we offer](/clinics/craniofacial/services/supportive-care/ \"supportive care we offer\").\\nSeattle Children’s provides craniofacial care for children in an area one\\\\-fourth the size of the continental U.S. We also treat children from across the globe. This has helped us develop systems to provide outstanding, personalized care at great distance.', 'parent_id': 20, 'url_links': ['https://www.seattlechildrens.org/clinics/craniofacial/services/22q-clinic/', 'https://www.seattlechildrens.org/clinics/craniofacial/patient-family-resources/', 'https://www.seattlechildrens.org/clinics/craniofacial/meet-your-team/', 'https://www.seattlechildrens.org/clinics/craniofacial/services/supportive-care/'], 'is_root': False, 'kind': 'chunk'}, {'id': 24, 'unique_id': '9c8ceaeb-3070-46df-b543-a5690cf2231c', 'content': '## Contact Us\\n\\nContact the [Craniofacial Center](/clinics/craniofacial/contact-locations/ \"Craniofacial Center\") at[206\\\\-987\\\\-2208](tel:206-987-2208) for an appointment, a second opinion or more information.\\nProviders, see [how to refer a patient](/clinics/craniofacial/refer-a-patient/ \"how to refer a patient\").', 'parent_id': 0, 'url_links': ['https://www.seattlechildrens.org/clinics/craniofacial/services/22q-clinic/', 'https://www.seattlechildrens.org/clinics/craniofacial/contact-locations/', 'https://www.seattlechildrens.orgtel:206-987-2208', 'https://www.seattlechildrens.org/clinics/craniofacial/services/22q-clinic/', 'https://www.seattlechildrens.org/clinics/craniofacial/refer-a-patient/'], 'is_root': False, 'kind': 'chunk'}], 'kind': 'page', 'external_links': [], 'internal_links': ['/clinics/craniofacial/services/22q-clinic/', '/conditions/cleft-lip-palate/', '/clinics/craniofacial/services/22q-clinic/', '/clinics/heart/treatments-and-services/echocardiography/', '/clinics/audiology/', '/clinics/genetics/genetic-counseling/', '/clinics/neuropsychology/', '/clinics/immunology/', '/clinics/nutrition/', '/clinics/occupational-therapy/', '/clinics/otolaryngology/', '/clinics/psychiatry-and-behavioral-medicine/', '/clinics/social-work/', '/clinics/speech-and-language/', '/conditions/vpd/', '/conditions/cleft-lip-palate/', '/clinics/craniofacial/services/feeding-management/', '/clinics/craniofacial/patient-family-resources/cleft-feeding-instructions/', '/conditions/cleft-lip-palate/#treating', '/conditions/vpd/', '/conditions/vpd/', '/clinics/heart/why-choose-us/', '/clinics/immunology/', '/clinics/nephrology/', '/clinics/endocrinology/', '/clinics/craniofacial/services/22q-clinic/', 'tel:206-987-0339', '/clinics/craniofacial/services/22q-clinic/', '/clinics/craniofacial/', '/clinics/craniofacial/services/22q-clinic/', '/clinics/heart/', '/clinics/psychiatry-and-behavioral-medicine/', '/clinics/endocrinology/', '/clinics/neurosciences/', '/clinics/gastroenterology-hepatology/', '/clinics/orthopedics/', '/clinics/nephrology/', '/clinics/immunology/', '/clinics/craniofacial/patient-family-resources/', '/clinics/craniofacial/meet-your-team/', '/clinics/craniofacial/services/supportive-care/', '/clinics/craniofacial/contact-locations/', 'tel:206-987-2208', '/clinics/craniofacial/refer-a-patient/']}\n"
          ]
        }
      ],
      "source": [
        "for page_content in pages_content:\n",
        "    print(page_content)\n",
        "    break"
      ]
    },
    {
      "cell_type": "code",
      "execution_count": null,
      "id": "4ZTq57BgfMIP",
      "metadata": {
        "colab": {
          "base_uri": "https://localhost:8080/"
        },
        "id": "4ZTq57BgfMIP",
        "outputId": "f077a12e-e784-415d-9d27-eb4d08d000b2"
      },
      "outputs": [
        {
          "name": "stdout",
          "output_type": "stream",
          "text": [
            "389 Condition pages analyzed...\n",
            "8281 chunks have been extracted from the Conditions website ...\n",
            "7207 internal_links have been extracted from the Conditions website ...\n",
            "390 external_links have been extracted from the Conditions website ...\n"
          ]
        }
      ],
      "source": [
        "print(f\"{len(pages_content)} Condition pages analyzed...\")\n",
        "for artifact_type in ['chunks', 'internal_links', 'external_links']:\n",
        "    count = sum([len(page_content[artifact_type]) for page_content in pages_content])\n",
        "    print(f\"{count} {artifact_type} have been extracted from the Conditions website ...\")"
      ]
    },
    {
      "cell_type": "markdown",
      "id": "z-U-vtXAwyww",
      "metadata": {
        "id": "z-U-vtXAwyww"
      },
      "source": [
        "## 03- Pathways website"
      ]
    },
    {
      "cell_type": "markdown",
      "id": "mpxxGm1YeXtC",
      "metadata": {
        "id": "mpxxGm1YeXtC"
      },
      "source": [
        "The pathways website contains only PDF documents which are extracted using the following code."
      ]
    },
    {
      "cell_type": "code",
      "execution_count": 10,
      "id": "Vr3MpXSZw0fJ",
      "metadata": {
        "id": "Vr3MpXSZw0fJ"
      },
      "outputs": [],
      "source": [
        "url = \"https://www.seattlechildrens.org/healthcare-professionals/community-providers/pathways/\""
      ]
    },
    {
      "cell_type": "code",
      "execution_count": 11,
      "id": "7Ov9P38ue_t8",
      "metadata": {
        "id": "7Ov9P38ue_t8"
      },
      "outputs": [],
      "source": [
        "PDFS_BUCKET_NAME = \"sch_pathways_pdfs\""
      ]
    },
    {
      "cell_type": "code",
      "execution_count": 21,
      "id": "Ou5d6KhHft4s",
      "metadata": {
        "id": "Ou5d6KhHft4s"
      },
      "outputs": [],
      "source": [
        "def extract_pdfs(url: str, bucket_name: str, debug: bool=False) -> None:\n",
        "    \"\"\"\n",
        "    Extract all the PDF files\n",
        "    :param url: url of the root webpace\n",
        "    :param bucket_name: name of the bucket where the PDFs are stored\n",
        "    :param debug: debug flag\n",
        "    :return: None\n",
        "    \"\"\"\n",
        "\n",
        "    # create the bucket if it does not exist\n",
        "    storage_client = storage.Client()\n",
        "    bucket = storage_client.bucket(bucket_name)\n",
        "    if not bucket.exists():\n",
        "        bucket.create()\n",
        "\n",
        "    # extracting the knowledge embedded as links\n",
        "    response = requests.get(url)\n",
        "    soup = BeautifulSoup(response.content, \"html.parser\")\n",
        "\n",
        "    # placeholder for the failed PDF urls\n",
        "    failed_links = []\n",
        "\n",
        "    # extracted PDFs counter\n",
        "    success_count = 0\n",
        "\n",
        "    for link in tqdm.tqdm(soup.find_all(\"a\")):\n",
        "\n",
        "        # enrich the url if needed\n",
        "        if not link.get(\"href\"):\n",
        "            continue\n",
        "\n",
        "        url = \"https://www.seattlechildrens.org\" + link.get(\"href\")\n",
        "\n",
        "        # check if the link points to a PDF file\n",
        "        if url[-3:].lower() == \"pdf\":\n",
        "\n",
        "            if debug:\n",
        "              print(f'Working on {link.get(\"href\")}...')\n",
        "              print(f'URL: {url}')\n",
        "\n",
        "            try:\n",
        "                response = requests.get(url, timeout=10)\n",
        "                if debug:\n",
        "                    print(f'Status code: {response.status_code}')\n",
        "                    return\n",
        "                if response.status_code != 200:\n",
        "                    failed_links.append(url)\n",
        "                else:\n",
        "                    pdf_content = response.content\n",
        "                    file_name = url.split(\"/\")[-1].lower()\n",
        "                    file_name = file_name.replace(\" \", \"_\").encode(\"ascii\", \"ignore\").decode(\"ascii\")\n",
        "                    blob = bucket.blob(file_name)\n",
        "                    blob.upload_from_string(pdf_content, content_type=\"application/pdf\")\n",
        "                    success_count += 1\n",
        "            except:\n",
        "                failed_links.append(url)\n",
        "\n",
        "    print(f\"Extracted {success_count} PDFs from pathways ...\")\n",
        "    print(f\"Failed to extract {len(failed_links)} PDFs from pathways ...\")"
      ]
    },
    {
      "cell_type": "code",
      "execution_count": 22,
      "id": "XFSmfnBVh0po",
      "metadata": {
        "colab": {
          "base_uri": "https://localhost:8080/"
        },
        "id": "XFSmfnBVh0po",
        "outputId": "e9b0b4f2-4cd8-435a-d5f0-14b8fba54a40"
      },
      "outputs": [
        {
          "name": "stderr",
          "output_type": "stream",
          "text": [
            "100%|██████████| 201/201 [02:08<00:00,  1.57it/s]"
          ]
        },
        {
          "name": "stdout",
          "output_type": "stream",
          "text": [
            "Extracted 87 PDFs from pathways ...\n",
            "Failed to extract 0 PDFs from pathways ...\n"
          ]
        },
        {
          "name": "stderr",
          "output_type": "stream",
          "text": [
            "\n"
          ]
        }
      ],
      "source": [
        "extract_pdfs(url, PDFS_BUCKET_NAME)"
      ]
    },
    {
      "cell_type": "markdown",
      "id": "d1FJOvmKmD2f",
      "metadata": {
        "id": "d1FJOvmKmD2f"
      },
      "source": [
        "## 04- Emergency and Urgent Care"
      ]
    },
    {
      "cell_type": "markdown",
      "id": "JKjwR9vcmHJ8",
      "metadata": {
        "id": "JKjwR9vcmHJ8"
      },
      "source": [
        "The Emergency or Urgent Care page contains information about conditions and the most appropriate service to contact for each of them.\n",
        "\n",
        "The main source of knowledge is embedded in a table that needs to be parsed consistently."
      ]
    },
    {
      "cell_type": "code",
      "execution_count": 23,
      "id": "pa47Jwae-Ve9",
      "metadata": {
        "id": "pa47Jwae-Ve9"
      },
      "outputs": [],
      "source": [
        "url = \"https://www.seattlechildrens.org/clinics/urgent-care-clinic/emergency-or-urgent-care\"\n",
        "response = requests.get(url)\n",
        "soup = BeautifulSoup(response.content, \"html.parser\")"
      ]
    },
    {
      "cell_type": "markdown",
      "id": "hzL4fVY5_inJ",
      "metadata": {
        "id": "hzL4fVY5_inJ"
      },
      "source": [
        "### 04-01- Table Extraction"
      ]
    },
    {
      "cell_type": "code",
      "execution_count": 24,
      "id": "6ppTAzOEAQBp",
      "metadata": {
        "id": "6ppTAzOEAQBp"
      },
      "outputs": [],
      "source": [
        "# prefix for the links\n",
        "prefix = \"https://www.seattlechildrens.org\""
      ]
    },
    {
      "cell_type": "code",
      "execution_count": 62,
      "id": "outFK5Gi_dvE",
      "metadata": {
        "id": "outFK5Gi_dvE"
      },
      "outputs": [],
      "source": [
        "def extract_table(url: str)-> dict:\n",
        "    \"\"\"\n",
        "    Extract table content from url\n",
        "    :param url: url of the table\n",
        "    :return: dictionary containing the table content\n",
        "    \"\"\"\n",
        "\n",
        "    response = requests.get(url)\n",
        "    soup = BeautifulSoup(response.content, \"html.parser\")\n",
        "    conditions_services = {}\n",
        "\n",
        "    # table extraction\n",
        "    table_content = soup.find(\"table\")\n",
        "    tbody = table_content.find(\"tbody\")\n",
        "\n",
        "    for tr in tbody.find_all(\"tr\"):\n",
        "        tds = list(tr.find_all(\"td\"))\n",
        "\n",
        "        # condition parsing\n",
        "        condition_td = tds[0]\n",
        "        if condition_td.find(\"a\"):\n",
        "            # removing the information for the em anchor\n",
        "            if condition_td.find(\"em\"):\n",
        "                condition_td.find(\"em\").decompose()\n",
        "                condition_url = None\n",
        "            else:\n",
        "                condition_url = prefix + condition_td.find(\"a\").get(\"href\")\n",
        "            condition_name = condition_td.text.strip()\n",
        "            # removing all non ascii characters from condition_name\n",
        "            condition_name = condition_name.encode(\"ascii\", \"ignore\").decode(\"ascii\")\n",
        "        else:\n",
        "            condition_name = condition_td.text.strip()\n",
        "            condition_url = None\n",
        "        condition = {\n",
        "            \"name\": condition_name,\n",
        "            \"url\": condition_url\n",
        "        }\n",
        "\n",
        "        # service parsing\n",
        "        service_td = tds[1]\n",
        "        if service_td.find(\"a\"):\n",
        "            service_name = service_td.find(\"a\").text.strip()\n",
        "            service_url = prefix + service_td.find(\"a\").get(\"href\")\n",
        "        else:\n",
        "            service_name = condition_td.text.strip()\n",
        "            service_url = None\n",
        "        service = {\n",
        "            \"name\": service_name,\n",
        "            \"url\": service_url\n",
        "        }\n",
        "\n",
        "        conditions_services[condition_name] = {\n",
        "            \"condition\": condition,\n",
        "            \"service\": service\n",
        "        }\n",
        "\n",
        "    print(f\"{len(conditions_services)} rows have been extracted ...\")\n",
        "    return conditions_services"
      ]
    },
    {
      "cell_type": "code",
      "execution_count": 63,
      "id": "rS8eJTj2M7xr",
      "metadata": {
        "colab": {
          "base_uri": "https://localhost:8080/"
        },
        "id": "rS8eJTj2M7xr",
        "outputId": "5c358a1d-b608-4b6b-9367-f8a8068b91be"
      },
      "outputs": [
        {
          "name": "stdout",
          "output_type": "stream",
          "text": [
            "39 rows have been extracted ...\n"
          ]
        }
      ],
      "source": [
        "conditions_services = extract_table(url)"
      ]
    },
    {
      "cell_type": "code",
      "execution_count": 68,
      "id": "xt27-0YdWUM-",
      "metadata": {
        "id": "xt27-0YdWUM-"
      },
      "outputs": [],
      "source": [
        "with open(\"emergency_or_urgent_care.json\", \"w\") as fp:\n",
        "    json.dump(conditions_services, fp)"
      ]
    },
    {
      "cell_type": "code",
      "execution_count": 69,
      "id": "T_SBj5vgWbkw",
      "metadata": {
        "colab": {
          "base_uri": "https://localhost:8080/"
        },
        "id": "T_SBj5vgWbkw",
        "outputId": "f1776318-9fbd-463c-f325-81848acaf341"
      },
      "outputs": [
        {
          "name": "stdout",
          "output_type": "stream",
          "text": [
            "Copying file://emergency_or_urgent_care.json [Content-Type=application/json]...\n",
            "/ [0 files][    0.0 B/  8.5 KiB]                                                \r/ [1 files][  8.5 KiB/  8.5 KiB]                                                \r\n",
            "Operation completed over 1 objects/8.5 KiB.                                      \n"
          ]
        }
      ],
      "source": [
        "! gsutil cp emergency_or_urgent_care.json gs://sch_emergency_or_urgent_care_pdfs/emergency_or_urgent_care.json"
      ]
    },
    {
      "cell_type": "markdown",
      "id": "N6GLlAQvRPwO",
      "metadata": {
        "id": "N6GLlAQvRPwO"
      },
      "source": [
        "#### 04-02- PDFs extraction"
      ]
    },
    {
      "cell_type": "code",
      "execution_count": 65,
      "id": "C2-XJFBIT4RB",
      "metadata": {
        "id": "C2-XJFBIT4RB"
      },
      "outputs": [],
      "source": [
        "PDFS_BUCKET_NAME = \"sch_emergency_or_urgent_care_pdfs\""
      ]
    },
    {
      "cell_type": "code",
      "execution_count": 66,
      "id": "QPMY9bM-T65p",
      "metadata": {
        "colab": {
          "base_uri": "https://localhost:8080/"
        },
        "id": "QPMY9bM-T65p",
        "outputId": "527f4f6c-eabd-4056-9830-685409ec8707"
      },
      "outputs": [
        {
          "name": "stderr",
          "output_type": "stream",
          "text": [
            "100%|██████████| 227/227 [00:13<00:00, 17.19it/s]"
          ]
        },
        {
          "name": "stdout",
          "output_type": "stream",
          "text": [
            "Extracted 16 PDFs from pathways ...\n",
            "Failed to extract 0 PDFs from pathways ...\n"
          ]
        },
        {
          "name": "stderr",
          "output_type": "stream",
          "text": [
            "\n"
          ]
        }
      ],
      "source": [
        "extract_pdfs(url, PDFS_BUCKET_NAME)"
      ]
    },
    {
      "cell_type": "markdown",
      "id": "TFk5FckqWmho",
      "metadata": {
        "id": "TFk5FckqWmho"
      },
      "source": [
        "#### 04-03- Extraction of the text content"
      ]
    },
    {
      "cell_type": "markdown",
      "id": "OY3u-QYcWrDu",
      "metadata": {
        "id": "OY3u-QYcWrDu"
      },
      "source": []
    },
    {
      "cell_type": "code",
      "execution_count": null,
      "id": "MUQx52F4Wyij",
      "metadata": {
        "id": "MUQx52F4Wyij"
      },
      "outputs": [],
      "source": [
        "# TO DO: Keep only the content in the  <div class=\"main-content-body\">\n",
        "# TO DO: decompose <ul class=\"block-featured-buttons\" data-block-type=\"FeaturedButtonBlockData\" data-block-name=\"Buttons\" data-block-id=\"85609\">\n",
        "# TO DO: manage the accordion li id=\"\" class=\"accordion-item js-accordion-item\">"
      ]
    }
  ],
  "metadata": {
    "colab": {
      "collapsed_sections": [
        "qpBfWKsw5t7h",
        "fnG7Q-U48FTV",
        "VdFuH14g8JCd",
        "w69GeTM6AE7p",
        "MWBUzFiW-fwq",
        "z-U-vtXAwyww"
      ],
      "name": "Seattle Children Hospital KMS",
      "provenance": []
    },
    "kernelspec": {
      "display_name": ".env",
      "language": "python",
      "name": "python3"
    },
    "language_info": {
      "codemirror_mode": {
        "name": "ipython",
        "version": 3
      },
      "file_extension": ".py",
      "mimetype": "text/x-python",
      "name": "python",
      "nbconvert_exporter": "python",
      "pygments_lexer": "ipython3",
      "version": "3.12.3"
    }
  },
  "nbformat": 4,
  "nbformat_minor": 5
}
