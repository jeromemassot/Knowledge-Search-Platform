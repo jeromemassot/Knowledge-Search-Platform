{
 "cells": [
  {
   "cell_type": "markdown",
   "id": "18df34ff",
   "metadata": {},
   "source": [
    "# Conditional Knowledge Extraction and Enrichment for Graph RAG usage\n",
    "## Seattle Children Hospital\n",
    "### July 2025\n",
    "#### Jerome Massot (jeromemassot@google.com)"
   ]
  },
  {
   "cell_type": "markdown",
   "id": "edfb243b",
   "metadata": {},
   "source": [
    "## 00- Setup and Import Modules"
   ]
  },
  {
   "cell_type": "code",
   "execution_count": 1,
   "id": "ce2ec4ad",
   "metadata": {},
   "outputs": [],
   "source": [
    "from google.cloud import storage\n",
    "from google.genai import types\n",
    "from google import genai"
   ]
  },
  {
   "cell_type": "code",
   "execution_count": 2,
   "id": "ef9493cc",
   "metadata": {},
   "outputs": [],
   "source": [
    "from html_to_markdown import convert_to_markdown\n",
    "from IPython.display import display, Markdown\n",
    "from bs4 import XMLParsedAsHTMLWarning\n",
    "from bs4 import BeautifulSoup\n",
    "import requests"
   ]
  },
  {
   "cell_type": "code",
   "execution_count": 3,
   "id": "554cc761",
   "metadata": {},
   "outputs": [],
   "source": [
    "from pydantic import BaseModel, Field\n",
    "from typing import List"
   ]
  },
  {
   "cell_type": "code",
   "execution_count": 4,
   "id": "485a9897",
   "metadata": {},
   "outputs": [],
   "source": [
    "import warnings\n",
    "import pprint\n",
    "import tqdm\n",
    "import uuid\n",
    "import json\n",
    "import time\n",
    "import re"
   ]
  },
  {
   "cell_type": "code",
   "execution_count": 5,
   "id": "d64a088c",
   "metadata": {},
   "outputs": [],
   "source": [
    "warnings.filterwarnings(\"ignore\", category=XMLParsedAsHTMLWarning)"
   ]
  },
  {
   "cell_type": "markdown",
   "id": "8f6bf56d",
   "metadata": {},
   "source": [
    "## 01- Conditions Pages Collection Extraction"
   ]
  },
  {
   "cell_type": "markdown",
   "id": "47ee10df",
   "metadata": {},
   "source": [
    "This section of the notebook extracts the list of conditions pages from the index page available in the Seattle Children website."
   ]
  },
  {
   "cell_type": "code",
   "execution_count": 13,
   "id": "026a6fed",
   "metadata": {},
   "outputs": [],
   "source": [
    "def extract_conditions_collection(url: str) -> dict:\n",
    "    \"\"\" \n",
    "    Extract the collection of conditions pages\n",
    "    :param url: url of the index page\n",
    "    :return: a dictionary with the conditions names and urls\n",
    "    \"\"\"\n",
    "\n",
    "    # prefix for the links\n",
    "    prefix = \"https://www.seattlechildrens.org\"\n",
    "\n",
    "    # get the source of the page\n",
    "    response = requests.get(url)\n",
    "    response.raise_for_status()  # Raise an exception for bad status codes\n",
    "    soup = BeautifulSoup(response.content, 'html.parser')\n",
    "\n",
    "    # list the links corresponding to the conditions pages\n",
    "    conditions_pages = {\n",
    "            a.text: prefix+a.get('href') for a in soup.find_all('a', href=True) if a.get('href').startswith(\"/conditions\") \n",
    "        }\n",
    "\n",
    "    return conditions_pages"
   ]
  },
  {
   "cell_type": "code",
   "execution_count": 14,
   "id": "9c1b9fb0",
   "metadata": {},
   "outputs": [],
   "source": [
    "conditions_pages = extract_conditions_collection(\"https://www.seattlechildrens.org/conditions/a-z/\")"
   ]
  },
  {
   "cell_type": "code",
   "execution_count": 15,
   "id": "bc68d2bd",
   "metadata": {},
   "outputs": [
    {
     "name": "stdout",
     "output_type": "stream",
     "text": [
      "There are 392 Condition pages in the collection...\n"
     ]
    }
   ],
   "source": [
    "print(f\"There are {len(conditions_pages)} Condition pages in the collection...\")"
   ]
  },
  {
   "cell_type": "markdown",
   "id": "89cac8bc",
   "metadata": {},
   "source": [
    "## 02- Conditions Pages Content Extraction"
   ]
  },
  {
   "cell_type": "markdown",
   "id": "65ce7ac3",
   "metadata": {},
   "source": [
    "### 02-01- Extraction Engine"
   ]
  },
  {
   "cell_type": "code",
   "execution_count": 33,
   "id": "ecb427fd",
   "metadata": {},
   "outputs": [],
   "source": [
    "def chunk_markdown(markdown_content: str, links: dict) -> list:\n",
    "    \"\"\" \n",
    "    Chunk the markdown content\n",
    "    :param markdown_content: content in markdown format\n",
    "    :param links: dictionary containing the links extracted from content\n",
    "    :return: list of chunks\n",
    "    \"\"\"\n",
    "\n",
    "    # list of chunks\n",
    "    chunks = []\n",
    "\n",
    "    # chunking is based on the mardown layout\n",
    "    lines = markdown_content.split(\"\\n\")\n",
    "\n",
    "    # current chunk\n",
    "    current_id = -1\n",
    "    def default_chunk():\n",
    "        return {\n",
    "            \"id\": current_id + 1,\n",
    "            \"unique_id\": str(uuid.uuid4()),\n",
    "            \"content\": \"\",\n",
    "            \"parent_id\": None,\n",
    "            \"parent_unique_id\": None,\n",
    "            \"url_links\": [],\n",
    "            \"is_root\": False,\n",
    "            \"kind\": \"chunk\"\n",
    "        }\n",
    "\n",
    "    # init the different artifacts\n",
    "    current_chunk = default_chunk()\n",
    "    hierarchy_ids = dict()\n",
    "    hierarchy_unique_ids = dict()\n",
    "\n",
    "    # fill the chunks line by line\n",
    "    for i, line in enumerate(lines):\n",
    "        if len(line)>0:\n",
    "\n",
    "            # Markdown layour drives the chunks content\n",
    "            hashtag_count = line[:10].count(\"#\")\n",
    "\n",
    "            if hashtag_count == 0:\n",
    "                current_chunk['content'] += \"\\n\" + line\n",
    "                \n",
    "                # gather the found links\n",
    "                for link in links:\n",
    "                    if link in line:\n",
    "                        current_chunk['url_links'].append(links[link])\n",
    "            else:\n",
    "                current_chunk['url_links'] = list(set(current_chunk['url_links']))\n",
    "                chunks.append(current_chunk)\n",
    "                current_chunk = default_chunk()\n",
    "                current_chunk['content'] += line + \"\\n\"\n",
    "                hierarchy_ids[hashtag_count] = current_chunk['id']\n",
    "                hierarchy_unique_ids[hashtag_count] = current_chunk['unique_id']\n",
    "\n",
    "                if hashtag_count == 1:\n",
    "                    current_chunk['is_root'] = True\n",
    "                else:\n",
    "                    if hashtag_count == 2:\n",
    "                        current_chunk['parent_id'] = hierarchy_ids[hashtag_count-1]\n",
    "                        current_chunk['parent_unique_id'] = hierarchy_unique_ids[hashtag_count-1]\n",
    "                    elif hashtag_count > 2:\n",
    "                        if hashtag_count-1 in hierarchy_ids:\n",
    "                            current_chunk['parent_id'] = hierarchy_ids[hashtag_count-1]\n",
    "                            current_chunk['parent_unique_id'] = hierarchy_unique_ids[hashtag_count-1]\n",
    "                        else:\n",
    "                            current_chunk['parent_id'] = hierarchy_ids[min(hierarchy_ids.keys())]\n",
    "                            current_chunk['parent_unique_id'] = hierarchy_unique_ids[min(hierarchy_ids.keys())]\n",
    "                \n",
    "                # gather the found links\n",
    "                for link in links:\n",
    "                    if link in line:\n",
    "                        current_chunk['url_links'].append(links[link])\n",
    "                \n",
    "                # incrementing the id counter for next chunk\n",
    "                current_id = current_chunk['id']\n",
    "    chunks.append(current_chunk)\n",
    "    return chunks[1:]"
   ]
  },
  {
   "cell_type": "code",
   "execution_count": 34,
   "id": "12547863",
   "metadata": {},
   "outputs": [],
   "source": [
    "def extract_from_page(url: str) -> dict:\n",
    "    \"\"\"\n",
    "    Extract knowledge from Conditions Page.\n",
    "    :param url: url of the condition page\n",
    "    :return: content and metadata as dictionary\n",
    "    \"\"\"\n",
    "\n",
    "    # prefix for the links\n",
    "    prefix = \"https://www.seattlechildrens.org\"\n",
    "\n",
    "    # get the source of the page\n",
    "    response = requests.get(url)\n",
    "    response.raise_for_status()  # Raise an exception for bad status codes\n",
    "    soup = BeautifulSoup(response.content, 'html.parser')\n",
    "\n",
    "    # extract the title of the page\n",
    "    title = soup.find('div', class_=\"mod page-title\")\n",
    "    if title:\n",
    "        title = title.find('h1').text\n",
    "        title_content = f\"# {title}\"\n",
    "    else:\n",
    "        title = \"Title Not Found\"\n",
    "\n",
    "    # treate the accordeons\n",
    "    div_elements = soup.find_all('div', class_='accordion-header heading4 js-accordion-header')\n",
    "    for div_tag in div_elements:\n",
    "        new_h3_tag = soup.new_tag('h3')\n",
    "        new_h3_tag.extend(div_tag.contents)\n",
    "        div_tag.replace_with(new_h3_tag)\n",
    "    div_elements = soup.find_all('div', class_='accordion-more js-accordion-more')\n",
    "    for div_tag in div_elements:\n",
    "        div_tag.unwrap()\n",
    "    uv_elements = soup.find_all('ul', class_='accordion accordion--classic js-accordion')\n",
    "    for uv_element in uv_elements:\n",
    "        uv_element.unwrap()\n",
    "    li_elements = soup.find_all('li', class_='accordion-item js-accordion-item')\n",
    "    for li_element in li_elements:\n",
    "        li_element.unwrap()\n",
    "\n",
    "    # extract the main content of the page\n",
    "    main_content = soup.find('div', class_=\"main-content-body\")\n",
    "\n",
    "    if main_content:\n",
    "\n",
    "        markdown_content = convert_to_markdown(\n",
    "            main_content,\n",
    "            heading_style='atx',\n",
    "            escape_asterisks=True\n",
    "        )\n",
    "        \n",
    "        link_regex = re.compile(r'(!?\\[[(^)\\]]*\\])\\((.*?)\\)')\n",
    "        link_matches = link_regex.findall(markdown_content)\n",
    "        if link_matches:\n",
    "            for link_match in link_matches:\n",
    "                target = link_match[1]\n",
    "                prefixed_target = prefix + target\n",
    "                pattern = r\"\\(\" + target.replace(\"/\", \"\\\\/\") + \"\\\\)\"\n",
    "                markdown_content = re.sub(pattern, f\"({prefixed_target})\", markdown_content)\n",
    "    else:\n",
    "        markdown_content = \"Main content not found\"\n",
    "\n",
    "    # copyrights\n",
    "    copyright = soup.find('p', class_=\"ho-psmall\")\n",
    "    if copyright:\n",
    "        copyright = copyright.text\n",
    "    else:\n",
    "        copyright = \"Copyright not found\"\n",
    "\n",
    "    # extract links\n",
    "    def clean_link(link_value: str):\n",
    "        link_value = link_value.replace(\"\\r\\n\", \"\").strip()\n",
    "        return link_value\n",
    "\n",
    "    if main_content:\n",
    "        links = {\n",
    "            clean_link(a.text): prefix+a.get('href') for a in main_content.find_all('a', href=True)\n",
    "        }\n",
    "\n",
    "    # create the page content dictionary\n",
    "    page_content = {\n",
    "        \"unique_id\": str(uuid.uuid4()),\n",
    "        \"title\": title,\n",
    "        \"content\": title_content + markdown_content,\n",
    "        \"copyright\": copyright,\n",
    "        \"chunks\": chunk_markdown(title_content + markdown_content, links),\n",
    "        \"kind\": \"page\"\n",
    "    }\n",
    "\n",
    "    return page_content\n"
   ]
  },
  {
   "cell_type": "markdown",
   "id": "1066fa1f",
   "metadata": {},
   "source": [
    "### 02-02- Extraction Test"
   ]
  },
  {
   "cell_type": "markdown",
   "id": "1d795426",
   "metadata": {},
   "source": [
    "Let's test the code on a single Condition page."
   ]
  },
  {
   "cell_type": "code",
   "execution_count": 35,
   "id": "2adf9e92",
   "metadata": {},
   "outputs": [],
   "source": [
    "test = extract_from_page(conditions_pages['22q11.2-Related Disorders'])"
   ]
  },
  {
   "cell_type": "code",
   "execution_count": null,
   "id": "b5be158b",
   "metadata": {},
   "outputs": [],
   "source": [
    "test"
   ]
  },
  {
   "cell_type": "code",
   "execution_count": 37,
   "id": "75bbf441",
   "metadata": {},
   "outputs": [],
   "source": [
    "with open(\"../data/one_condition.jsonl\", \"w\") as fp:\n",
    "    json.dump(test, fp)"
   ]
  },
  {
   "cell_type": "code",
   "execution_count": 31,
   "id": "f97d667f",
   "metadata": {},
   "outputs": [
    {
     "name": "stdout",
     "output_type": "stream",
     "text": [
      "'unique_id: bf7b5040-7ddb-4202-90dd-d76d5a5f5c69'\n",
      "'title: 22q11.2-Related Disorders'\n",
      "'copyright: Copyright not found'\n",
      "'kind: page'\n"
     ]
    }
   ],
   "source": [
    "for k, v in test.items():\n",
    "    if k != 'chunks' and k!= 'content':\n",
    "        pprint.pprint(f\"{k}: {v}\")"
   ]
  },
  {
   "cell_type": "code",
   "execution_count": 32,
   "id": "90c72d54",
   "metadata": {},
   "outputs": [
    {
     "name": "stdout",
     "output_type": "stream",
     "text": [
      "[{'content': '# 22q11.2-Related Disorders\\n',\n",
      "  'id': 0,\n",
      "  'is_root': True,\n",
      "  'kind': 'chunk',\n",
      "  'parent_id': None,\n",
      "  'unique_id': '54e0aa58-83aa-4843-96ba-c6c7f8c5b16f',\n",
      "  'url_links': []},\n",
      " {'content': '## What are 22q11\\\\.2\\\\-related disorders?\\n'\n",
      "             '\\n'\n",
      "             '22q11\\\\.2\\\\-related disorders are caused by differences in part '\n",
      "             'of chromosome 22, called the q11\\\\.2 region. Chromosomes contain '\n",
      "             'genes, which tell our cells how to work and what proteins to '\n",
      "             'make. There are 23 pairs of chromosomes in each cell of the '\n",
      "             'body.\\n'\n",
      "             '22q11\\\\.2\\\\-related disorders happen in at least 1 in 1,000 '\n",
      "             'newborns.\\n'\n",
      "             'The symptoms differ widely, even among members of the same '\n",
      "             'family. There may be small differences in how your child’s '\n",
      "             'eyelids, nose and ears look.\\n'\n",
      "             'These conditions are linked to many health issues. They can '\n",
      "             'affect your child’s growth, feeding, breathing, speaking, '\n",
      "             'hearing, learning and mental health. But most children with '\n",
      "             '22q11\\\\.2\\\\-related disorders only have problems in some of '\n",
      "             'these areas.',\n",
      "  'id': 1,\n",
      "  'is_root': False,\n",
      "  'kind': 'chunk',\n",
      "  'parent_id': 0,\n",
      "  'unique_id': '23c08fc2-1b3a-4b51-8784-35bfda189adb',\n",
      "  'url_links': ['https://www.seattlechildrens.org/clinics/psychiatry-and-behavioral-medicine/']},\n",
      " {'content': '### What causes 22q11\\\\.2\\\\-related disorders?\\n'\n",
      "             '\\n'\n",
      "             'These disorders happen because of changes in the 22q11\\\\.2 part '\n",
      "             'of chromosome 22\\\\. There may be extra genes, missing genes or '\n",
      "             'genes in the wrong place.\\n'\n",
      "             'Your child may:\\n'\n",
      "             '* Be **missing** a small part of chromosome 22 (22q11\\\\.2 '\n",
      "             'deletion syndrome).\\n'\n",
      "             '* Have **extra** genes in the q11\\\\.2 part of chromosome 22 '\n",
      "             '(22q11\\\\.2 duplication syndrome).\\n'\n",
      "             '* Have changes\\xa0**near**\\xa0the q11\\\\.2 part of chromosome 22 '\n",
      "             '(22q11\\\\.2 distal deletion disorder).\\n'\n",
      "             '* Have genes from 22q11\\\\.2 switch places with genes on another '\n",
      "             'chromosome (translocation).\\n'\n",
      "             '* Have a 22q11\\\\.2\\\\-related disorder\\xa0**and**\\xa0another '\n",
      "             'genetic syndrome.\\n'\n",
      "             'Whether the genetic change is new or inherited varies:\\n'\n",
      "             '* For 90% of children with 22q11\\\\.2 **deletion**, this is a new '\n",
      "             'genetic change (not passed down from a parent).\\n'\n",
      "             '* In 66% of children with 22q11\\\\.2 **duplication**, the genetic '\n",
      "             'change is passed from a parent.\\n'\n",
      "             'When people with 22q11\\\\.2 related disorders become parents, '\n",
      "             'they have a 50% chance of passing the condition to their child.',\n",
      "  'id': 2,\n",
      "  'is_root': False,\n",
      "  'kind': 'chunk',\n",
      "  'parent_id': 1,\n",
      "  'unique_id': 'dc67dc07-a6d6-46ae-8770-a859a255aa29',\n",
      "  'url_links': []},\n",
      " {'content': '### Other names for 22q11\\\\.2\\\\-related disorders\\n'\n",
      "             '\\n'\n",
      "             'There are many older names for these conditions. These names '\n",
      "             'were used before it was known that all are a form of the same '\n",
      "             'condition.\\n'\n",
      "             'All of these names have been replaced with “22q11\\\\.2\\\\-related '\n",
      "             'disorders:”\\n'\n",
      "             '* Velocardiofacial syndrome (VCFS)\\n'\n",
      "             '* DiGeorge syndrome\\n'\n",
      "             '* Shprintzen syndrome\\n'\n",
      "             '* Conotruncal anomaly unusual face syndrome\\n'\n",
      "             '* Cayler cardiofacial syndrome\\n'\n",
      "             '* Catch 22 syndrome\\n'\n",
      "             '---\\n'\n",
      "             '[22q11\\\\.2\\\\-Related Disorders Care at Seattle '\n",
      "             \"Children's](/clinics/craniofacial/services/22q-clinic/)\\n\"\n",
      "             'At the 22q Clinic, a team experienced with these conditions will '\n",
      "             'evaluate your child. We create a personalized care plan for your '\n",
      "             'child and bring in other experts to meet your child’s specific '\n",
      "             'needs.\\n'\n",
      "             '---',\n",
      "  'id': 3,\n",
      "  'is_root': False,\n",
      "  'kind': 'chunk',\n",
      "  'parent_id': 1,\n",
      "  'unique_id': '17fc8c57-744f-4883-8bef-b61fc44494b2',\n",
      "  'url_links': ['https://www.seattlechildrens.org/clinics/craniofacial/services/22q-clinic/']},\n",
      " {'content': '## Symptoms of 22q11\\\\.2\\\\-Related Disorders\\n'\n",
      "             '\\n'\n",
      "             'Every child with a 22q11\\\\.2\\\\-related disorder is different.\\n'\n",
      "             'Some children have facial differences, including:\\n'\n",
      "             '* Eyelids that look hooded\\n'\n",
      "             '* A nose that is tube\\\\-shaped\\n'\n",
      "             '* Ears that are folded over more than normal at the edges\\n'\n",
      "             '* A face that looks long, with flat cheeks\\n'\n",
      "             '* A narrow mouth\\n'\n",
      "             'The 22q11\\\\.2\\\\-related disorders may cause problems with your '\n",
      "             'child’s:\\n'\n",
      "             '* Roof of the mouth (palate), including\\xa0[cleft '\n",
      "             'palate](/conditions/cleft-lip-palate/ \"cleft palate\")\\n'\n",
      "             '* Ears, nose or throat\\n'\n",
      "             '* Heart\\n'\n",
      "             '* Infection\\\\-fighting immune system\\n'\n",
      "             '* Nervous system\\n'\n",
      "             '* Kidneys\\n'\n",
      "             '* Skeleton\\n'\n",
      "             '* Hormone\\\\-producing endocrine system\\n'\n",
      "             'These differences may affect your child’s growth, feeding, '\n",
      "             'breathing, speaking, hearing, learning or mental health.',\n",
      "  'id': 4,\n",
      "  'is_root': False,\n",
      "  'kind': 'chunk',\n",
      "  'parent_id': 0,\n",
      "  'unique_id': '510ec950-63d0-489d-8569-2c6581dd7219',\n",
      "  'url_links': ['https://www.seattlechildrens.org/clinics/psychiatry-and-behavioral-medicine/',\n",
      "                'https://www.seattlechildrens.org/conditions/cleft-lip-palate/']},\n",
      " {'content': '## Diagnosing 22q11\\\\.2\\\\-Related Disorders\\n'\n",
      "             '\\n'\n",
      "             'Seattle Children’s has a [22q '\n",
      "             'Clinic](/clinics/craniofacial/services/22q-clinic/ \"22q Clinic\") '\n",
      "             'focused on diagnosing these conditions and helping families '\n",
      "             'manage them.',\n",
      "  'id': 5,\n",
      "  'is_root': False,\n",
      "  'kind': 'chunk',\n",
      "  'parent_id': 0,\n",
      "  'unique_id': 'ff9a739d-c7e3-440e-9902-80f6854db008',\n",
      "  'url_links': ['https://www.seattlechildrens.org/clinics/craniofacial/services/22q-clinic/']},\n",
      " {'content': '### Diagnosis before birth\\n'\n",
      "             '\\n'\n",
      "             'These conditions are sometimes diagnosed before birth. The tests '\n",
      "             'use different samples:\\n'\n",
      "             '* An expectant mother’s blood, which includes DNA from the '\n",
      "             'placenta. Noninvasive prenatal screening (NIPS) can identify '\n",
      "             'some conditions. But many mothers whose test shows a risk of '\n",
      "             '22q11\\\\.2 conditions will go on to have a healthy child. Further '\n",
      "             'testing is needed to confirm the diagnosis.\\n'\n",
      "             '* Amniotic fluid that surrounds and protects a baby in the womb '\n",
      "             '(amniocentesis).\\n'\n",
      "             '* Part of the placenta, through a test called chorionic villus '\n",
      "             'sampling (CVS).\\n'\n",
      "             'Further tests on CVS or amniotic fluid samples may detect the '\n",
      "             'specific 22q11\\\\.2 disorder. The 2 tests are FISH and '\n",
      "             'chromosomal microarray analysis (CMA). Genetic testing may '\n",
      "             'include doing a karyotype to make sure parts of the chromosomes '\n",
      "             'have not switched places with one another.\\n'\n",
      "             'The tests can show if your baby has missing, extra or misplaced '\n",
      "             'genes in the q11\\\\.2 area of chromosome 22\\\\. But they can not '\n",
      "             'tell how much these genetic changes will affect your baby.\\n'\n",
      "             'To look for specific problems, your child may have a detailed '\n",
      "             'ultrasound or fetal heart scan ([fetal '\n",
      "             'echo](/clinics/heart/treatments-and-services/echocardiography/ '\n",
      "             '\"fetal echo\")).',\n",
      "  'id': 6,\n",
      "  'is_root': False,\n",
      "  'kind': 'chunk',\n",
      "  'parent_id': 5,\n",
      "  'unique_id': '3bbfeb1e-0328-46a1-bb78-34c2fdf66b1d',\n",
      "  'url_links': ['https://www.seattlechildrens.org/clinics/heart/',\n",
      "                'https://www.seattlechildrens.org/clinics/heart/treatments-and-services/echocardiography/',\n",
      "                'https://www.seattlechildrens.org/clinics/craniofacial/services/22q-clinic/']},\n",
      " {'content': '### Diagnosis after birth\\n'\n",
      "             '\\n'\n",
      "             'Your doctor will check your child and look for the differences '\n",
      "             'that are linked with 22q11\\\\.2\\\\-related disorders. Since the '\n",
      "             'symptoms of the conditions differ from child to child, a careful '\n",
      "             'exam is important.\\n'\n",
      "             'Your doctor may recommend genetic tests to tell the type of '\n",
      "             '22q11\\\\.2 disorder your child has.\\n'\n",
      "             'Doctors may order other tests or procedures to learn more about '\n",
      "             'your child’s exact condition. For example, an ultrasound picture '\n",
      "             'of their heart (echocardiogram) can show if they have any heart '\n",
      "             'problems.',\n",
      "  'id': 7,\n",
      "  'is_root': False,\n",
      "  'kind': 'chunk',\n",
      "  'parent_id': 5,\n",
      "  'unique_id': '19ee9503-72f6-4c0e-bf76-d03e33708a8e',\n",
      "  'url_links': ['https://www.seattlechildrens.org/clinics/heart/']},\n",
      " {'content': '### Genetic counseling and testing\\n'\n",
      "             '\\n'\n",
      "             'Physicians and genetic counselors at our 22q Clinic will talk '\n",
      "             'with you about the pros and cons of genetic testing and explain '\n",
      "             'test results.\\n'\n",
      "             'Our counselors also can give you information about your child’s '\n",
      "             'condition. Counseling can help you make informed decisions about '\n",
      "             'family planning and your child’s treatment.\\n'\n",
      "             'Our genetic counselors also advise people with '\n",
      "             '22q11\\\\.2\\\\-related disorders about their chance of having a '\n",
      "             'child with a similar condition. A person with the condition has '\n",
      "             'a 50% chance in each pregnancy of passing it on to their child.',\n",
      "  'id': 8,\n",
      "  'is_root': False,\n",
      "  'kind': 'chunk',\n",
      "  'parent_id': 5,\n",
      "  'unique_id': '67768d05-47d8-48cb-b547-22bf037fc3b3',\n",
      "  'url_links': ['https://www.seattlechildrens.org/clinics/genetics/genetic-counseling/',\n",
      "                'https://www.seattlechildrens.org/clinics/craniofacial/services/22q-clinic/']},\n",
      " {'content': '## Treating 22q11\\\\.2\\\\-Related Disorders\\n'\n",
      "             '\\n'\n",
      "             'The effects of these conditions vary greatly from child to '\n",
      "             \"child. We create a personalized care plan based on your child's \"\n",
      "             'specific needs.\\n'\n",
      "             'Because of the high rates of problems in the following areas, '\n",
      "             'most children with 22q11\\\\.2\\\\-related disorders will need to '\n",
      "             'see providers with special training in:\\n'\n",
      "             '* [Audiology](/clinics/audiology/ \"Audiology\")\\n'\n",
      "             '* [Genetic counseling](/clinics/genetics/genetic-counseling/ '\n",
      "             '\"Genetic counseling\")\\n'\n",
      "             '* [Neuropsychology](/clinics/neuropsychology/)\\n'\n",
      "             '* [Immunology](/clinics/immunology/)\\n'\n",
      "             '* [Nutrition](/clinics/nutrition/ \"Nutrition\")\\n'\n",
      "             '* [Occupational Therapy](/clinics/occupational-therapy/)\\n'\n",
      "             '* [Otolaryngology](/clinics/otolaryngology/ \"Otolaryngology\")\\n'\n",
      "             '* '\n",
      "             '[Psychiatry/Psychology](/clinics/psychiatry-and-behavioral-medicine/ '\n",
      "             '\"Psychiatry\")\\n'\n",
      "             '* [Social work](/clinics/social-work/ \"Social work\")\\n'\n",
      "             '* [Speech and language pathology](/clinics/speech-and-language/ '\n",
      "             '\"Speech and language pathology\")\\n'\n",
      "             'These providers are all part of our coordinated 22q Team '\n",
      "             'Clinic.\\n'\n",
      "             'Depending on their medical problems and test results, your child '\n",
      "             'may also need to see other specialists at Seattle Children’s.',\n",
      "  'id': 9,\n",
      "  'is_root': False,\n",
      "  'kind': 'chunk',\n",
      "  'parent_id': 0,\n",
      "  'unique_id': '52f9e0f6-d7db-4b76-a440-ce4b6eb3004d',\n",
      "  'url_links': ['https://www.seattlechildrens.org/clinics/nutrition/',\n",
      "                'https://www.seattlechildrens.org/clinics/social-work/',\n",
      "                'https://www.seattlechildrens.org/clinics/otolaryngology/',\n",
      "                'https://www.seattlechildrens.org/clinics/psychiatry-and-behavioral-medicine/',\n",
      "                'https://www.seattlechildrens.org/clinics/speech-and-language/',\n",
      "                'https://www.seattlechildrens.org/clinics/craniofacial/services/22q-clinic/',\n",
      "                'https://www.seattlechildrens.org/clinics/audiology/',\n",
      "                'https://www.seattlechildrens.org/clinics/occupational-therapy/',\n",
      "                'https://www.seattlechildrens.org/clinics/genetics/genetic-counseling/',\n",
      "                'https://www.seattlechildrens.org/clinics/immunology/',\n",
      "                'https://www.seattlechildrens.org/clinics/neuropsychology/']},\n",
      " {'content': '### Feeding and growth\\n'\n",
      "             '\\n'\n",
      "             'Children with 22q11\\\\.2\\\\-related disorders may have a hard time '\n",
      "             'feeding. This can be caused by problems with their mouth or '\n",
      "             'throat:\\n'\n",
      "             '* Not having enough tissue (“insufficient”) in the palate or '\n",
      "             'throat ([velopharyngeal insufficiency](/conditions/vpd/ '\n",
      "             '\"velopharyngeal insufficiency\"), VPI)\\n'\n",
      "             '* A gap in the roof of the mouth ([cleft '\n",
      "             'palate](/conditions/cleft-lip-palate/ \"cleft palate\"))\\n'\n",
      "             '* A gap in the roof of the mouth that is covered by the lining '\n",
      "             'of the mouth (submucous cleft palate)\\n'\n",
      "             'Our [Feeding '\n",
      "             'Management](/clinics/craniofacial/services/feeding-management/ '\n",
      "             '\"Feeding Management\") team can help. A dietitian may advise you '\n",
      "             \"about your child's diet.\\n\"\n",
      "             '* We can teach you ways to [feed your '\n",
      "             'baby](/clinics/craniofacial/patient-family-resources/cleft-feeding-instructions/ '\n",
      "             '\"feed your baby\") and recommend special bottles to use.\\n'\n",
      "             '* If your baby is not able to get enough nutrition by bottle, '\n",
      "             'they may need a tube from their nose to their stomach (NG tube). '\n",
      "             'For most children, this is temporary and they are able to go '\n",
      "             'back to feeding entirely by mouth after feeding therapy.\\n'\n",
      "             '* If feeding problems are severe, your doctor may recommend '\n",
      "             'placing a tube through your child’s belly (abdominal wall) into '\n",
      "             'the stomach. This is called a gastrostomy tube or G\\\\-tube.',\n",
      "  'id': 10,\n",
      "  'is_root': False,\n",
      "  'kind': 'chunk',\n",
      "  'parent_id': 9,\n",
      "  'unique_id': '29ea811b-d71b-43f1-b027-7baa1288c01a',\n",
      "  'url_links': ['https://www.seattlechildrens.org/clinics/craniofacial/services/feeding-management/',\n",
      "                'https://www.seattlechildrens.org/clinics/craniofacial/patient-family-resources/cleft-feeding-instructions/',\n",
      "                'https://www.seattlechildrens.org/conditions/cleft-lip-palate/',\n",
      "                'https://www.seattlechildrens.org/conditions/vpd/',\n",
      "                'https://www.seattlechildrens.org/clinics/craniofacial/services/22q-clinic/']},\n",
      " {'content': '#### Palate repair\\n'\n",
      "             '\\n'\n",
      "             'If your child has problems with the roof of their mouth or '\n",
      "             'throat, your surgeon will talk with you about repair.\\n'\n",
      "             '* Repairing a gap in the roof of the mouth (cleft palate) '\n",
      "             'usually happens when your child is about 1 year old. See [Cleft '\n",
      "             'Palate Treatments](/conditions/cleft-lip-palate/#treating \"Cleft '\n",
      "             'Palate Treatments\").\\n'\n",
      "             '* Other problems with the mouth or throat, such as '\n",
      "             '[velopharyngeal dysfunction](/conditions/vpd/ \"velopharyngeal '\n",
      "             'dysfunction\") (VPD), are treated when your child is older than 1 '\n",
      "             'year.',\n",
      "  'id': 11,\n",
      "  'is_root': False,\n",
      "  'kind': 'chunk',\n",
      "  'parent_id': 10,\n",
      "  'unique_id': '49e95bbe-60ee-4282-90b8-a0afda67a7ef',\n",
      "  'url_links': ['https://www.seattlechildrens.org/conditions/cleft-lip-palate/#treating',\n",
      "                'https://www.seattlechildrens.org/conditions/vpd/',\n",
      "                'https://www.seattlechildrens.org/conditions/cleft-lip-palate/']},\n",
      " {'content': '#### Growth\\n'\n",
      "             '\\n'\n",
      "             'We will check regularly to make sure your child is growing '\n",
      "             'well.\\n'\n",
      "             '* Children with 22q11\\\\.2 **deletion** syndrome often have a '\n",
      "             'different and slower pattern of growth than other children. We '\n",
      "             'compare your child to growth charts specific to 22q11\\\\.2 '\n",
      "             'deletion syndrome.\\n'\n",
      "             '* Usually, children with 22q11\\\\.2 **duplication**\\xa0are bigger '\n",
      "             'than average.',\n",
      "  'id': 12,\n",
      "  'is_root': False,\n",
      "  'kind': 'chunk',\n",
      "  'parent_id': 10,\n",
      "  'unique_id': '4b04f6cd-f094-4bb2-a8d9-63189856b5dd',\n",
      "  'url_links': []},\n",
      " {'content': '### Hearing\\n'\n",
      "             '\\n'\n",
      "             \"Your doctor will check your child's ear health and hearing \"\n",
      "             'regularly.\\n'\n",
      "             '* Most often your baby’s hearing is tested soon after birth or '\n",
      "             'within a few days.\\n'\n",
      "             '* If there are concerns, we do more tests. A specialist trained '\n",
      "             'to test hearing in babies and children (audiologist) will do the '\n",
      "             'testing.\\n'\n",
      "             '* Some children have hearing loss. It may be caused by fluid '\n",
      "             'behind the eardrums or by problems with the nerve pathways from '\n",
      "             'the inner ear to the brain. The treatments for these types of '\n",
      "             'hearing loss are different.\\n'\n",
      "             '* Your doctor will determine if your child has hearing loss and '\n",
      "             'will talk with you about treatment.',\n",
      "  'id': 13,\n",
      "  'is_root': False,\n",
      "  'kind': 'chunk',\n",
      "  'parent_id': 9,\n",
      "  'unique_id': '11a07a9d-5852-4290-91e9-16d1675065b9',\n",
      "  'url_links': []},\n",
      " {'content': '### Speech\\n'\n",
      "             '\\n'\n",
      "             'In some children, differences in the mouth or throat cause '\n",
      "             'problems with speech.\\n'\n",
      "             'By age 2, a speech and language pathologist (SLP) will regularly '\n",
      "             'check your child’s ability to make speech sounds. Our team will '\n",
      "             'continue to check your child’s speech as they grow.\\n'\n",
      "             'Some children have a condition called [velopharyngeal '\n",
      "             'dysfunction](/conditions/vpd/ \"velopharyngeal dysfunction\") '\n",
      "             '(VPD), which makes it hard for them to make speech sounds '\n",
      "             'correctly. VPD may develop over time in a child who had a cleft '\n",
      "             'palate repaired.\\n'\n",
      "             'Depending on your child’s needs, we may recommend:\\n'\n",
      "             '* A custom\\\\-made speech appliance called an obturator.\\n'\n",
      "             '* Surgery on the roof of the mouth or throat. Your surgeon and '\n",
      "             'speech pathologist will work together to recommend what is best '\n",
      "             'for your child.\\n'\n",
      "             '* Speech therapy to develop correct speech sounds.',\n",
      "  'id': 14,\n",
      "  'is_root': False,\n",
      "  'kind': 'chunk',\n",
      "  'parent_id': 9,\n",
      "  'unique_id': 'a8a49640-b1cb-405c-9b5c-975ba722bdca',\n",
      "  'url_links': ['https://www.seattlechildrens.org/conditions/vpd/',\n",
      "                'https://www.seattlechildrens.org/conditions/cleft-lip-palate/']},\n",
      " {'content': '### Heart\\n'\n",
      "             '\\n'\n",
      "             'Problems in the heart are common in children with '\n",
      "             '22q11\\\\.2\\\\-related disorders. The problem could be mild, like '\n",
      "             'an unusual sound heard during a heartbeat (heart murmur). '\n",
      "             'Sometimes it is serious enough to affect how the heart works.\\n'\n",
      "             'If your child is healthy and growing well, it is not likely that '\n",
      "             'they have a major heart problem. To check, your child’s doctor '\n",
      "             'will order an ultrasound picture of your child’s heart '\n",
      "             '(echocardiogram).\\n'\n",
      "             'If problems are found, your child will see a heart specialist '\n",
      "             '(cardiologist) for care as needed. [Learn more about Children’s '\n",
      "             'Heart Center](/clinics/heart/why-choose-us/ \"Learn more about '\n",
      "             'Children’s Heart Center\").',\n",
      "  'id': 15,\n",
      "  'is_root': False,\n",
      "  'kind': 'chunk',\n",
      "  'parent_id': 9,\n",
      "  'unique_id': 'eadf5fa6-1dce-4612-a39e-d6b631dfbb19',\n",
      "  'url_links': ['https://www.seattlechildrens.org/clinics/heart/',\n",
      "                'https://www.seattlechildrens.org/clinics/heart/why-choose-us/',\n",
      "                'https://www.seattlechildrens.org/clinics/craniofacial/services/22q-clinic/']},\n",
      " {'content': '### Immune system\\n'\n",
      "             '\\n'\n",
      "             'Many children with 22q11\\\\.2\\\\-related disorders have problems '\n",
      "             'with their immune system, which helps protect their body from '\n",
      "             'sickness.\\n'\n",
      "             'We will check the number of infection\\\\-fighting white cells in '\n",
      "             'your child’s blood. We may send your child to a doctor who '\n",
      "             'specializes in the immune system (immunologist).\\n'\n",
      "             'If your child’s immune system does not work well, they may:\\n'\n",
      "             '* Be more likely to get infections. We will watch for signs of '\n",
      "             'an infection and treat it quickly. Rarely, children need to take '\n",
      "             'antibiotics or other treatments to prevent infection.\\n'\n",
      "             '* Need extra doses of vaccines to build enough protection '\n",
      "             'against disease.\\n'\n",
      "             '* Need to avoid some vaccines with live viruses because their '\n",
      "             'body is less able to fight infection.\\n'\n",
      "             '[Learn more about Children’s Immunology '\n",
      "             'program](/clinics/immunology/ \"Learn more about Children’s '\n",
      "             'Immunology program\").',\n",
      "  'id': 16,\n",
      "  'is_root': False,\n",
      "  'kind': 'chunk',\n",
      "  'parent_id': 9,\n",
      "  'unique_id': 'f35b17d7-d0a0-49c1-951d-53dc12323206',\n",
      "  'url_links': ['https://www.seattlechildrens.org/clinics/immunology/',\n",
      "                'https://www.seattlechildrens.org/clinics/craniofacial/services/22q-clinic/']},\n",
      " {'content': '### Kidneys\\n'\n",
      "             '\\n'\n",
      "             'Some children with 22q11\\\\.2\\\\-related disorders have kidney '\n",
      "             'problems. We may recommend that your child have a kidney (renal) '\n",
      "             'ultrasound.\\n'\n",
      "             'We are looking to make sure that the kidneys formed normally. If '\n",
      "             'your child has a normal ultrasound, they will not need another '\n",
      "             'one.\\n'\n",
      "             'If there is a problem, your child will see a kidney specialist '\n",
      "             '(nephrologist).\\n'\n",
      "             '[Learn more about Children’s Nephrology '\n",
      "             'program](/clinics/nephrology/ \"Learn more about Children’s '\n",
      "             'Nephrology program\").',\n",
      "  'id': 17,\n",
      "  'is_root': False,\n",
      "  'kind': 'chunk',\n",
      "  'parent_id': 9,\n",
      "  'unique_id': '60fccc5b-5fc9-4cc5-9713-5682b45b117f',\n",
      "  'url_links': ['https://www.seattlechildrens.org/clinics/craniofacial/services/22q-clinic/',\n",
      "                'https://www.seattlechildrens.org/clinics/nephrology/']},\n",
      " {'content': '### Low calcium levels in blood\\n'\n",
      "             '\\n'\n",
      "             'Some children with 22q\\\\-related disorders have problems with '\n",
      "             'low calcium levels. If calcium is too low it can cause '\n",
      "             'seizures.\\n'\n",
      "             'We will do a blood test to check the calcium level. Your doctor '\n",
      "             'may decide your child needs to take a calcium supplement or see '\n",
      "             'an [endocrinologist](/clinics/endocrinology/).',\n",
      "  'id': 18,\n",
      "  'is_root': False,\n",
      "  'kind': 'chunk',\n",
      "  'parent_id': 9,\n",
      "  'unique_id': '3ce332ab-1ef7-4cf1-a0a4-3b0d75d5b6dd',\n",
      "  'url_links': ['https://www.seattlechildrens.org/clinics/endocrinology/',\n",
      "                'https://www.seattlechildrens.org/clinics/craniofacial/services/22q-clinic/']},\n",
      " {'content': '### Development and learning\\n'\n",
      "             '\\n'\n",
      "             'Many children with 22q11\\\\.2\\\\-related disorders have '\n",
      "             'differences in how they learn and process information. Some '\n",
      "             'children will have normal intelligence, and some will have '\n",
      "             'intelligence that is below normal.\\n'\n",
      "             'Your child’s care team will make sure their learning style is '\n",
      "             'tested. This helps us better understand how they process '\n",
      "             'information. We will help your child’s school know the best ways '\n",
      "             'to support your child’s learning.\\n'\n",
      "             'Some children with 22q11\\\\.2\\\\-related disorders will have '\n",
      "             'trouble learning because of attention deficit hyperactivity '\n",
      "             'disorder (ADHD), anxiety or autism spectrum disorder. If your '\n",
      "             'child develops any of these problems, a specialist will evaluate '\n",
      "             'your child and suggest treatment to help them start school ready '\n",
      "             'to learn. We will also work with you to find resources in your '\n",
      "             'community if needed.',\n",
      "  'id': 19,\n",
      "  'is_root': False,\n",
      "  'kind': 'chunk',\n",
      "  'parent_id': 9,\n",
      "  'unique_id': '944b987c-c17f-4eb1-a393-2da586aabe76',\n",
      "  'url_links': []},\n",
      " {'content': '### Behavior and mental health\\n'\n",
      "             '\\n'\n",
      "             '22q11\\\\.2\\\\-related disorders increase the risk of problems with '\n",
      "             'behavior and mental health. These include:\\n'\n",
      "             '* Attention deficit hyperactivity disorder (ADHD)\\n'\n",
      "             '* Autism spectrum disorder\\n'\n",
      "             '* Anxiety\\n'\n",
      "             '* Depression\\n'\n",
      "             '* Bipolar disorder\\n'\n",
      "             'Many problems can be managed well if they are found early and '\n",
      "             'treated by a doctor familiar with 22q11\\\\.2\\\\-related '\n",
      "             'disorders.\\n'\n",
      "             '* Patients with 22q\\\\-related disorders have an increased risk '\n",
      "             'of autism spectrum disorder and other problems affecting the '\n",
      "             'brain and central nervous system (neurodevelopmental).\\n'\n",
      "             '* Children with 22q\\\\-related disorders are also at risk for '\n",
      "             'other psychiatric conditions, such as schizophrenia \\xa0and '\n",
      "             'anxiety.\\n'\n",
      "             'Various types of mental health issues begin at different times. '\n",
      "             'We will regularly check your child’s behavior, mood and coping. '\n",
      "             'Your healthcare team will ask about your child’s behavior at '\n",
      "             'home and school.\\n'\n",
      "             'If there are concerns, a psychiatrist or neurodevelopmental '\n",
      "             'specialist will evaluate your child and recommend treatment. '\n",
      "             'Your craniofacial pediatrician and social worker will work with '\n",
      "             'you to find resources in your community if needed.',\n",
      "  'id': 20,\n",
      "  'is_root': False,\n",
      "  'kind': 'chunk',\n",
      "  'parent_id': 9,\n",
      "  'unique_id': '73fc13b9-0439-417d-9c39-7daf20d9c880',\n",
      "  'url_links': ['https://www.seattlechildrens.org/clinics/psychiatry-and-behavioral-medicine/',\n",
      "                'https://www.seattlechildrens.org/clinics/neurosciences/']},\n",
      " {'content': \"## 22q11\\\\.2\\\\-Related Disorders at Seattle Children's\\n\"\n",
      "             '\\n'\n",
      "             'Many families have never heard of these conditions before their '\n",
      "             'child’s diagnosis. Seattle Children’s has a '\n",
      "             '[clinic](/clinics/craniofacial/services/22q-clinic/ \"clinic\") '\n",
      "             'focused on caring for children with 22q11\\\\.2\\\\-related '\n",
      "             'disorders.\\n'\n",
      "             'Many of the babies and children we see are newly diagnosed. We '\n",
      "             'also work with expectant parents who are worried about the '\n",
      "             'results of tests during pregnancy.\\n'\n",
      "             'Please call the Craniofacial Center at '\n",
      "             '[206\\\\-987\\\\-0339](tel:206-987-0339) for more information, a '\n",
      "             'second opinion or to make an appointment.',\n",
      "  'id': 21,\n",
      "  'is_root': False,\n",
      "  'kind': 'chunk',\n",
      "  'parent_id': 0,\n",
      "  'unique_id': 'd6c2132a-6dbb-469c-9374-a5dd0f35b117',\n",
      "  'url_links': ['https://www.seattlechildrens.org/clinics/craniofacial/contact-locations/',\n",
      "                'https://www.seattlechildrens.org/clinics/craniofacial/services/22q-clinic/',\n",
      "                'https://www.seattlechildrens.orgtel:206-987-0339']},\n",
      " {'content': '### A clinic focused on your child’s condition\\n'\n",
      "             '\\n'\n",
      "             'Our [22q Clinic](/clinics/craniofacial/services/22q-clinic/ \"22q '\n",
      "             'Clinic\") is the only multidisciplinary clinic for children with '\n",
      "             '22q11\\\\.2\\\\-related disorders in the 5\\\\-state region that '\n",
      "             'includes Washington, Alaska, Montana, Idaho and Wyoming. Our '\n",
      "             'clinic team has been diagnosing these conditions and helping '\n",
      "             'families care for their children since 2006\\\\.\\n'\n",
      "             'Our doctors are experienced in treating the problems caused by '\n",
      "             'these conditions.',\n",
      "  'id': 22,\n",
      "  'is_root': False,\n",
      "  'kind': 'chunk',\n",
      "  'parent_id': 21,\n",
      "  'unique_id': 'cef7c913-5ce6-488e-8fc3-953a0acb53ba',\n",
      "  'url_links': ['https://www.seattlechildrens.org/clinics/craniofacial/services/22q-clinic/']},\n",
      " {'content': \"### Specialists to cover your child's needs\\n\"\n",
      "             '\\n'\n",
      "             'The 22q Clinic is part of Seattle Children’s [Craniofacial '\n",
      "             'Center](/clinics/craniofacial/ \"Craniofacial Center\"). Our 50 '\n",
      "             'specialists in 19 different fields meet weekly to discuss '\n",
      "             'children with complex needs and decide on the best care plan for '\n",
      "             'each child.\\n'\n",
      "             'A craniofacial pediatrician, medical geneticist, genetic '\n",
      "             'counselor, nurse, family service coordinator and social worker '\n",
      "             'will work closely with your family. They manage your child’s '\n",
      "             'care and make sure all your questions are answered.\\n'\n",
      "             '[Our 22q Clinic](/clinics/craniofacial/services/22q-clinic/ \"Our '\n",
      "             '22q Clinic\") can easily form a team with the right experts to '\n",
      "             'care for your child’s specific needs. These may include an '\n",
      "             'audiologist; dietitian; ear, nose and throat specialist '\n",
      "             '(otolaryngologist); feeding therapist; psychiatrist; and speech '\n",
      "             'and language pathologist (SLP). They create a personalized plan '\n",
      "             'of care for your child.\\n'\n",
      "             'If needed, your child will see experts in other departments at '\n",
      "             'Seattle Children’s, for problems affecting their '\n",
      "             '[heart](/clinics/heart/ \"heart\"), [mental '\n",
      "             'health](/clinics/psychiatry-and-behavioral-medicine/ \"mental '\n",
      "             'health\"), [hormones](/clinics/endocrinology/ \"hormones\"), '\n",
      "             '[nervous system](/clinics/neurosciences/ \"nervous system\"), '\n",
      "             '[stomach and intestines](/clinics/gastroenterology-hepatology/ '\n",
      "             '\"stomach and intestines\"), [bones](/clinics/orthopedics/ '\n",
      "             '\"bones\"), [kidneys](/clinics/nephrology/ \"kidneys\") and '\n",
      "             '[infection\\\\-fighting immune system](/clinics/immunology/ '\n",
      "             '\"infection-fighting immune system\"). We work together, and with '\n",
      "             'you and your family’s doctor, to care for your child.',\n",
      "  'id': 23,\n",
      "  'is_root': False,\n",
      "  'kind': 'chunk',\n",
      "  'parent_id': 21,\n",
      "  'unique_id': '945d0bb6-4e25-4eec-84f5-f3c7acd30018',\n",
      "  'url_links': ['https://www.seattlechildrens.org/clinics/gastroenterology-hepatology/',\n",
      "                'https://www.seattlechildrens.org/clinics/orthopedics/',\n",
      "                'https://www.seattlechildrens.org/clinics/endocrinology/',\n",
      "                'https://www.seattlechildrens.org/clinics/psychiatry-and-behavioral-medicine/',\n",
      "                'https://www.seattlechildrens.org/clinics/craniofacial/services/22q-clinic/',\n",
      "                'https://www.seattlechildrens.org/clinics/nephrology/',\n",
      "                'https://www.seattlechildrens.org/clinics/craniofacial/contact-locations/',\n",
      "                'https://www.seattlechildrens.org/clinics/heart/',\n",
      "                'https://www.seattlechildrens.org/clinics/immunology/',\n",
      "                'https://www.seattlechildrens.org/clinics/neurosciences/']},\n",
      " {'content': '### We support your whole family\\n'\n",
      "             '\\n'\n",
      "             'A diagnosis of a 22q11\\\\.2\\\\-related disorder can be scary. We '\n",
      "             'take time to explain your child’s condition. We help you fully '\n",
      "             'understand your treatment options and make choices that are '\n",
      "             'right for your family.\\n'\n",
      "             'Our child life specialists and social workers support your child '\n",
      "             'and family through the challenges of their condition. We help '\n",
      "             'you find [community resources and support '\n",
      "             'groups](/clinics/craniofacial/patient-family-resources/ '\n",
      "             '\"community resources and support groups\").\\n'\n",
      "             'As your child gets older, we include them in decisions about '\n",
      "             'their medical care. Your family has a [full '\n",
      "             'team](/clinics/craniofacial/meet-your-team/ \"full team\") behind '\n",
      "             'you, including specialists in nutrition, physical therapy and '\n",
      "             'speech therapy. Read more about the [supportive care we '\n",
      "             'offer](/clinics/craniofacial/services/supportive-care/ '\n",
      "             '\"supportive care we offer\").\\n'\n",
      "             'Seattle Children’s provides craniofacial care for children in an '\n",
      "             'area one\\\\-fourth the size of the continental U.S. We also treat '\n",
      "             'children from across the globe. This has helped us develop '\n",
      "             'systems to provide outstanding, personalized care at great '\n",
      "             'distance.',\n",
      "  'id': 24,\n",
      "  'is_root': False,\n",
      "  'kind': 'chunk',\n",
      "  'parent_id': 21,\n",
      "  'unique_id': 'caf712ba-76ee-4c31-add4-c3ea6a264748',\n",
      "  'url_links': ['https://www.seattlechildrens.org/clinics/craniofacial/patient-family-resources/',\n",
      "                'https://www.seattlechildrens.org/clinics/craniofacial/services/supportive-care/',\n",
      "                'https://www.seattlechildrens.org/clinics/craniofacial/meet-your-team/',\n",
      "                'https://www.seattlechildrens.org/clinics/craniofacial/services/22q-clinic/']},\n",
      " {'content': '## Contact Us\\n'\n",
      "             '\\n'\n",
      "             'Contact the [Craniofacial '\n",
      "             'Center](/clinics/craniofacial/contact-locations/ \"Craniofacial '\n",
      "             'Center\") at\\xa0[206\\\\-987\\\\-2208](tel:206-987-2208) for an '\n",
      "             'appointment, a second opinion or more information.\\n'\n",
      "             'Providers, see [how to refer a '\n",
      "             'patient](/clinics/craniofacial/refer-a-patient/ \"how to refer a '\n",
      "             'patient\").',\n",
      "  'id': 25,\n",
      "  'is_root': False,\n",
      "  'kind': 'chunk',\n",
      "  'parent_id': 0,\n",
      "  'unique_id': '03912507-8cd5-41e0-8791-18ebecfef0f0',\n",
      "  'url_links': ['https://www.seattlechildrens.org/clinics/craniofacial/services/22q-clinic/',\n",
      "                'https://www.seattlechildrens.org/clinics/craniofacial/contact-locations/',\n",
      "                'https://www.seattlechildrens.orgtel:206-987-2208',\n",
      "                'https://www.seattlechildrens.org/clinics/craniofacial/services/22q-clinic/',\n",
      "                'https://www.seattlechildrens.org/clinics/craniofacial/refer-a-patient/']}]\n"
     ]
    }
   ],
   "source": [
    "pprint.pprint(test['chunks'])"
   ]
  },
  {
   "cell_type": "markdown",
   "id": "2e7dd369",
   "metadata": {},
   "source": [
    "### 02-03- Full Extraction"
   ]
  },
  {
   "cell_type": "markdown",
   "id": "c09fc391",
   "metadata": {},
   "source": [
    "Let's extract the content of all the conditions pages available in the collection."
   ]
  },
  {
   "cell_type": "code",
   "execution_count": 38,
   "id": "9b4cf083",
   "metadata": {},
   "outputs": [
    {
     "name": "stderr",
     "output_type": "stream",
     "text": [
      "100%|██████████| 392/392 [03:06<00:00,  2.10it/s]\n"
     ]
    }
   ],
   "source": [
    "pages_content = []\n",
    "pages_w_issue = []\n",
    "for condition, page_url in tqdm.tqdm(conditions_pages.items()):\n",
    "    if condition != \"Conditions\" and condition != \"\\r\\n        All Symptoms\\r\\n    \":\n",
    "        try:\n",
    "            pages_content.append(extract_from_page(page_url))\n",
    "        except:\n",
    "            pages_w_issue.append(condition)"
   ]
  },
  {
   "cell_type": "code",
   "execution_count": 39,
   "id": "862a2dbd",
   "metadata": {},
   "outputs": [
    {
     "name": "stdout",
     "output_type": "stream",
     "text": [
      "389 Condition pages extracted...\n"
     ]
    }
   ],
   "source": [
    "print(f\"{len(pages_content)} Condition pages extracted...\")"
   ]
  },
  {
   "cell_type": "markdown",
   "id": "abd8572d",
   "metadata": {},
   "source": [
    "A single page has trouble with extraction, because it is for formatted following the common pattern. It can be excluded for the moment."
   ]
  },
  {
   "cell_type": "code",
   "execution_count": 40,
   "id": "05da4d9d",
   "metadata": {},
   "outputs": [
    {
     "data": {
      "text/plain": [
       "['Mental Health Problems']"
      ]
     },
     "execution_count": 40,
     "metadata": {},
     "output_type": "execute_result"
    }
   ],
   "source": [
    "pages_w_issue"
   ]
  },
  {
   "cell_type": "markdown",
   "id": "046e4948",
   "metadata": {},
   "source": [
    "Let's save the page content dict as a JSON file."
   ]
  },
  {
   "cell_type": "code",
   "execution_count": 41,
   "id": "28c4377b",
   "metadata": {},
   "outputs": [],
   "source": [
    "jsonl_content = \"\"\n",
    "for page_content in pages_content:\n",
    "    if \"unique_id\" not in page_content.keys():\n",
    "        print(page_content)\n",
    "    jsonl_content += json.dumps(page_content) + \"\\n\"\n",
    "\n",
    "\n",
    "with open(\"../data/pages_content.jsonl\", \"w\") as fp:\n",
    "    fp.write(jsonl_content)"
   ]
  },
  {
   "cell_type": "markdown",
   "id": "8f7a6455",
   "metadata": {},
   "source": [
    "## 03- Knowledge Enrichmnent"
   ]
  },
  {
   "cell_type": "markdown",
   "id": "b168dc1c",
   "metadata": {},
   "source": [
    "In this section, the extracted knowledge is enriched by different insights, keywords, and summary content creation."
   ]
  },
  {
   "cell_type": "code",
   "execution_count": 6,
   "id": "d6119d39",
   "metadata": {},
   "outputs": [],
   "source": [
    "# let's reload a condition that we have just extracted\n",
    "with open(\"../data/one_condition.jsonl\") as fp:\n",
    "    a_condition = json.load(fp)"
   ]
  },
  {
   "cell_type": "code",
   "execution_count": 7,
   "id": "83358b42",
   "metadata": {},
   "outputs": [
    {
     "data": {
      "text/plain": [
       "'# 22q11.2-Related Disorders\\n\\n\\n\\n\\n\\n## What are 22q11\\\\.2\\\\-related disorders?\\n\\n\\n\\n\\n22q11\\\\.2\\\\-related disorders are caused by differences in part of chromosome 22, called the q11\\\\.2 region. Chromosomes contain genes, which tell our cells how to work and what proteins to make. There are 23 pairs of chromosomes in each cell of the body.\\n\\n\\n22q11\\\\.2\\\\-related disorders happen in at least 1 in 1,000 newborns.\\n\\n\\nThe symptoms differ widely, even among members of the same family. There may be small differences in how your child’s eyelids, nose and ears look.\\n\\n\\nThese conditions are linked to many health issues. They can affect your child’s growth, feeding, breathing, speaking, hearing, learning and mental health. But most children with 22q11\\\\.2\\\\-related disorders only have problems in some of these areas.\\n\\n\\n\\n\\n\\n### What causes 22q11\\\\.2\\\\-related disorders?\\n\\n\\n\\n\\nThese disorders happen because of changes in the 22q11\\\\.2 part of chromosome 22\\\\. There may be extra genes, missing genes or genes in the wrong place.\\n\\n\\nYour child may:\\n\\n\\n* Be **missing** a small part of chromosome 22 (22q11\\\\.2 deletion syndrome).\\n* Have **extra** genes in the q11\\\\.2 part of chromosome 22 (22q11\\\\.2 duplication syndrome).\\n* Have changes\\xa0**near**\\xa0the q11\\\\.2 part of chromosome 22 (22q11\\\\.2 distal deletion disorder).\\n* Have genes from 22q11\\\\.2 switch places with genes on another chromosome (translocation).\\n* Have a 22q11\\\\.2\\\\-related disorder\\xa0**and**\\xa0another genetic syndrome.\\n\\n\\nWhether the genetic change is new or inherited varies:\\n\\n\\n* For 90% of children with 22q11\\\\.2 **deletion**, this is a new genetic change (not passed down from a parent).\\n* In 66% of children with 22q11\\\\.2 **duplication**, the genetic change is passed from a parent.\\n\\n\\nWhen people with 22q11\\\\.2 related disorders become parents, they have a 50% chance of passing the condition to their child.\\n\\n\\n\\n\\n\\n\\n### Other names for 22q11\\\\.2\\\\-related disorders\\n\\n\\n\\n\\nThere are many older names for these conditions. These names were used before it was known that all are a form of the same condition.\\n\\n\\nAll of these names have been replaced with “22q11\\\\.2\\\\-related disorders:”\\n\\n\\n* Velocardiofacial syndrome (VCFS)\\n* DiGeorge syndrome\\n* Shprintzen syndrome\\n* Conotruncal anomaly unusual face syndrome\\n* Cayler cardiofacial syndrome\\n* Catch 22 syndrome\\n\\n\\n\\n\\n\\n\\n\\n\\n\\n\\n\\n\\n---\\n\\n\\n[22q11\\\\.2\\\\-Related Disorders Care at Seattle Children\\'s](/clinics/craniofacial/services/22q-clinic/)\\n\\n\\nAt the 22q Clinic, a team experienced with these conditions will evaluate your child. We create a personalized care plan for your child and bring in other experts to meet your child’s specific needs.\\n\\n\\n\\n\\n---\\n\\n\\n## Symptoms of 22q11\\\\.2\\\\-Related Disorders\\n\\n\\nEvery child with a 22q11\\\\.2\\\\-related disorder is different.\\n\\n\\nSome children have facial differences, including:\\n\\n\\n* Eyelids that look hooded\\n* A nose that is tube\\\\-shaped\\n* Ears that are folded over more than normal at the edges\\n* A face that looks long, with flat cheeks\\n* A narrow mouth\\n\\n\\nThe 22q11\\\\.2\\\\-related disorders may cause problems with your child’s:\\n\\n\\n* Roof of the mouth (palate), including\\xa0[cleft palate](/conditions/cleft-lip-palate/ \"cleft palate\")\\n* Ears, nose or throat\\n* Heart\\n* Infection\\\\-fighting immune system\\n* Nervous system\\n* Kidneys\\n* Skeleton\\n* Hormone\\\\-producing endocrine system\\n\\n\\nThese differences may affect your child’s growth, feeding, breathing, speaking, hearing, learning or mental health.\\n\\n\\n\\n\\n\\n## Diagnosing 22q11\\\\.2\\\\-Related Disorders\\n\\n\\n\\n\\nSeattle Children’s has a [22q Clinic](/clinics/craniofacial/services/22q-clinic/ \"22q Clinic\") focused on diagnosing these conditions and helping families manage them.\\n\\n\\n\\n\\n\\n### Diagnosis before birth\\n\\n\\n\\n\\nThese conditions are sometimes diagnosed before birth. The tests use different samples:\\n\\n\\n* An expectant mother’s blood, which includes DNA from the placenta. Noninvasive prenatal screening (NIPS) can identify some conditions. But many mothers whose test shows a risk of 22q11\\\\.2 conditions will go on to have a healthy child. Further testing is needed to confirm the diagnosis.\\n* Amniotic fluid that surrounds and protects a baby in the womb (amniocentesis).\\n* Part of the placenta, through a test called chorionic villus sampling (CVS).\\n\\n\\nFurther tests on CVS or amniotic fluid samples may detect the specific 22q11\\\\.2 disorder. The 2 tests are FISH and chromosomal microarray analysis (CMA). Genetic testing may include doing a karyotype to make sure parts of the chromosomes have not switched places with one another.\\n\\n\\nThe tests can show if your baby has missing, extra or misplaced genes in the q11\\\\.2 area of chromosome 22\\\\. But they can not tell how much these genetic changes will affect your baby.\\n\\n\\nTo look for specific problems, your child may have a detailed ultrasound or fetal heart scan ([fetal echo](/clinics/heart/treatments-and-services/echocardiography/ \"fetal echo\")).\\n\\n\\n\\n\\n\\n\\n### Diagnosis after birth\\n\\n\\n\\n\\nYour doctor will check your child and look for the differences that are linked with 22q11\\\\.2\\\\-related disorders. Since the symptoms of the conditions differ from child to child, a careful exam is important.\\n\\n\\nYour doctor may recommend genetic tests to tell the type of 22q11\\\\.2 disorder your child has.\\n\\n\\nDoctors may order other tests or procedures to learn more about your child’s exact condition. For example, an ultrasound picture of their heart (echocardiogram) can show if they have any heart problems.\\n\\n\\n\\n\\n\\n\\n### Genetic counseling and testing\\n\\n\\n\\n\\nPhysicians and genetic counselors at our 22q Clinic will talk with you about the pros and cons of genetic testing and explain test results.\\n\\n\\nOur counselors also can give you information about your child’s condition. Counseling can help you make informed decisions about family planning and your child’s treatment.\\n\\n\\nOur genetic counselors also advise people with 22q11\\\\.2\\\\-related disorders about their chance of having a child with a similar condition. A person with the condition has a 50% chance in each pregnancy of passing it on to their child.\\n\\n\\n\\n\\n\\n\\n\\n\\n\\n\\n\\n\\n\\n## Treating 22q11\\\\.2\\\\-Related Disorders\\n\\n\\n\\n\\nThe effects of these conditions vary greatly from child to child. We create a personalized care plan based on your child\\'s specific needs.\\n\\n\\nBecause of the high rates of problems in the following areas, most children with 22q11\\\\.2\\\\-related disorders will need to see providers with special training in:\\n\\n\\n* [Audiology](/clinics/audiology/ \"Audiology\")\\n* [Genetic counseling](/clinics/genetics/genetic-counseling/ \"Genetic counseling\")\\n* [Neuropsychology](/clinics/neuropsychology/)\\n* [Immunology](/clinics/immunology/)\\n* [Nutrition](/clinics/nutrition/ \"Nutrition\")\\n* [Occupational Therapy](/clinics/occupational-therapy/)\\n* [Otolaryngology](/clinics/otolaryngology/ \"Otolaryngology\")\\n* [Psychiatry/Psychology](/clinics/psychiatry-and-behavioral-medicine/ \"Psychiatry\")\\n* [Social work](/clinics/social-work/ \"Social work\")\\n* [Speech and language pathology](/clinics/speech-and-language/ \"Speech and language pathology\")\\n\\n\\nThese providers are all part of our coordinated 22q Team Clinic.\\n\\n\\nDepending on their medical problems and test results, your child may also need to see other specialists at Seattle Children’s.\\n\\n\\n\\n\\n\\n### Feeding and growth\\n\\n\\n\\n\\nChildren with 22q11\\\\.2\\\\-related disorders may have a hard time feeding. This can be caused by problems with their mouth or throat:\\n\\n\\n* Not having enough tissue (“insufficient”) in the palate or throat ([velopharyngeal insufficiency](/conditions/vpd/ \"velopharyngeal insufficiency\"), VPI)\\n* A gap in the roof of the mouth ([cleft palate](/conditions/cleft-lip-palate/ \"cleft palate\"))\\n* A gap in the roof of the mouth that is covered by the lining of the mouth (submucous cleft palate)\\n\\n\\nOur [Feeding Management](/clinics/craniofacial/services/feeding-management/ \"Feeding Management\") team can help. A dietitian may advise you about your child\\'s diet.\\n\\n\\n* We can teach you ways to [feed your baby](/clinics/craniofacial/patient-family-resources/cleft-feeding-instructions/ \"feed your baby\") and recommend special bottles to use.\\n* If your baby is not able to get enough nutrition by bottle, they may need a tube from their nose to their stomach (NG tube). For most children, this is temporary and they are able to go back to feeding entirely by mouth after feeding therapy.\\n* If feeding problems are severe, your doctor may recommend placing a tube through your child’s belly (abdominal wall) into the stomach. This is called a gastrostomy tube or G\\\\-tube.\\n\\n\\n#### Palate repair\\n\\n\\nIf your child has problems with the roof of their mouth or throat, your surgeon will talk with you about repair.\\n\\n\\n* Repairing a gap in the roof of the mouth (cleft palate) usually happens when your child is about 1 year old. See [Cleft Palate Treatments](/conditions/cleft-lip-palate/#treating \"Cleft Palate Treatments\").\\n* Other problems with the mouth or throat, such as [velopharyngeal dysfunction](/conditions/vpd/ \"velopharyngeal dysfunction\") (VPD), are treated when your child is older than 1 year.\\n\\n\\n#### Growth\\n\\n\\nWe will check regularly to make sure your child is growing well.\\n\\n\\n* Children with 22q11\\\\.2 **deletion** syndrome often have a different and slower pattern of growth than other children. We compare your child to growth charts specific to 22q11\\\\.2 deletion syndrome.\\n* Usually, children with 22q11\\\\.2 **duplication**\\xa0are bigger than average.\\n\\n\\n\\n\\n\\n\\n### Hearing\\n\\n\\n\\n\\nYour doctor will check your child\\'s ear health and hearing regularly.\\n\\n\\n* Most often your baby’s hearing is tested soon after birth or within a few days.\\n* If there are concerns, we do more tests. A specialist trained to test hearing in babies and children (audiologist) will do the testing.\\n* Some children have hearing loss. It may be caused by fluid behind the eardrums or by problems with the nerve pathways from the inner ear to the brain. The treatments for these types of hearing loss are different.\\n* Your doctor will determine if your child has hearing loss and will talk with you about treatment.\\n\\n\\n\\n\\n\\n\\n### Speech\\n\\n\\n\\n\\nIn some children, differences in the mouth or throat cause problems with speech.\\n\\n\\nBy age 2, a speech and language pathologist (SLP) will regularly check your child’s ability to make speech sounds. Our team will continue to check your child’s speech as they grow.\\n\\n\\nSome children have a condition called [velopharyngeal dysfunction](/conditions/vpd/ \"velopharyngeal dysfunction\") (VPD), which makes it hard for them to make speech sounds correctly. VPD may develop over time in a child who had a cleft palate repaired.\\n\\n\\nDepending on your child’s needs, we may recommend:\\n\\n\\n* A custom\\\\-made speech appliance called an obturator.\\n* Surgery on the roof of the mouth or throat. Your surgeon and speech pathologist will work together to recommend what is best for your child.\\n* Speech therapy to develop correct speech sounds.\\n\\n\\n\\n\\n\\n\\n### Heart\\n\\n\\n\\n\\nProblems in the heart are common in children with 22q11\\\\.2\\\\-related disorders. The problem could be mild, like an unusual sound heard during a heartbeat (heart murmur). Sometimes it is serious enough to affect how the heart works.\\n\\n\\nIf your child is healthy and growing well, it is not likely that they have a major heart problem. To check, your child’s doctor will order an ultrasound picture of your child’s heart (echocardiogram).\\n\\n\\nIf problems are found, your child will see a heart specialist (cardiologist) for care as needed. [Learn more about Children’s Heart Center](/clinics/heart/why-choose-us/ \"Learn more about Children’s Heart Center\").\\n\\n\\n\\n\\n\\n\\n### Immune system\\n\\n\\n\\n\\nMany children with 22q11\\\\.2\\\\-related disorders have problems with their immune system, which helps protect their body from sickness.\\n\\n\\nWe will check the number of infection\\\\-fighting white cells in your child’s blood. We may send your child to a doctor who specializes in the immune system (immunologist).\\n\\n\\nIf your child’s immune system does not work well, they may:\\n\\n\\n* Be more likely to get infections. We will watch for signs of an infection and treat it quickly. Rarely, children need to take antibiotics or other treatments to prevent infection.\\n* Need extra doses of vaccines to build enough protection against disease.\\n* Need to avoid some vaccines with live viruses because their body is less able to fight infection.\\n\\n\\n[Learn more about Children’s Immunology program](/clinics/immunology/ \"Learn more about Children’s Immunology program\").\\n\\n\\n\\n\\n\\n\\n### Kidneys\\n\\n\\n\\n\\nSome children with 22q11\\\\.2\\\\-related disorders have kidney problems. We may recommend that your child have a kidney (renal) ultrasound.\\n\\n\\nWe are looking to make sure that the kidneys formed normally. If your child has a normal ultrasound, they will not need another one.\\n\\n\\nIf there is a problem, your child will see a kidney specialist (nephrologist).\\n\\n\\n[Learn more about Children’s Nephrology program](/clinics/nephrology/ \"Learn more about Children’s Nephrology program\").\\n\\n\\n\\n\\n\\n\\n### Low calcium levels in blood\\n\\n\\n\\n\\nSome children with 22q\\\\-related disorders have problems with low calcium levels. If calcium is too low it can cause seizures.\\n\\n\\nWe will do a blood test to check the calcium level. Your doctor may decide your child needs to take a calcium supplement or see an [endocrinologist](/clinics/endocrinology/).\\n\\n\\n\\n\\n\\n\\n### Development and learning\\n\\n\\n\\n\\nMany children with 22q11\\\\.2\\\\-related disorders have differences in how they learn and process information. Some children will have normal intelligence, and some will have intelligence that is below normal.\\n\\n\\nYour child’s care team will make sure their learning style is tested. This helps us better understand how they process information. We will help your child’s school know the best ways to support your child’s learning.\\n\\n\\nSome children with 22q11\\\\.2\\\\-related disorders will have trouble learning because of attention deficit hyperactivity disorder (ADHD), anxiety or autism spectrum disorder. If your child develops any of these problems, a specialist will evaluate your child and suggest treatment to help them start school ready to learn. We will also work with you to find resources in your community if needed.\\n\\n\\n\\n\\n\\n\\n### Behavior and mental health\\n\\n\\n\\n\\n22q11\\\\.2\\\\-related disorders increase the risk of problems with behavior and mental health. These include:\\n\\n\\n* Attention deficit hyperactivity disorder (ADHD)\\n* Autism spectrum disorder\\n* Anxiety\\n* Depression\\n* Bipolar disorder\\n\\n\\nMany problems can be managed well if they are found early and treated by a doctor familiar with 22q11\\\\.2\\\\-related disorders.\\n\\n\\n* Patients with 22q\\\\-related disorders have an increased risk of autism spectrum disorder and other problems affecting the brain and central nervous system (neurodevelopmental).\\n* Children with 22q\\\\-related disorders are also at risk for other psychiatric conditions, such as schizophrenia \\xa0and anxiety.\\n\\n\\nVarious types of mental health issues begin at different times. We will regularly check your child’s behavior, mood and coping. Your healthcare team will ask about your child’s behavior at home and school.\\n\\n\\nIf there are concerns, a psychiatrist or neurodevelopmental specialist will evaluate your child and recommend treatment. Your craniofacial pediatrician and social worker will work with you to find resources in your community if needed.\\n\\n\\n\\n\\n\\n\\n\\n\\n\\n\\n\\n\\n\\n## 22q11\\\\.2\\\\-Related Disorders at Seattle Children\\'s\\n\\n\\n\\n\\nMany families have never heard of these conditions before their child’s diagnosis. Seattle Children’s has a [clinic](/clinics/craniofacial/services/22q-clinic/ \"clinic\") focused on caring for children with 22q11\\\\.2\\\\-related disorders.\\n\\n\\nMany of the babies and children we see are newly diagnosed. We also work with expectant parents who are worried about the results of tests during pregnancy.\\n\\n\\nPlease call the Craniofacial Center at [206\\\\-987\\\\-0339](tel:206-987-0339) for more information, a second opinion or to make an appointment.\\n\\n\\n\\n\\n\\n### A clinic focused on your child’s condition\\n\\n\\n\\n\\nOur [22q Clinic](/clinics/craniofacial/services/22q-clinic/ \"22q Clinic\") is the only multidisciplinary clinic for children with 22q11\\\\.2\\\\-related disorders in the 5\\\\-state region that includes Washington, Alaska, Montana, Idaho and Wyoming. Our clinic team has been diagnosing these conditions and helping families care for their children since 2006\\\\.\\n\\n\\nOur doctors are experienced in treating the problems caused by these conditions.\\n\\n\\n\\n\\n\\n\\n### Specialists to cover your child\\'s needs\\n\\n\\n\\n\\nThe 22q Clinic is part of Seattle Children’s [Craniofacial Center](/clinics/craniofacial/ \"Craniofacial Center\"). Our 50 specialists in 19 different fields meet weekly to discuss children with complex needs and decide on the best care plan for each child.\\n\\n\\nA craniofacial pediatrician, medical geneticist, genetic counselor, nurse, family service coordinator and social worker will work closely with your family. They manage your child’s care and make sure all your questions are answered.\\n\\n\\n[Our 22q Clinic](/clinics/craniofacial/services/22q-clinic/ \"Our 22q Clinic\") can easily form a team with the right experts to care for your child’s specific needs. These may include an audiologist; dietitian; ear, nose and throat specialist (otolaryngologist); feeding therapist; psychiatrist; and speech and language pathologist (SLP). They create a personalized plan of care for your child.\\n\\n\\nIf needed, your child will see experts in other departments at Seattle Children’s, for problems affecting their [heart](/clinics/heart/ \"heart\"), [mental health](/clinics/psychiatry-and-behavioral-medicine/ \"mental health\"), [hormones](/clinics/endocrinology/ \"hormones\"), [nervous system](/clinics/neurosciences/ \"nervous system\"), [stomach and intestines](/clinics/gastroenterology-hepatology/ \"stomach and intestines\"), [bones](/clinics/orthopedics/ \"bones\"), [kidneys](/clinics/nephrology/ \"kidneys\") and [infection\\\\-fighting immune system](/clinics/immunology/ \"infection-fighting immune system\"). We work together, and with you and your family’s doctor, to care for your child.\\n\\n\\n\\n\\n\\n\\n### We support your whole family\\n\\n\\n\\n\\nA diagnosis of a 22q11\\\\.2\\\\-related disorder can be scary. We take time to explain your child’s condition. We help you fully understand your treatment options and make choices that are right for your family.\\n\\n\\nOur child life specialists and social workers support your child and family through the challenges of their condition. We help you find [community resources and support groups](/clinics/craniofacial/patient-family-resources/ \"community resources and support groups\").\\n\\n\\nAs your child gets older, we include them in decisions about their medical care. Your family has a [full team](/clinics/craniofacial/meet-your-team/ \"full team\") behind you, including specialists in nutrition, physical therapy and speech therapy. Read more about the [supportive care we offer](/clinics/craniofacial/services/supportive-care/ \"supportive care we offer\").\\n\\n\\nSeattle Children’s provides craniofacial care for children in an area one\\\\-fourth the size of the continental U.S. We also treat children from across the globe. This has helped us develop systems to provide outstanding, personalized care at great distance.\\n\\n\\n\\n\\n\\n\\n\\n\\n\\n\\n\\n\\n\\n\\n\\n\\n\\n\\n## Contact Us\\n\\n\\nContact the [Craniofacial Center](/clinics/craniofacial/contact-locations/ \"Craniofacial Center\") at\\xa0[206\\\\-987\\\\-2208](tel:206-987-2208) for an appointment, a second opinion or more information.\\n\\n\\nProviders, see [how to refer a patient](/clinics/craniofacial/refer-a-patient/ \"how to refer a patient\").\\n\\n\\n\\n\\n\\n\\n\\n'"
      ]
     },
     "execution_count": 7,
     "metadata": {},
     "output_type": "execute_result"
    }
   ],
   "source": [
    "a_condition['content']"
   ]
  },
  {
   "cell_type": "markdown",
   "id": "3298f9fd",
   "metadata": {},
   "source": [
    "All the enrichment is done with the help of Gemini LLMs. So let's first create a genai client."
   ]
  },
  {
   "cell_type": "code",
   "execution_count": 8,
   "id": "e52ca568",
   "metadata": {},
   "outputs": [],
   "source": [
    "genai_client = genai.Client(\n",
    "    vertexai=True,\n",
    "    project=\"petroglyphs-nlp\",\n",
    "    location=\"us-central1\"\n",
    ")"
   ]
  },
  {
   "cell_type": "markdown",
   "id": "1937a425",
   "metadata": {},
   "source": [
    "For the simplest tasks, we use Gemini 2.5 Flash Lite. For the more complex one, we use Gemini 2.5 Pro."
   ]
  },
  {
   "cell_type": "code",
   "execution_count": 9,
   "id": "3ed7b002",
   "metadata": {},
   "outputs": [],
   "source": [
    "simple_tasks_model = \"gemini-2.5-flash-lite\"\n",
    "complex_tasks_model = \"gemini-2.5-pro\""
   ]
  },
  {
   "cell_type": "code",
   "execution_count": 25,
   "id": "26cc07c6",
   "metadata": {},
   "outputs": [],
   "source": [
    "simple_tasks_thinking_budget = types.ThinkingConfig(\n",
    "    thinking_budget=0\n",
    ")\n",
    "complex_tasks_thinking_budget = types.ThinkingConfig(\n",
    "    thinking_budget=8092\n",
    ")"
   ]
  },
  {
   "cell_type": "code",
   "execution_count": 26,
   "id": "4643d095",
   "metadata": {},
   "outputs": [],
   "source": [
    "safety_settings = [\n",
    "    types.SafetySetting(\n",
    "        category=\"HARM_CATEGORY_HATE_SPEECH\",\n",
    "        threshold=\"OFF\"\n",
    "    ),\n",
    "    types.SafetySetting(\n",
    "        category=\"HARM_CATEGORY_DANGEROUS_CONTENT\",\n",
    "        threshold=\"OFF\"\n",
    "    ),\n",
    "    types.SafetySetting(\n",
    "        category=\"HARM_CATEGORY_SEXUALLY_EXPLICIT\",\n",
    "        threshold=\"OFF\"\n",
    "    ),\n",
    "    types.SafetySetting(\n",
    "        category=\"HARM_CATEGORY_HARASSMENT\",\n",
    "        threshold=\"OFF\"\n",
    "    )\n",
    "]"
   ]
  },
  {
   "cell_type": "code",
   "execution_count": 27,
   "id": "cc784fe6",
   "metadata": {},
   "outputs": [],
   "source": [
    "simple_tasks_generate_content_config = types.GenerateContentConfig(\n",
    "    temperature=1,\n",
    "    top_p=0.95,\n",
    "    max_output_tokens=65535,\n",
    "    safety_settings=safety_settings,\n",
    "    thinking_config=simple_tasks_thinking_budget\n",
    ")\n",
    "\n",
    "complex_tasks_generate_content_config = types.GenerateContentConfig(\n",
    "    temperature=1,\n",
    "    top_p=0.95,\n",
    "    max_output_tokens=65535,\n",
    "    safety_settings=safety_settings,\n",
    "    thinking_config=complex_tasks_thinking_budget\n",
    ")"
   ]
  },
  {
   "cell_type": "markdown",
   "id": "bde19ce4",
   "metadata": {},
   "source": [
    "### 03-01- Page Summary creation"
   ]
  },
  {
   "cell_type": "markdown",
   "id": "1d48d761",
   "metadata": {},
   "source": [
    "#### 03-01-01- Prompt Definition"
   ]
  },
  {
   "cell_type": "markdown",
   "id": "a1edb613",
   "metadata": {},
   "source": [
    "Gemini creates a summary for each page content. These summaries will be encoded as dense representations. They can be used for condition retrieval and/or chunks reranking."
   ]
  },
  {
   "cell_type": "code",
   "execution_count": 13,
   "id": "39461ade",
   "metadata": {},
   "outputs": [],
   "source": [
    "prompt = types.Part.from_text(text=\"Summarize the following text in 5 sentences.\")\n",
    "content = types.Part.from_text(text=a_condition['content'])\n",
    "system_instruction=[types.Part.from_text(text=\"You are a medical expert summarizing teaching material for public access.\")]\n",
    "simple_tasks_generate_content_config.system_instruction = system_instruction"
   ]
  },
  {
   "cell_type": "code",
   "execution_count": 14,
   "id": "82975f51",
   "metadata": {},
   "outputs": [
    {
     "name": "stdout",
     "output_type": "stream",
     "text": [
      "('22q11.2-related disorders are genetic conditions caused by changes in a '\n",
      " 'specific region of chromosome 22. These disorders can lead to a wide range '\n",
      " 'of symptoms, affecting physical features, growth, feeding, breathing, '\n",
      " 'speech, hearing, learning, and mental health. The specific symptoms and '\n",
      " 'their severity can vary greatly, even among family members. Diagnosis '\n",
      " 'involves genetic testing, and management is typically coordinated through '\n",
      " 'specialized clinics that offer personalized care plans. Treatment strategies '\n",
      " \"are tailored to address the individual's specific medical needs, often \"\n",
      " 'involving a team of various specialists.')\n"
     ]
    }
   ],
   "source": [
    "response = genai_client.models.generate_content(\n",
    "    model = simple_tasks_model,\n",
    "    contents = [prompt, content],\n",
    "    config = simple_tasks_generate_content_config\n",
    ")\n",
    "\n",
    "pprint.pprint(response.text)"
   ]
  },
  {
   "cell_type": "markdown",
   "id": "e5be2782",
   "metadata": {},
   "source": [
    "#### 03-01-02- Batch Generation"
   ]
  },
  {
   "cell_type": "markdown",
   "id": "a7d708ce",
   "metadata": {},
   "source": [
    "Let's implement the summarization of all pages content using the Gemini batch predicting capacity."
   ]
  },
  {
   "cell_type": "code",
   "execution_count": 15,
   "id": "a9e8747a",
   "metadata": {},
   "outputs": [],
   "source": [
    "# let's reload all conditions that we have just extracted\n",
    "all_conditions = []\n",
    "with open(\"../data/pages_content.jsonl\") as fp:\n",
    "    for line in fp.readlines():\n",
    "        all_conditions.append(json.loads(line))"
   ]
  },
  {
   "cell_type": "code",
   "execution_count": 16,
   "id": "763a6926",
   "metadata": {},
   "outputs": [
    {
     "name": "stdout",
     "output_type": "stream",
     "text": [
      "389 condition pages have been loaded...\n"
     ]
    }
   ],
   "source": [
    "print(f\"{len(all_conditions)} condition pages have been loaded...\")"
   ]
  },
  {
   "cell_type": "markdown",
   "id": "21b896c6",
   "metadata": {},
   "source": [
    "The prompt corresponds to a summarization task."
   ]
  },
  {
   "cell_type": "code",
   "execution_count": 54,
   "id": "c53a4ca9",
   "metadata": {},
   "outputs": [],
   "source": [
    "prompt = \"Summarize the following text in 5 sentences.\""
   ]
  },
  {
   "cell_type": "markdown",
   "id": "3aad7489",
   "metadata": {},
   "source": [
    "- We need to serialize the generation configuration parameters in order to use them in the batch prediction request template.\n",
    "- We need to remove the system instruction and the safety setting from this configuration setup, as the batch predicting template is expected them in separate fields."
   ]
  },
  {
   "cell_type": "code",
   "execution_count": null,
   "id": "8f3f30c7",
   "metadata": {},
   "outputs": [],
   "source": [
    "simple_tasks_generate_content_config_dict = simple_tasks_generate_content_config.to_json_dict()\n",
    "system_instruction = simple_tasks_generate_content_config_dict.pop('system_instruction')\n",
    "safety_settings = simple_tasks_generate_content_config_dict.pop('safety_settings')\n",
    "simple_tasks_generate_content_config_str = str(simple_tasks_generate_content_config_dict).replace(\"'\", '\"')"
   ]
  },
  {
   "cell_type": "code",
   "execution_count": 56,
   "id": "6e5cc5a9",
   "metadata": {},
   "outputs": [],
   "source": [
    "safety_settings = json.dumps(safety_settings).replace(\"'\", '\"')"
   ]
  },
  {
   "cell_type": "markdown",
   "id": "4fbf5cc9",
   "metadata": {},
   "source": [
    "This is the batch prediction template string that we are using to create the JSONL file."
   ]
  },
  {
   "cell_type": "code",
   "execution_count": 57,
   "id": "b9107a43",
   "metadata": {},
   "outputs": [],
   "source": [
    "template_generate_text = '{{\"page_id\": \"{0}\", \"request\":{{\"contents\": [{{\"role\": \"user\", \"parts\": [{{\"text\": \"{1}\"}}, {{\"text\": \"{2}\"}}]}}], \"generationConfig\": {3}, \"systemInstruction\": {{\"role\": \"user\", \"parts\": [{{\"text\": \"{4}\"}}]}}, \"safetySettings\": {5}}}}}'"
   ]
  },
  {
   "cell_type": "markdown",
   "id": "969a520c",
   "metadata": {},
   "source": [
    "Let's use it for the entire collection of Condition pages."
   ]
  },
  {
   "cell_type": "code",
   "execution_count": 58,
   "id": "b7106d86",
   "metadata": {},
   "outputs": [
    {
     "name": "stderr",
     "output_type": "stream",
     "text": [
      "100%|██████████| 389/389 [00:00<00:00, 1574.66it/s]\n"
     ]
    }
   ],
   "source": [
    "requests_jsonl = ''\n",
    "for page in tqdm.tqdm(all_conditions):\n",
    "    additional_line = template_generate_text.format(\n",
    "        page['unique_id'], \n",
    "        prompt, \n",
    "        re.sub(r'[\\x00-\\x1F\\x7F-\\x9F]', '', page['content'].replace('\"', \"'\")).replace(\"\\\\\", \"\"),\n",
    "        simple_tasks_generate_content_config_str,\n",
    "        system_instruction,\n",
    "        safety_settings\n",
    "    )\n",
    "    requests_jsonl += additional_line + '\\n'\n",
    "\n",
    "# remove the last empty line\n",
    "requests_jsonl = requests_jsonl[:-1]"
   ]
  },
  {
   "cell_type": "code",
   "execution_count": 59,
   "id": "35c128cf",
   "metadata": {},
   "outputs": [],
   "source": [
    "# detect any anomaly in the jsonl string\n",
    "for i, line in enumerate(requests_jsonl.split(\"\\n\")):\n",
    "    try:\n",
    "        _ = json.loads(line)\n",
    "    except:\n",
    "        print(line)\n",
    "        print(i)\n",
    "        break"
   ]
  },
  {
   "cell_type": "markdown",
   "id": "cc4f8ee9",
   "metadata": {},
   "source": [
    "Now it is time to create the Gemini batch predicting request."
   ]
  },
  {
   "cell_type": "code",
   "execution_count": 60,
   "id": "64b16a41",
   "metadata": {},
   "outputs": [],
   "source": [
    "batch_processing_bucket_name = \"gemini_batch_predicting_bucket\"\n",
    "storage_client = storage.Client()\n",
    "batch_processing_bucket = storage_client.bucket(batch_processing_bucket_name)\n",
    "blob = batch_processing_bucket.blob(\"requests_summarization_jsonl.jsonl\")\n",
    "blob.upload_from_string(requests_jsonl)"
   ]
  },
  {
   "cell_type": "markdown",
   "id": "747bf28f",
   "metadata": {},
   "source": [
    "Let's run the batch generation now..."
   ]
  },
  {
   "cell_type": "code",
   "execution_count": null,
   "id": "9803cbfa",
   "metadata": {},
   "outputs": [
    {
     "name": "stdout",
     "output_type": "stream",
     "text": [
      "Job name: projects/1075834949123/locations/us-central1/batchPredictionJobs/858955337070280704\n",
      "Job state: JobState.JOB_STATE_PENDING\n",
      "Job state: JobState.JOB_STATE_RUNNING\n",
      "Job state: JobState.JOB_STATE_RUNNING\n",
      "Job state: JobState.JOB_STATE_RUNNING\n",
      "Job state: JobState.JOB_STATE_RUNNING\n",
      "Job state: JobState.JOB_STATE_SUCCEEDED\n",
      "Job succeeded!\n"
     ]
    }
   ],
   "source": [
    "input_uri =  \"gs://gemini_batch_predicting_bucket/requests_summarization_jsonl.jsonl\"\n",
    "output_uri = \"gs://gemini_batch_predicting_bucket/request_responses/summarization\"\n",
    "\n",
    "MODEL_NAME = simple_tasks_model\n",
    "\n",
    "# Submit a batch prediction job with Gemini model\n",
    "batch_prediction_job = genai_client.batches.create(\n",
    "    model=MODEL_NAME,\n",
    "    src=input_uri,\n",
    "    config=types.CreateBatchJobConfig(dest=output_uri),\n",
    ")\n",
    "\n",
    "# Check job status\n",
    "print(f\"Job name: {batch_prediction_job.name}\")\n",
    "print(f\"Job state: {batch_prediction_job.state}\")\n",
    "\n",
    "completed_states = {\n",
    "    types.JobState.JOB_STATE_SUCCEEDED,\n",
    "    types.JobState.JOB_STATE_FAILED,\n",
    "    types.JobState.JOB_STATE_CANCELLED,\n",
    "    types.JobState.JOB_STATE_PAUSED,\n",
    "}\n",
    "\n",
    "# Refresh the job until complete\n",
    "while batch_prediction_job.state not in completed_states:\n",
    "    time.sleep(60)\n",
    "    batch_prediction_job = genai_client.batches.get(name=batch_prediction_job.name)\n",
    "    print(f\"Job state: {batch_prediction_job.state}\")\n",
    "\n",
    "# Check if the job succeeds\n",
    "if batch_prediction_job.state == types.JobState.JOB_STATE_SUCCEEDED:\n",
    "    print(\"Job succeeded!\")\n",
    "else:\n",
    "    print(f\"Job failed: {batch_prediction_job.error}\")"
   ]
  },
  {
   "cell_type": "code",
   "execution_count": 27,
   "id": "f1b7d388",
   "metadata": {},
   "outputs": [
    {
     "data": {
      "text/plain": [
       "BatchJob(\n",
       "  create_time=datetime.datetime(2025, 8, 22, 0, 43, 10, 148707, tzinfo=TzInfo(UTC)),\n",
       "  dest=BatchJobDestination(\n",
       "    format='jsonl',\n",
       "    gcs_uri='gs://gemini_batch_predicting_bucket/request_responses'\n",
       "  ),\n",
       "  display_name='genai_batch_job_20250821174309_c4d2f',\n",
       "  end_time=datetime.datetime(2025, 8, 22, 0, 47, 35, 632049, tzinfo=TzInfo(UTC)),\n",
       "  model='publishers/google/models/gemini-2.5-flash-lite',\n",
       "  name='projects/1075834949123/locations/us-central1/batchPredictionJobs/858955337070280704',\n",
       "  src=BatchJobSource(\n",
       "    format='jsonl',\n",
       "    gcs_uri=[\n",
       "      'gs://gemini_batch_predicting_bucket/requests_jsonl.jsonl',\n",
       "    ]\n",
       "  ),\n",
       "  start_time=datetime.datetime(2025, 8, 22, 0, 44, 5, 677003, tzinfo=TzInfo(UTC)),\n",
       "  state=<JobState.JOB_STATE_SUCCEEDED: 'JOB_STATE_SUCCEEDED'>,\n",
       "  update_time=datetime.datetime(2025, 8, 22, 0, 47, 35, 632049, tzinfo=TzInfo(UTC))\n",
       ")"
      ]
     },
     "execution_count": 27,
     "metadata": {},
     "output_type": "execute_result"
    }
   ],
   "source": [
    "batch_prediction_job"
   ]
  },
  {
   "cell_type": "markdown",
   "id": "b85a65eb",
   "metadata": {},
   "source": [
    "Let's retrieve the responses generated by Gemini."
   ]
  },
  {
   "cell_type": "code",
   "execution_count": null,
   "id": "c773b847",
   "metadata": {},
   "outputs": [],
   "source": [
    "batch_prediction_blob_name = \"request_responses/summarization/prediction-model-2025-08-22T00:43:10.096963Z/predictions.jsonl\"\n",
    "batch_prediction_str = batch_processing_bucket.blob(batch_prediction_blob_name).download_as_bytes().decode('utf-8')\n",
    "\n",
    "responses = []\n",
    "for response in batch_prediction_str.split(\"\\n\"):\n",
    "    try:\n",
    "      responses.append(json.loads(response))\n",
    "    except:\n",
    "      responses.append(None)\n",
    "\n",
    "# remove the extra line\n",
    "responses = responses[:-1]"
   ]
  },
  {
   "cell_type": "code",
   "execution_count": 29,
   "id": "99b67069",
   "metadata": {},
   "outputs": [
    {
     "name": "stdout",
     "output_type": "stream",
     "text": [
      "389 summaries have been generated ...\n"
     ]
    }
   ],
   "source": [
    "print(f\"{len(responses)} summaries have been generated ...\")"
   ]
  },
  {
   "cell_type": "markdown",
   "id": "6eace6a0",
   "metadata": {},
   "source": [
    "Now we can update each page dictionary wit its associated summary."
   ]
  },
  {
   "cell_type": "code",
   "execution_count": 30,
   "id": "b582769d",
   "metadata": {},
   "outputs": [],
   "source": [
    "responses_dict = {response['page_id']: response[\"response\"]['candidates'][0]['content']['parts'][0]['text'] for response in responses}"
   ]
  },
  {
   "cell_type": "code",
   "execution_count": 31,
   "id": "d3a06581",
   "metadata": {},
   "outputs": [
    {
     "name": "stderr",
     "output_type": "stream",
     "text": [
      "100%|██████████| 389/389 [00:00<00:00, 371743.96it/s]\n"
     ]
    }
   ],
   "source": [
    "for page in tqdm.tqdm(all_conditions):\n",
    "    page['summary'] = responses_dict[page['unique_id']]"
   ]
  },
  {
   "cell_type": "markdown",
   "id": "3c5f1b95",
   "metadata": {},
   "source": [
    "Let's have a look at a condition from all conditions."
   ]
  },
  {
   "cell_type": "code",
   "execution_count": null,
   "id": "98c73637",
   "metadata": {},
   "outputs": [],
   "source": [
    "all_conditions[10]"
   ]
  },
  {
   "cell_type": "markdown",
   "id": "7c294a48",
   "metadata": {},
   "source": [
    "If everything looks good, we can update the pages content file."
   ]
  },
  {
   "cell_type": "code",
   "execution_count": 36,
   "id": "7acdf325",
   "metadata": {},
   "outputs": [],
   "source": [
    "jsonl_content = \"\"\n",
    "for all_condition in all_conditions:\n",
    "    if \"unique_id\" not in all_condition.keys():\n",
    "        print(all_condition)\n",
    "    jsonl_content += json.dumps(all_condition) + \"\\n\"\n",
    "\n",
    "\n",
    "with open(\"../data/pages_content.jsonl\", \"w\") as fp:\n",
    "    fp.write(jsonl_content)"
   ]
  },
  {
   "cell_type": "markdown",
   "id": "38935e85",
   "metadata": {},
   "source": [
    "And upload it to Google Cloud bucket for data resilience."
   ]
  },
  {
   "cell_type": "code",
   "execution_count": 38,
   "id": "682377f7",
   "metadata": {},
   "outputs": [
    {
     "name": "stderr",
     "output_type": "stream",
     "text": [
      "Copying file://..\\data\\pages_content.jsonl [Content-Type=application/octet-stream]...\n",
      "/ [0 files][    0.0 B/ 10.9 MiB]                                                \n",
      "-\n",
      "- [0 files][  4.7 MiB/ 10.9 MiB]                                                \n",
      "\\\n",
      "|\n",
      "| [0 files][  9.4 MiB/ 10.9 MiB]                                                \n",
      "| [1 files][ 10.9 MiB/ 10.9 MiB]                                                \n",
      "/\n",
      "\n",
      "Operation completed over 1 objects/10.9 MiB.                                     \n"
     ]
    }
   ],
   "source": [
    "# upload the pages.json to GSC bucket\n",
    "! gsutil cp \"../data/pages_content.jsonl\" gs://sch_knowledge_management_system/conditions_pages/pages_content.jsonl"
   ]
  },
  {
   "cell_type": "markdown",
   "id": "424ca0c2",
   "metadata": {},
   "source": [
    "### 03-02- Keywords extraction"
   ]
  },
  {
   "cell_type": "markdown",
   "id": "409b6bde",
   "metadata": {},
   "source": [
    "#### 03-02-01- Prompt Definition"
   ]
  },
  {
   "cell_type": "markdown",
   "id": "feba024d",
   "metadata": {},
   "source": [
    "Gemini extracts the keywords for each page content. These keywords can be used as sparse representations of the condition pages."
   ]
  },
  {
   "cell_type": "code",
   "execution_count": 28,
   "id": "288c549f",
   "metadata": {},
   "outputs": [],
   "source": [
    "response_schema = {\n",
    "    \"type\": \"OBJECT\",\n",
    "    \"properties\": {\n",
    "        \"keywords\": {\n",
    "            \"type\": \"ARRAY\",\n",
    "            \"items\": {\"type\": \"STRING\"}\n",
    "        }\n",
    "    }\n",
    "}"
   ]
  },
  {
   "cell_type": "code",
   "execution_count": 29,
   "id": "de9bd9be",
   "metadata": {},
   "outputs": [
    {
     "name": "stderr",
     "output_type": "stream",
     "text": [
      "C:\\Users\\j_mas\\AppData\\Local\\Temp\\ipykernel_1717616\\1391719190.py:5: PydanticDeprecatedSince20: The `copy` method is deprecated; use `model_copy` instead. See the docstring of `BaseModel.copy` for details about how to handle `include` and `exclude`. Deprecated in Pydantic V2.0 to be removed in V3.0. See Pydantic V2 Migration Guide at https://errors.pydantic.dev/2.11/migration/\n",
      "  simple_tasks_generate_keywords_config = simple_tasks_generate_content_config.copy()\n"
     ]
    }
   ],
   "source": [
    "prompt = types.Part.from_text(text=\"Extract the 10 most important keywords from the following text.\")\n",
    "content = types.Part.from_text(text=a_condition['content'])\n",
    "system_instruction=[types.Part.from_text(text=\"You are a medical expert extracting knowledge from teaching material.\")]\n",
    "\n",
    "simple_tasks_generate_keywords_config = simple_tasks_generate_content_config.copy()\n",
    "simple_tasks_generate_keywords_config.system_instruction = system_instruction\n",
    "simple_tasks_generate_keywords_config.response_mime_type = \"application/json\"\n",
    "simple_tasks_generate_keywords_config.response_schema = response_schema"
   ]
  },
  {
   "cell_type": "code",
   "execution_count": 30,
   "id": "b71d8419",
   "metadata": {},
   "outputs": [
    {
     "name": "stdout",
     "output_type": "stream",
     "text": [
      "('{\\n'\n",
      " '  \"keywords\": [\\n'\n",
      " '    \"22q11.2-related disorders\",\\n'\n",
      " '    \"chromosome 22\",\\n'\n",
      " '    \"genetic syndrome\",\\n'\n",
      " '    \"DiGeorge syndrome\",\\n'\n",
      " '    \"Velocardiofacial syndrome\",\\n'\n",
      " '    \"cleft palate\",\\n'\n",
      " '    \"heart problems\",\\n'\n",
      " '    \"immune system\",\\n'\n",
      " '    \"developmental delays\",\\n'\n",
      " '    \"genetic counseling\"\\n'\n",
      " '  ]\\n'\n",
      " '}')\n"
     ]
    }
   ],
   "source": [
    "response = genai_client.models.generate_content(\n",
    "    model = simple_tasks_model,\n",
    "    contents = [prompt, content],\n",
    "    config = simple_tasks_generate_keywords_config\n",
    ")\n",
    "\n",
    "pprint.pprint(response.text)"
   ]
  },
  {
   "cell_type": "markdown",
   "id": "b142ed25",
   "metadata": {},
   "source": [
    "#### 03-02-02- Batch Generation"
   ]
  },
  {
   "cell_type": "markdown",
   "id": "0c93c626",
   "metadata": {},
   "source": [
    "Let's implement the summarization of all pages content using the Gemini batch predicting capacity."
   ]
  },
  {
   "cell_type": "code",
   "execution_count": 34,
   "id": "4b12d566",
   "metadata": {},
   "outputs": [],
   "source": [
    "# let's reload all conditions that we have just extracted\n",
    "all_conditions = []\n",
    "with open(\"../data/pages_content.jsonl\") as fp:\n",
    "    for line in fp.readlines():\n",
    "        all_conditions.append(json.loads(line))"
   ]
  },
  {
   "cell_type": "code",
   "execution_count": 35,
   "id": "a7f96e2f",
   "metadata": {},
   "outputs": [
    {
     "name": "stdout",
     "output_type": "stream",
     "text": [
      "389 condition pages have been loaded...\n"
     ]
    }
   ],
   "source": [
    "print(f\"{len(all_conditions)} condition pages have been loaded...\")"
   ]
  },
  {
   "cell_type": "markdown",
   "id": "6551bd90",
   "metadata": {},
   "source": [
    "The prompt corresponds to a keywords extraction task. We do not precise in the prompt the format of the output because we are using structured output to ensure that Gemini always outputs a list of keywords as a Pydantic list of string objects."
   ]
  },
  {
   "cell_type": "code",
   "execution_count": 36,
   "id": "856d7b65",
   "metadata": {},
   "outputs": [],
   "source": [
    "prompt = \"Extract the 10 most important keywords from the following text.\""
   ]
  },
  {
   "cell_type": "markdown",
   "id": "35a35ffc",
   "metadata": {},
   "source": [
    "- We need to serialize the generation configuration parameters in order to use them in the batch prediction request template.\n",
    "- We need to remove the system instruction and the safety setting from this configuration setup, as the batch predicting template is expected them in separate fields."
   ]
  },
  {
   "cell_type": "code",
   "execution_count": 37,
   "id": "eb4cbf66",
   "metadata": {},
   "outputs": [],
   "source": [
    "simple_tasks_generate_keywords_config_dict = simple_tasks_generate_keywords_config.to_json_dict()\n",
    "system_instruction = simple_tasks_generate_keywords_config_dict.pop('system_instruction')\n",
    "safety_settings = simple_tasks_generate_keywords_config_dict.pop('safety_settings')\n",
    "simple_tasks_generate_keywords_config_str = str(simple_tasks_generate_keywords_config_dict).replace(\"'\", '\"')"
   ]
  },
  {
   "cell_type": "code",
   "execution_count": 38,
   "id": "7ef7e959",
   "metadata": {},
   "outputs": [],
   "source": [
    "safety_settings = json.dumps(safety_settings).replace(\"'\", '\"')"
   ]
  },
  {
   "cell_type": "markdown",
   "id": "6e4b6b92",
   "metadata": {},
   "source": [
    "This is the batch prediction template string that we are using to create the JSONL file."
   ]
  },
  {
   "cell_type": "code",
   "execution_count": 39,
   "id": "f30e3fd9",
   "metadata": {},
   "outputs": [],
   "source": [
    "template_generate_text = '{{\"page_id\": \"{0}\", \"request\":{{\"contents\": [{{\"role\": \"user\", \"parts\": [{{\"text\": \"{1}\"}}, {{\"text\": \"{2}\"}}]}}], \"generationConfig\": {3}, \"systemInstruction\": {{\"role\": \"user\", \"parts\": [{{\"text\": \"{4}\"}}]}}, \"safetySettings\": {5}}}}}'"
   ]
  },
  {
   "cell_type": "markdown",
   "id": "54bf7f2e",
   "metadata": {},
   "source": [
    "Let's use it for the entire collection of Condition pages."
   ]
  },
  {
   "cell_type": "code",
   "execution_count": 41,
   "id": "d98235bb",
   "metadata": {},
   "outputs": [
    {
     "name": "stderr",
     "output_type": "stream",
     "text": [
      "100%|██████████| 389/389 [00:00<00:00, 1383.83it/s]\n"
     ]
    }
   ],
   "source": [
    "requests_jsonl = ''\n",
    "for page in tqdm.tqdm(all_conditions):\n",
    "    additional_line = template_generate_text.format(\n",
    "        page['unique_id'], \n",
    "        prompt, \n",
    "        re.sub(r'[\\x00-\\x1F\\x7F-\\x9F]', '', page['content'].replace('\"', \"'\")).replace(\"\\\\\", \"\"),\n",
    "        simple_tasks_generate_keywords_config_str,\n",
    "        system_instruction,\n",
    "        safety_settings\n",
    "    )\n",
    "    requests_jsonl += additional_line + '\\n'\n",
    "\n",
    "# remove the last empty line\n",
    "requests_jsonl = requests_jsonl[:-1]"
   ]
  },
  {
   "cell_type": "code",
   "execution_count": 42,
   "id": "f39b0ad8",
   "metadata": {},
   "outputs": [],
   "source": [
    "# detect any anomaly in the jsonl string\n",
    "for i, line in enumerate(requests_jsonl.split(\"\\n\")):\n",
    "    try:\n",
    "        _ = json.loads(line)\n",
    "    except:\n",
    "        print(line)\n",
    "        print(i)\n",
    "        break"
   ]
  },
  {
   "cell_type": "markdown",
   "id": "0ac3deb8",
   "metadata": {},
   "source": [
    "Now it is time to create the Gemini batch predicting request."
   ]
  },
  {
   "cell_type": "code",
   "execution_count": 43,
   "id": "9bfcce67",
   "metadata": {},
   "outputs": [],
   "source": [
    "batch_processing_bucket_name = \"gemini_batch_predicting_bucket\"\n",
    "storage_client = storage.Client()\n",
    "batch_processing_bucket = storage_client.bucket(batch_processing_bucket_name)\n",
    "blob = batch_processing_bucket.blob(\"requests_keywords_jsonl.jsonl\")\n",
    "blob.upload_from_string(requests_jsonl)"
   ]
  },
  {
   "cell_type": "markdown",
   "id": "c761468d",
   "metadata": {},
   "source": [
    "Let's run the batch generation now..."
   ]
  },
  {
   "cell_type": "code",
   "execution_count": 44,
   "id": "ed845225",
   "metadata": {},
   "outputs": [
    {
     "name": "stdout",
     "output_type": "stream",
     "text": [
      "Job name: projects/1075834949123/locations/us-central1/batchPredictionJobs/2428993620104183808\n",
      "Job state: JobState.JOB_STATE_PENDING\n",
      "Job state: JobState.JOB_STATE_QUEUED\n",
      "Job state: JobState.JOB_STATE_RUNNING\n",
      "Job state: JobState.JOB_STATE_RUNNING\n",
      "Job state: JobState.JOB_STATE_RUNNING\n",
      "Job state: JobState.JOB_STATE_SUCCEEDED\n",
      "Job succeeded!\n"
     ]
    }
   ],
   "source": [
    "input_uri =  \"gs://gemini_batch_predicting_bucket/requests_keywords_jsonl.jsonl\"\n",
    "output_uri = \"gs://gemini_batch_predicting_bucket/request_responses/keywords\"\n",
    "\n",
    "MODEL_NAME = simple_tasks_model\n",
    "\n",
    "# Submit a batch prediction job with Gemini model\n",
    "batch_prediction_job = genai_client.batches.create(\n",
    "    model=MODEL_NAME,\n",
    "    src=input_uri,\n",
    "    config=types.CreateBatchJobConfig(dest=output_uri),\n",
    ")\n",
    "\n",
    "# Check job status\n",
    "print(f\"Job name: {batch_prediction_job.name}\")\n",
    "print(f\"Job state: {batch_prediction_job.state}\")\n",
    "\n",
    "completed_states = {\n",
    "    types.JobState.JOB_STATE_SUCCEEDED,\n",
    "    types.JobState.JOB_STATE_FAILED,\n",
    "    types.JobState.JOB_STATE_CANCELLED,\n",
    "    types.JobState.JOB_STATE_PAUSED,\n",
    "}\n",
    "\n",
    "# Refresh the job until complete\n",
    "while batch_prediction_job.state not in completed_states:\n",
    "    time.sleep(60)\n",
    "    batch_prediction_job = genai_client.batches.get(name=batch_prediction_job.name)\n",
    "    print(f\"Job state: {batch_prediction_job.state}\")\n",
    "\n",
    "# Check if the job succeeds\n",
    "if batch_prediction_job.state == types.JobState.JOB_STATE_SUCCEEDED:\n",
    "    print(\"Job succeeded!\")\n",
    "else:\n",
    "    print(f\"Job failed: {batch_prediction_job.error}\")"
   ]
  },
  {
   "cell_type": "code",
   "execution_count": 45,
   "id": "104270d2",
   "metadata": {},
   "outputs": [
    {
     "data": {
      "text/plain": [
       "BatchJob(\n",
       "  create_time=datetime.datetime(2025, 8, 24, 23, 38, 53, 726216, tzinfo=TzInfo(UTC)),\n",
       "  dest=BatchJobDestination(\n",
       "    format='jsonl',\n",
       "    gcs_uri='gs://gemini_batch_predicting_bucket/request_responses/keywords'\n",
       "  ),\n",
       "  display_name='genai_batch_job_20250824163853_548b8',\n",
       "  end_time=datetime.datetime(2025, 8, 24, 23, 43, 45, 139710, tzinfo=TzInfo(UTC)),\n",
       "  model='publishers/google/models/gemini-2.5-flash-lite',\n",
       "  name='projects/1075834949123/locations/us-central1/batchPredictionJobs/2428993620104183808',\n",
       "  src=BatchJobSource(\n",
       "    format='jsonl',\n",
       "    gcs_uri=[\n",
       "      'gs://gemini_batch_predicting_bucket/requests_keywords_jsonl.jsonl',\n",
       "    ]\n",
       "  ),\n",
       "  start_time=datetime.datetime(2025, 8, 24, 23, 40, 16, 71474, tzinfo=TzInfo(UTC)),\n",
       "  state=<JobState.JOB_STATE_SUCCEEDED: 'JOB_STATE_SUCCEEDED'>,\n",
       "  update_time=datetime.datetime(2025, 8, 24, 23, 43, 45, 139710, tzinfo=TzInfo(UTC))\n",
       ")"
      ]
     },
     "execution_count": 45,
     "metadata": {},
     "output_type": "execute_result"
    }
   ],
   "source": [
    "batch_prediction_job"
   ]
  },
  {
   "cell_type": "markdown",
   "id": "36231fe5",
   "metadata": {},
   "source": [
    "Let's retrieve the responses generated by Gemini."
   ]
  },
  {
   "cell_type": "code",
   "execution_count": 46,
   "id": "59b3f65b",
   "metadata": {},
   "outputs": [],
   "source": [
    "batch_prediction_blob_name = \"request_responses/keywords/prediction-model-2025-08-24T23:38:53.689380Z/predictions.jsonl\"\n",
    "batch_prediction_str = batch_processing_bucket.blob(batch_prediction_blob_name).download_as_bytes().decode('utf-8')\n",
    "\n",
    "responses = []\n",
    "for response in batch_prediction_str.split(\"\\n\"):\n",
    "    try:\n",
    "      responses.append(json.loads(response))\n",
    "    except:\n",
    "      responses.append(None)\n",
    "\n",
    "# remove the extra line\n",
    "responses = responses[:-1]"
   ]
  },
  {
   "cell_type": "code",
   "execution_count": 47,
   "id": "14462880",
   "metadata": {},
   "outputs": [
    {
     "name": "stdout",
     "output_type": "stream",
     "text": [
      "389 keywords collections have been generated ...\n"
     ]
    }
   ],
   "source": [
    "print(f\"{len(responses)} keywords collections have been generated ...\")"
   ]
  },
  {
   "cell_type": "markdown",
   "id": "1a094f40",
   "metadata": {},
   "source": [
    "Now we can update each page dictionary wit its associated keywords."
   ]
  },
  {
   "cell_type": "code",
   "execution_count": 48,
   "id": "89db5820",
   "metadata": {},
   "outputs": [],
   "source": [
    "responses_dict = {response['page_id']: response[\"response\"]['candidates'][0]['content']['parts'][0]['text'] for response in responses}"
   ]
  },
  {
   "cell_type": "code",
   "execution_count": 64,
   "id": "49df1bf7",
   "metadata": {},
   "outputs": [
    {
     "name": "stderr",
     "output_type": "stream",
     "text": [
      "100%|██████████| 389/389 [00:00<00:00, 389213.80it/s]\n"
     ]
    }
   ],
   "source": [
    "for page in tqdm.tqdm(all_conditions):\n",
    "    keywords = json.loads(responses_dict[page['unique_id']])\n",
    "    page.update(keywords)"
   ]
  },
  {
   "cell_type": "markdown",
   "id": "74fe5456",
   "metadata": {},
   "source": [
    "Let's have a look at a condition from all conditions."
   ]
  },
  {
   "cell_type": "code",
   "execution_count": 65,
   "id": "e92fa807",
   "metadata": {},
   "outputs": [
    {
     "data": {
      "text/plain": [
       "{'unique_id': '96154880-6cda-4e6d-84c0-7a50a38aa246',\n",
       " 'title': '22q11.2-Related Disorders',\n",
       " 'content': '# 22q11.2-Related Disorders\\n\\n\\n\\n\\n\\n## What are 22q11\\\\.2\\\\-related disorders?\\n\\n\\n\\n\\n22q11\\\\.2\\\\-related disorders are caused by differences in part of chromosome 22, called the q11\\\\.2 region. Chromosomes contain genes, which tell our cells how to work and what proteins to make. There are 23 pairs of chromosomes in each cell of the body.\\n\\n\\n22q11\\\\.2\\\\-related disorders happen in at least 1 in 1,000 newborns.\\n\\n\\nThe symptoms differ widely, even among members of the same family. There may be small differences in how your child’s eyelids, nose and ears look.\\n\\n\\nThese conditions are linked to many health issues. They can affect your child’s growth, feeding, breathing, speaking, hearing, learning and mental health. But most children with 22q11\\\\.2\\\\-related disorders only have problems in some of these areas.\\n\\n\\n\\n\\n\\n### What causes 22q11\\\\.2\\\\-related disorders?\\n\\n\\n\\n\\nThese disorders happen because of changes in the 22q11\\\\.2 part of chromosome 22\\\\. There may be extra genes, missing genes or genes in the wrong place.\\n\\n\\nYour child may:\\n\\n\\n* Be **missing** a small part of chromosome 22 (22q11\\\\.2 deletion syndrome).\\n* Have **extra** genes in the q11\\\\.2 part of chromosome 22 (22q11\\\\.2 duplication syndrome).\\n* Have changes\\xa0**near**\\xa0the q11\\\\.2 part of chromosome 22 (22q11\\\\.2 distal deletion disorder).\\n* Have genes from 22q11\\\\.2 switch places with genes on another chromosome (translocation).\\n* Have a 22q11\\\\.2\\\\-related disorder\\xa0**and**\\xa0another genetic syndrome.\\n\\n\\nWhether the genetic change is new or inherited varies:\\n\\n\\n* For 90% of children with 22q11\\\\.2 **deletion**, this is a new genetic change (not passed down from a parent).\\n* In 66% of children with 22q11\\\\.2 **duplication**, the genetic change is passed from a parent.\\n\\n\\nWhen people with 22q11\\\\.2 related disorders become parents, they have a 50% chance of passing the condition to their child.\\n\\n\\n\\n\\n\\n\\n### Other names for 22q11\\\\.2\\\\-related disorders\\n\\n\\n\\n\\nThere are many older names for these conditions. These names were used before it was known that all are a form of the same condition.\\n\\n\\nAll of these names have been replaced with “22q11\\\\.2\\\\-related disorders:”\\n\\n\\n* Velocardiofacial syndrome (VCFS)\\n* DiGeorge syndrome\\n* Shprintzen syndrome\\n* Conotruncal anomaly unusual face syndrome\\n* Cayler cardiofacial syndrome\\n* Catch 22 syndrome\\n\\n\\n\\n\\n\\n\\n\\n\\n\\n\\n\\n\\n---\\n\\n\\n[22q11\\\\.2\\\\-Related Disorders Care at Seattle Children\\'s](/clinics/craniofacial/services/22q-clinic/)\\n\\n\\nAt the 22q Clinic, a team experienced with these conditions will evaluate your child. We create a personalized care plan for your child and bring in other experts to meet your child’s specific needs.\\n\\n\\n\\n\\n---\\n\\n\\n## Symptoms of 22q11\\\\.2\\\\-Related Disorders\\n\\n\\nEvery child with a 22q11\\\\.2\\\\-related disorder is different.\\n\\n\\nSome children have facial differences, including:\\n\\n\\n* Eyelids that look hooded\\n* A nose that is tube\\\\-shaped\\n* Ears that are folded over more than normal at the edges\\n* A face that looks long, with flat cheeks\\n* A narrow mouth\\n\\n\\nThe 22q11\\\\.2\\\\-related disorders may cause problems with your child’s:\\n\\n\\n* Roof of the mouth (palate), including\\xa0[cleft palate](/conditions/cleft-lip-palate/ \"cleft palate\")\\n* Ears, nose or throat\\n* Heart\\n* Infection\\\\-fighting immune system\\n* Nervous system\\n* Kidneys\\n* Skeleton\\n* Hormone\\\\-producing endocrine system\\n\\n\\nThese differences may affect your child’s growth, feeding, breathing, speaking, hearing, learning or mental health.\\n\\n\\n\\n\\n\\n## Diagnosing 22q11\\\\.2\\\\-Related Disorders\\n\\n\\n\\n\\nSeattle Children’s has a [22q Clinic](/clinics/craniofacial/services/22q-clinic/ \"22q Clinic\") focused on diagnosing these conditions and helping families manage them.\\n\\n\\n\\n\\n\\n### Diagnosis before birth\\n\\n\\n\\n\\nThese conditions are sometimes diagnosed before birth. The tests use different samples:\\n\\n\\n* An expectant mother’s blood, which includes DNA from the placenta. Noninvasive prenatal screening (NIPS) can identify some conditions. But many mothers whose test shows a risk of 22q11\\\\.2 conditions will go on to have a healthy child. Further testing is needed to confirm the diagnosis.\\n* Amniotic fluid that surrounds and protects a baby in the womb (amniocentesis).\\n* Part of the placenta, through a test called chorionic villus sampling (CVS).\\n\\n\\nFurther tests on CVS or amniotic fluid samples may detect the specific 22q11\\\\.2 disorder. The 2 tests are FISH and chromosomal microarray analysis (CMA). Genetic testing may include doing a karyotype to make sure parts of the chromosomes have not switched places with one another.\\n\\n\\nThe tests can show if your baby has missing, extra or misplaced genes in the q11\\\\.2 area of chromosome 22\\\\. But they can not tell how much these genetic changes will affect your baby.\\n\\n\\nTo look for specific problems, your child may have a detailed ultrasound or fetal heart scan ([fetal echo](/clinics/heart/treatments-and-services/echocardiography/ \"fetal echo\")).\\n\\n\\n\\n\\n\\n\\n### Diagnosis after birth\\n\\n\\n\\n\\nYour doctor will check your child and look for the differences that are linked with 22q11\\\\.2\\\\-related disorders. Since the symptoms of the conditions differ from child to child, a careful exam is important.\\n\\n\\nYour doctor may recommend genetic tests to tell the type of 22q11\\\\.2 disorder your child has.\\n\\n\\nDoctors may order other tests or procedures to learn more about your child’s exact condition. For example, an ultrasound picture of their heart (echocardiogram) can show if they have any heart problems.\\n\\n\\n\\n\\n\\n\\n### Genetic counseling and testing\\n\\n\\n\\n\\nPhysicians and genetic counselors at our 22q Clinic will talk with you about the pros and cons of genetic testing and explain test results.\\n\\n\\nOur counselors also can give you information about your child’s condition. Counseling can help you make informed decisions about family planning and your child’s treatment.\\n\\n\\nOur genetic counselors also advise people with 22q11\\\\.2\\\\-related disorders about their chance of having a child with a similar condition. A person with the condition has a 50% chance in each pregnancy of passing it on to their child.\\n\\n\\n\\n\\n\\n\\n\\n\\n\\n\\n\\n\\n\\n## Treating 22q11\\\\.2\\\\-Related Disorders\\n\\n\\n\\n\\nThe effects of these conditions vary greatly from child to child. We create a personalized care plan based on your child\\'s specific needs.\\n\\n\\nBecause of the high rates of problems in the following areas, most children with 22q11\\\\.2\\\\-related disorders will need to see providers with special training in:\\n\\n\\n* [Audiology](/clinics/audiology/ \"Audiology\")\\n* [Genetic counseling](/clinics/genetics/genetic-counseling/ \"Genetic counseling\")\\n* [Neuropsychology](/clinics/neuropsychology/)\\n* [Immunology](/clinics/immunology/)\\n* [Nutrition](/clinics/nutrition/ \"Nutrition\")\\n* [Occupational Therapy](/clinics/occupational-therapy/)\\n* [Otolaryngology](/clinics/otolaryngology/ \"Otolaryngology\")\\n* [Psychiatry/Psychology](/clinics/psychiatry-and-behavioral-medicine/ \"Psychiatry\")\\n* [Social work](/clinics/social-work/ \"Social work\")\\n* [Speech and language pathology](/clinics/speech-and-language/ \"Speech and language pathology\")\\n\\n\\nThese providers are all part of our coordinated 22q Team Clinic.\\n\\n\\nDepending on their medical problems and test results, your child may also need to see other specialists at Seattle Children’s.\\n\\n\\n\\n\\n\\n### Feeding and growth\\n\\n\\n\\n\\nChildren with 22q11\\\\.2\\\\-related disorders may have a hard time feeding. This can be caused by problems with their mouth or throat:\\n\\n\\n* Not having enough tissue (“insufficient”) in the palate or throat ([velopharyngeal insufficiency](/conditions/vpd/ \"velopharyngeal insufficiency\"), VPI)\\n* A gap in the roof of the mouth ([cleft palate](/conditions/cleft-lip-palate/ \"cleft palate\"))\\n* A gap in the roof of the mouth that is covered by the lining of the mouth (submucous cleft palate)\\n\\n\\nOur [Feeding Management](/clinics/craniofacial/services/feeding-management/ \"Feeding Management\") team can help. A dietitian may advise you about your child\\'s diet.\\n\\n\\n* We can teach you ways to [feed your baby](/clinics/craniofacial/patient-family-resources/cleft-feeding-instructions/ \"feed your baby\") and recommend special bottles to use.\\n* If your baby is not able to get enough nutrition by bottle, they may need a tube from their nose to their stomach (NG tube). For most children, this is temporary and they are able to go back to feeding entirely by mouth after feeding therapy.\\n* If feeding problems are severe, your doctor may recommend placing a tube through your child’s belly (abdominal wall) into the stomach. This is called a gastrostomy tube or G\\\\-tube.\\n\\n\\n#### Palate repair\\n\\n\\nIf your child has problems with the roof of their mouth or throat, your surgeon will talk with you about repair.\\n\\n\\n* Repairing a gap in the roof of the mouth (cleft palate) usually happens when your child is about 1 year old. See [Cleft Palate Treatments](/conditions/cleft-lip-palate/#treating \"Cleft Palate Treatments\").\\n* Other problems with the mouth or throat, such as [velopharyngeal dysfunction](/conditions/vpd/ \"velopharyngeal dysfunction\") (VPD), are treated when your child is older than 1 year.\\n\\n\\n#### Growth\\n\\n\\nWe will check regularly to make sure your child is growing well.\\n\\n\\n* Children with 22q11\\\\.2 **deletion** syndrome often have a different and slower pattern of growth than other children. We compare your child to growth charts specific to 22q11\\\\.2 deletion syndrome.\\n* Usually, children with 22q11\\\\.2 **duplication**\\xa0are bigger than average.\\n\\n\\n\\n\\n\\n\\n### Hearing\\n\\n\\n\\n\\nYour doctor will check your child\\'s ear health and hearing regularly.\\n\\n\\n* Most often your baby’s hearing is tested soon after birth or within a few days.\\n* If there are concerns, we do more tests. A specialist trained to test hearing in babies and children (audiologist) will do the testing.\\n* Some children have hearing loss. It may be caused by fluid behind the eardrums or by problems with the nerve pathways from the inner ear to the brain. The treatments for these types of hearing loss are different.\\n* Your doctor will determine if your child has hearing loss and will talk with you about treatment.\\n\\n\\n\\n\\n\\n\\n### Speech\\n\\n\\n\\n\\nIn some children, differences in the mouth or throat cause problems with speech.\\n\\n\\nBy age 2, a speech and language pathologist (SLP) will regularly check your child’s ability to make speech sounds. Our team will continue to check your child’s speech as they grow.\\n\\n\\nSome children have a condition called [velopharyngeal dysfunction](/conditions/vpd/ \"velopharyngeal dysfunction\") (VPD), which makes it hard for them to make speech sounds correctly. VPD may develop over time in a child who had a cleft palate repaired.\\n\\n\\nDepending on your child’s needs, we may recommend:\\n\\n\\n* A custom\\\\-made speech appliance called an obturator.\\n* Surgery on the roof of the mouth or throat. Your surgeon and speech pathologist will work together to recommend what is best for your child.\\n* Speech therapy to develop correct speech sounds.\\n\\n\\n\\n\\n\\n\\n### Heart\\n\\n\\n\\n\\nProblems in the heart are common in children with 22q11\\\\.2\\\\-related disorders. The problem could be mild, like an unusual sound heard during a heartbeat (heart murmur). Sometimes it is serious enough to affect how the heart works.\\n\\n\\nIf your child is healthy and growing well, it is not likely that they have a major heart problem. To check, your child’s doctor will order an ultrasound picture of your child’s heart (echocardiogram).\\n\\n\\nIf problems are found, your child will see a heart specialist (cardiologist) for care as needed. [Learn more about Children’s Heart Center](/clinics/heart/why-choose-us/ \"Learn more about Children’s Heart Center\").\\n\\n\\n\\n\\n\\n\\n### Immune system\\n\\n\\n\\n\\nMany children with 22q11\\\\.2\\\\-related disorders have problems with their immune system, which helps protect their body from sickness.\\n\\n\\nWe will check the number of infection\\\\-fighting white cells in your child’s blood. We may send your child to a doctor who specializes in the immune system (immunologist).\\n\\n\\nIf your child’s immune system does not work well, they may:\\n\\n\\n* Be more likely to get infections. We will watch for signs of an infection and treat it quickly. Rarely, children need to take antibiotics or other treatments to prevent infection.\\n* Need extra doses of vaccines to build enough protection against disease.\\n* Need to avoid some vaccines with live viruses because their body is less able to fight infection.\\n\\n\\n[Learn more about Children’s Immunology program](/clinics/immunology/ \"Learn more about Children’s Immunology program\").\\n\\n\\n\\n\\n\\n\\n### Kidneys\\n\\n\\n\\n\\nSome children with 22q11\\\\.2\\\\-related disorders have kidney problems. We may recommend that your child have a kidney (renal) ultrasound.\\n\\n\\nWe are looking to make sure that the kidneys formed normally. If your child has a normal ultrasound, they will not need another one.\\n\\n\\nIf there is a problem, your child will see a kidney specialist (nephrologist).\\n\\n\\n[Learn more about Children’s Nephrology program](/clinics/nephrology/ \"Learn more about Children’s Nephrology program\").\\n\\n\\n\\n\\n\\n\\n### Low calcium levels in blood\\n\\n\\n\\n\\nSome children with 22q\\\\-related disorders have problems with low calcium levels. If calcium is too low it can cause seizures.\\n\\n\\nWe will do a blood test to check the calcium level. Your doctor may decide your child needs to take a calcium supplement or see an [endocrinologist](/clinics/endocrinology/).\\n\\n\\n\\n\\n\\n\\n### Development and learning\\n\\n\\n\\n\\nMany children with 22q11\\\\.2\\\\-related disorders have differences in how they learn and process information. Some children will have normal intelligence, and some will have intelligence that is below normal.\\n\\n\\nYour child’s care team will make sure their learning style is tested. This helps us better understand how they process information. We will help your child’s school know the best ways to support your child’s learning.\\n\\n\\nSome children with 22q11\\\\.2\\\\-related disorders will have trouble learning because of attention deficit hyperactivity disorder (ADHD), anxiety or autism spectrum disorder. If your child develops any of these problems, a specialist will evaluate your child and suggest treatment to help them start school ready to learn. We will also work with you to find resources in your community if needed.\\n\\n\\n\\n\\n\\n\\n### Behavior and mental health\\n\\n\\n\\n\\n22q11\\\\.2\\\\-related disorders increase the risk of problems with behavior and mental health. These include:\\n\\n\\n* Attention deficit hyperactivity disorder (ADHD)\\n* Autism spectrum disorder\\n* Anxiety\\n* Depression\\n* Bipolar disorder\\n\\n\\nMany problems can be managed well if they are found early and treated by a doctor familiar with 22q11\\\\.2\\\\-related disorders.\\n\\n\\n* Patients with 22q\\\\-related disorders have an increased risk of autism spectrum disorder and other problems affecting the brain and central nervous system (neurodevelopmental).\\n* Children with 22q\\\\-related disorders are also at risk for other psychiatric conditions, such as schizophrenia \\xa0and anxiety.\\n\\n\\nVarious types of mental health issues begin at different times. We will regularly check your child’s behavior, mood and coping. Your healthcare team will ask about your child’s behavior at home and school.\\n\\n\\nIf there are concerns, a psychiatrist or neurodevelopmental specialist will evaluate your child and recommend treatment. Your craniofacial pediatrician and social worker will work with you to find resources in your community if needed.\\n\\n\\n\\n\\n\\n\\n\\n\\n\\n\\n\\n\\n\\n## 22q11\\\\.2\\\\-Related Disorders at Seattle Children\\'s\\n\\n\\n\\n\\nMany families have never heard of these conditions before their child’s diagnosis. Seattle Children’s has a [clinic](/clinics/craniofacial/services/22q-clinic/ \"clinic\") focused on caring for children with 22q11\\\\.2\\\\-related disorders.\\n\\n\\nMany of the babies and children we see are newly diagnosed. We also work with expectant parents who are worried about the results of tests during pregnancy.\\n\\n\\nPlease call the Craniofacial Center at [206\\\\-987\\\\-0339](tel:206-987-0339) for more information, a second opinion or to make an appointment.\\n\\n\\n\\n\\n\\n### A clinic focused on your child’s condition\\n\\n\\n\\n\\nOur [22q Clinic](/clinics/craniofacial/services/22q-clinic/ \"22q Clinic\") is the only multidisciplinary clinic for children with 22q11\\\\.2\\\\-related disorders in the 5\\\\-state region that includes Washington, Alaska, Montana, Idaho and Wyoming. Our clinic team has been diagnosing these conditions and helping families care for their children since 2006\\\\.\\n\\n\\nOur doctors are experienced in treating the problems caused by these conditions.\\n\\n\\n\\n\\n\\n\\n### Specialists to cover your child\\'s needs\\n\\n\\n\\n\\nThe 22q Clinic is part of Seattle Children’s [Craniofacial Center](/clinics/craniofacial/ \"Craniofacial Center\"). Our 50 specialists in 19 different fields meet weekly to discuss children with complex needs and decide on the best care plan for each child.\\n\\n\\nA craniofacial pediatrician, medical geneticist, genetic counselor, nurse, family service coordinator and social worker will work closely with your family. They manage your child’s care and make sure all your questions are answered.\\n\\n\\n[Our 22q Clinic](/clinics/craniofacial/services/22q-clinic/ \"Our 22q Clinic\") can easily form a team with the right experts to care for your child’s specific needs. These may include an audiologist; dietitian; ear, nose and throat specialist (otolaryngologist); feeding therapist; psychiatrist; and speech and language pathologist (SLP). They create a personalized plan of care for your child.\\n\\n\\nIf needed, your child will see experts in other departments at Seattle Children’s, for problems affecting their [heart](/clinics/heart/ \"heart\"), [mental health](/clinics/psychiatry-and-behavioral-medicine/ \"mental health\"), [hormones](/clinics/endocrinology/ \"hormones\"), [nervous system](/clinics/neurosciences/ \"nervous system\"), [stomach and intestines](/clinics/gastroenterology-hepatology/ \"stomach and intestines\"), [bones](/clinics/orthopedics/ \"bones\"), [kidneys](/clinics/nephrology/ \"kidneys\") and [infection\\\\-fighting immune system](/clinics/immunology/ \"infection-fighting immune system\"). We work together, and with you and your family’s doctor, to care for your child.\\n\\n\\n\\n\\n\\n\\n### We support your whole family\\n\\n\\n\\n\\nA diagnosis of a 22q11\\\\.2\\\\-related disorder can be scary. We take time to explain your child’s condition. We help you fully understand your treatment options and make choices that are right for your family.\\n\\n\\nOur child life specialists and social workers support your child and family through the challenges of their condition. We help you find [community resources and support groups](/clinics/craniofacial/patient-family-resources/ \"community resources and support groups\").\\n\\n\\nAs your child gets older, we include them in decisions about their medical care. Your family has a [full team](/clinics/craniofacial/meet-your-team/ \"full team\") behind you, including specialists in nutrition, physical therapy and speech therapy. Read more about the [supportive care we offer](/clinics/craniofacial/services/supportive-care/ \"supportive care we offer\").\\n\\n\\nSeattle Children’s provides craniofacial care for children in an area one\\\\-fourth the size of the continental U.S. We also treat children from across the globe. This has helped us develop systems to provide outstanding, personalized care at great distance.\\n\\n\\n\\n\\n\\n\\n\\n\\n\\n\\n\\n\\n\\n\\n\\n\\n\\n\\n## Contact Us\\n\\n\\nContact the [Craniofacial Center](/clinics/craniofacial/contact-locations/ \"Craniofacial Center\") at\\xa0[206\\\\-987\\\\-2208](tel:206-987-2208) for an appointment, a second opinion or more information.\\n\\n\\nProviders, see [how to refer a patient](/clinics/craniofacial/refer-a-patient/ \"how to refer a patient\").\\n\\n\\n\\n\\n\\n\\n\\n',\n",
       " 'copyright': 'Copyright not found',\n",
       " 'chunks': [{'id': 0,\n",
       "   'unique_id': '135a5878-c42f-4142-8790-2824114791d2',\n",
       "   'content': '# 22q11.2-Related Disorders\\n',\n",
       "   'parent_id': None,\n",
       "   'parent_unique_id': None,\n",
       "   'url_links': [],\n",
       "   'is_root': True,\n",
       "   'kind': 'chunk'},\n",
       "  {'id': 1,\n",
       "   'unique_id': 'ad46fbaa-3266-4935-a741-966763253cfc',\n",
       "   'content': '## What are 22q11\\\\.2\\\\-related disorders?\\n\\n22q11\\\\.2\\\\-related disorders are caused by differences in part of chromosome 22, called the q11\\\\.2 region. Chromosomes contain genes, which tell our cells how to work and what proteins to make. There are 23 pairs of chromosomes in each cell of the body.\\n22q11\\\\.2\\\\-related disorders happen in at least 1 in 1,000 newborns.\\nThe symptoms differ widely, even among members of the same family. There may be small differences in how your child’s eyelids, nose and ears look.\\nThese conditions are linked to many health issues. They can affect your child’s growth, feeding, breathing, speaking, hearing, learning and mental health. But most children with 22q11\\\\.2\\\\-related disorders only have problems in some of these areas.',\n",
       "   'parent_id': 0,\n",
       "   'parent_unique_id': '135a5878-c42f-4142-8790-2824114791d2',\n",
       "   'url_links': ['https://www.seattlechildrens.org/clinics/psychiatry-and-behavioral-medicine/'],\n",
       "   'is_root': False,\n",
       "   'kind': 'chunk'},\n",
       "  {'id': 2,\n",
       "   'unique_id': 'b6d04c8f-17b1-4578-95c0-61abe943c6af',\n",
       "   'content': '### What causes 22q11\\\\.2\\\\-related disorders?\\n\\nThese disorders happen because of changes in the 22q11\\\\.2 part of chromosome 22\\\\. There may be extra genes, missing genes or genes in the wrong place.\\nYour child may:\\n* Be **missing** a small part of chromosome 22 (22q11\\\\.2 deletion syndrome).\\n* Have **extra** genes in the q11\\\\.2 part of chromosome 22 (22q11\\\\.2 duplication syndrome).\\n* Have changes\\xa0**near**\\xa0the q11\\\\.2 part of chromosome 22 (22q11\\\\.2 distal deletion disorder).\\n* Have genes from 22q11\\\\.2 switch places with genes on another chromosome (translocation).\\n* Have a 22q11\\\\.2\\\\-related disorder\\xa0**and**\\xa0another genetic syndrome.\\nWhether the genetic change is new or inherited varies:\\n* For 90% of children with 22q11\\\\.2 **deletion**, this is a new genetic change (not passed down from a parent).\\n* In 66% of children with 22q11\\\\.2 **duplication**, the genetic change is passed from a parent.\\nWhen people with 22q11\\\\.2 related disorders become parents, they have a 50% chance of passing the condition to their child.',\n",
       "   'parent_id': 1,\n",
       "   'parent_unique_id': 'ad46fbaa-3266-4935-a741-966763253cfc',\n",
       "   'url_links': [],\n",
       "   'is_root': False,\n",
       "   'kind': 'chunk'},\n",
       "  {'id': 3,\n",
       "   'unique_id': '2cf00b97-351d-49ad-8eb5-db2d68d3a312',\n",
       "   'content': \"### Other names for 22q11\\\\.2\\\\-related disorders\\n\\nThere are many older names for these conditions. These names were used before it was known that all are a form of the same condition.\\nAll of these names have been replaced with “22q11\\\\.2\\\\-related disorders:”\\n* Velocardiofacial syndrome (VCFS)\\n* DiGeorge syndrome\\n* Shprintzen syndrome\\n* Conotruncal anomaly unusual face syndrome\\n* Cayler cardiofacial syndrome\\n* Catch 22 syndrome\\n---\\n[22q11\\\\.2\\\\-Related Disorders Care at Seattle Children's](/clinics/craniofacial/services/22q-clinic/)\\nAt the 22q Clinic, a team experienced with these conditions will evaluate your child. We create a personalized care plan for your child and bring in other experts to meet your child’s specific needs.\\n---\",\n",
       "   'parent_id': 1,\n",
       "   'parent_unique_id': 'ad46fbaa-3266-4935-a741-966763253cfc',\n",
       "   'url_links': ['https://www.seattlechildrens.org/clinics/craniofacial/services/22q-clinic/'],\n",
       "   'is_root': False,\n",
       "   'kind': 'chunk'},\n",
       "  {'id': 4,\n",
       "   'unique_id': '2098f3d0-46c2-4b8f-8a4a-808a334fd889',\n",
       "   'content': '## Symptoms of 22q11\\\\.2\\\\-Related Disorders\\n\\nEvery child with a 22q11\\\\.2\\\\-related disorder is different.\\nSome children have facial differences, including:\\n* Eyelids that look hooded\\n* A nose that is tube\\\\-shaped\\n* Ears that are folded over more than normal at the edges\\n* A face that looks long, with flat cheeks\\n* A narrow mouth\\nThe 22q11\\\\.2\\\\-related disorders may cause problems with your child’s:\\n* Roof of the mouth (palate), including\\xa0[cleft palate](/conditions/cleft-lip-palate/ \"cleft palate\")\\n* Ears, nose or throat\\n* Heart\\n* Infection\\\\-fighting immune system\\n* Nervous system\\n* Kidneys\\n* Skeleton\\n* Hormone\\\\-producing endocrine system\\nThese differences may affect your child’s growth, feeding, breathing, speaking, hearing, learning or mental health.',\n",
       "   'parent_id': 0,\n",
       "   'parent_unique_id': '135a5878-c42f-4142-8790-2824114791d2',\n",
       "   'url_links': ['https://www.seattlechildrens.org/clinics/psychiatry-and-behavioral-medicine/',\n",
       "    'https://www.seattlechildrens.org/conditions/cleft-lip-palate/'],\n",
       "   'is_root': False,\n",
       "   'kind': 'chunk'},\n",
       "  {'id': 5,\n",
       "   'unique_id': 'ae433cdf-fcc4-4221-807d-bdbe68554ede',\n",
       "   'content': '## Diagnosing 22q11\\\\.2\\\\-Related Disorders\\n\\nSeattle Children’s has a [22q Clinic](/clinics/craniofacial/services/22q-clinic/ \"22q Clinic\") focused on diagnosing these conditions and helping families manage them.',\n",
       "   'parent_id': 0,\n",
       "   'parent_unique_id': '135a5878-c42f-4142-8790-2824114791d2',\n",
       "   'url_links': ['https://www.seattlechildrens.org/clinics/craniofacial/services/22q-clinic/'],\n",
       "   'is_root': False,\n",
       "   'kind': 'chunk'},\n",
       "  {'id': 6,\n",
       "   'unique_id': '667ff8d8-22e9-4a91-af22-06020b9e03c9',\n",
       "   'content': '### Diagnosis before birth\\n\\nThese conditions are sometimes diagnosed before birth. The tests use different samples:\\n* An expectant mother’s blood, which includes DNA from the placenta. Noninvasive prenatal screening (NIPS) can identify some conditions. But many mothers whose test shows a risk of 22q11\\\\.2 conditions will go on to have a healthy child. Further testing is needed to confirm the diagnosis.\\n* Amniotic fluid that surrounds and protects a baby in the womb (amniocentesis).\\n* Part of the placenta, through a test called chorionic villus sampling (CVS).\\nFurther tests on CVS or amniotic fluid samples may detect the specific 22q11\\\\.2 disorder. The 2 tests are FISH and chromosomal microarray analysis (CMA). Genetic testing may include doing a karyotype to make sure parts of the chromosomes have not switched places with one another.\\nThe tests can show if your baby has missing, extra or misplaced genes in the q11\\\\.2 area of chromosome 22\\\\. But they can not tell how much these genetic changes will affect your baby.\\nTo look for specific problems, your child may have a detailed ultrasound or fetal heart scan ([fetal echo](/clinics/heart/treatments-and-services/echocardiography/ \"fetal echo\")).',\n",
       "   'parent_id': 5,\n",
       "   'parent_unique_id': 'ae433cdf-fcc4-4221-807d-bdbe68554ede',\n",
       "   'url_links': ['https://www.seattlechildrens.org/clinics/heart/',\n",
       "    'https://www.seattlechildrens.org/clinics/heart/treatments-and-services/echocardiography/',\n",
       "    'https://www.seattlechildrens.org/clinics/craniofacial/services/22q-clinic/'],\n",
       "   'is_root': False,\n",
       "   'kind': 'chunk'},\n",
       "  {'id': 7,\n",
       "   'unique_id': 'a9136806-11d7-4a9b-97b2-42f6c125c4f1',\n",
       "   'content': '### Diagnosis after birth\\n\\nYour doctor will check your child and look for the differences that are linked with 22q11\\\\.2\\\\-related disorders. Since the symptoms of the conditions differ from child to child, a careful exam is important.\\nYour doctor may recommend genetic tests to tell the type of 22q11\\\\.2 disorder your child has.\\nDoctors may order other tests or procedures to learn more about your child’s exact condition. For example, an ultrasound picture of their heart (echocardiogram) can show if they have any heart problems.',\n",
       "   'parent_id': 5,\n",
       "   'parent_unique_id': 'ae433cdf-fcc4-4221-807d-bdbe68554ede',\n",
       "   'url_links': ['https://www.seattlechildrens.org/clinics/heart/'],\n",
       "   'is_root': False,\n",
       "   'kind': 'chunk'},\n",
       "  {'id': 8,\n",
       "   'unique_id': '6eaa1291-1301-44f2-9432-e61ae5a5258f',\n",
       "   'content': '### Genetic counseling and testing\\n\\nPhysicians and genetic counselors at our 22q Clinic will talk with you about the pros and cons of genetic testing and explain test results.\\nOur counselors also can give you information about your child’s condition. Counseling can help you make informed decisions about family planning and your child’s treatment.\\nOur genetic counselors also advise people with 22q11\\\\.2\\\\-related disorders about their chance of having a child with a similar condition. A person with the condition has a 50% chance in each pregnancy of passing it on to their child.',\n",
       "   'parent_id': 5,\n",
       "   'parent_unique_id': 'ae433cdf-fcc4-4221-807d-bdbe68554ede',\n",
       "   'url_links': ['https://www.seattlechildrens.org/clinics/genetics/genetic-counseling/',\n",
       "    'https://www.seattlechildrens.org/clinics/craniofacial/services/22q-clinic/'],\n",
       "   'is_root': False,\n",
       "   'kind': 'chunk'},\n",
       "  {'id': 9,\n",
       "   'unique_id': '68c7255b-ffcc-4b3b-bbce-70856ff33110',\n",
       "   'content': '## Treating 22q11\\\\.2\\\\-Related Disorders\\n\\nThe effects of these conditions vary greatly from child to child. We create a personalized care plan based on your child\\'s specific needs.\\nBecause of the high rates of problems in the following areas, most children with 22q11\\\\.2\\\\-related disorders will need to see providers with special training in:\\n* [Audiology](/clinics/audiology/ \"Audiology\")\\n* [Genetic counseling](/clinics/genetics/genetic-counseling/ \"Genetic counseling\")\\n* [Neuropsychology](/clinics/neuropsychology/)\\n* [Immunology](/clinics/immunology/)\\n* [Nutrition](/clinics/nutrition/ \"Nutrition\")\\n* [Occupational Therapy](/clinics/occupational-therapy/)\\n* [Otolaryngology](/clinics/otolaryngology/ \"Otolaryngology\")\\n* [Psychiatry/Psychology](/clinics/psychiatry-and-behavioral-medicine/ \"Psychiatry\")\\n* [Social work](/clinics/social-work/ \"Social work\")\\n* [Speech and language pathology](/clinics/speech-and-language/ \"Speech and language pathology\")\\nThese providers are all part of our coordinated 22q Team Clinic.\\nDepending on their medical problems and test results, your child may also need to see other specialists at Seattle Children’s.',\n",
       "   'parent_id': 0,\n",
       "   'parent_unique_id': '135a5878-c42f-4142-8790-2824114791d2',\n",
       "   'url_links': ['https://www.seattlechildrens.org/clinics/nutrition/',\n",
       "    'https://www.seattlechildrens.org/clinics/social-work/',\n",
       "    'https://www.seattlechildrens.org/clinics/otolaryngology/',\n",
       "    'https://www.seattlechildrens.org/clinics/psychiatry-and-behavioral-medicine/',\n",
       "    'https://www.seattlechildrens.org/clinics/speech-and-language/',\n",
       "    'https://www.seattlechildrens.org/clinics/craniofacial/services/22q-clinic/',\n",
       "    'https://www.seattlechildrens.org/clinics/audiology/',\n",
       "    'https://www.seattlechildrens.org/clinics/occupational-therapy/',\n",
       "    'https://www.seattlechildrens.org/clinics/genetics/genetic-counseling/',\n",
       "    'https://www.seattlechildrens.org/clinics/immunology/',\n",
       "    'https://www.seattlechildrens.org/clinics/neuropsychology/'],\n",
       "   'is_root': False,\n",
       "   'kind': 'chunk'},\n",
       "  {'id': 10,\n",
       "   'unique_id': 'b89a7e28-04c4-4c55-99be-574fd7d75290',\n",
       "   'content': '### Feeding and growth\\n\\nChildren with 22q11\\\\.2\\\\-related disorders may have a hard time feeding. This can be caused by problems with their mouth or throat:\\n* Not having enough tissue (“insufficient”) in the palate or throat ([velopharyngeal insufficiency](/conditions/vpd/ \"velopharyngeal insufficiency\"), VPI)\\n* A gap in the roof of the mouth ([cleft palate](/conditions/cleft-lip-palate/ \"cleft palate\"))\\n* A gap in the roof of the mouth that is covered by the lining of the mouth (submucous cleft palate)\\nOur [Feeding Management](/clinics/craniofacial/services/feeding-management/ \"Feeding Management\") team can help. A dietitian may advise you about your child\\'s diet.\\n* We can teach you ways to [feed your baby](/clinics/craniofacial/patient-family-resources/cleft-feeding-instructions/ \"feed your baby\") and recommend special bottles to use.\\n* If your baby is not able to get enough nutrition by bottle, they may need a tube from their nose to their stomach (NG tube). For most children, this is temporary and they are able to go back to feeding entirely by mouth after feeding therapy.\\n* If feeding problems are severe, your doctor may recommend placing a tube through your child’s belly (abdominal wall) into the stomach. This is called a gastrostomy tube or G\\\\-tube.',\n",
       "   'parent_id': 9,\n",
       "   'parent_unique_id': '68c7255b-ffcc-4b3b-bbce-70856ff33110',\n",
       "   'url_links': ['https://www.seattlechildrens.org/clinics/craniofacial/services/feeding-management/',\n",
       "    'https://www.seattlechildrens.org/clinics/craniofacial/patient-family-resources/cleft-feeding-instructions/',\n",
       "    'https://www.seattlechildrens.org/conditions/cleft-lip-palate/',\n",
       "    'https://www.seattlechildrens.org/conditions/vpd/',\n",
       "    'https://www.seattlechildrens.org/clinics/craniofacial/services/22q-clinic/'],\n",
       "   'is_root': False,\n",
       "   'kind': 'chunk'},\n",
       "  {'id': 11,\n",
       "   'unique_id': '145ad8e4-5516-4022-844c-c18e1843eb27',\n",
       "   'content': '#### Palate repair\\n\\nIf your child has problems with the roof of their mouth or throat, your surgeon will talk with you about repair.\\n* Repairing a gap in the roof of the mouth (cleft palate) usually happens when your child is about 1 year old. See [Cleft Palate Treatments](/conditions/cleft-lip-palate/#treating \"Cleft Palate Treatments\").\\n* Other problems with the mouth or throat, such as [velopharyngeal dysfunction](/conditions/vpd/ \"velopharyngeal dysfunction\") (VPD), are treated when your child is older than 1 year.',\n",
       "   'parent_id': 10,\n",
       "   'parent_unique_id': 'b89a7e28-04c4-4c55-99be-574fd7d75290',\n",
       "   'url_links': ['https://www.seattlechildrens.org/conditions/cleft-lip-palate/#treating',\n",
       "    'https://www.seattlechildrens.org/conditions/vpd/',\n",
       "    'https://www.seattlechildrens.org/conditions/cleft-lip-palate/'],\n",
       "   'is_root': False,\n",
       "   'kind': 'chunk'},\n",
       "  {'id': 12,\n",
       "   'unique_id': '64dbe4cb-03cf-4e44-9252-5c5a5aaa02f8',\n",
       "   'content': '#### Growth\\n\\nWe will check regularly to make sure your child is growing well.\\n* Children with 22q11\\\\.2 **deletion** syndrome often have a different and slower pattern of growth than other children. We compare your child to growth charts specific to 22q11\\\\.2 deletion syndrome.\\n* Usually, children with 22q11\\\\.2 **duplication**\\xa0are bigger than average.',\n",
       "   'parent_id': 10,\n",
       "   'parent_unique_id': 'b89a7e28-04c4-4c55-99be-574fd7d75290',\n",
       "   'url_links': [],\n",
       "   'is_root': False,\n",
       "   'kind': 'chunk'},\n",
       "  {'id': 13,\n",
       "   'unique_id': '407bd46a-2238-4103-b2e7-f7e943973a33',\n",
       "   'content': \"### Hearing\\n\\nYour doctor will check your child's ear health and hearing regularly.\\n* Most often your baby’s hearing is tested soon after birth or within a few days.\\n* If there are concerns, we do more tests. A specialist trained to test hearing in babies and children (audiologist) will do the testing.\\n* Some children have hearing loss. It may be caused by fluid behind the eardrums or by problems with the nerve pathways from the inner ear to the brain. The treatments for these types of hearing loss are different.\\n* Your doctor will determine if your child has hearing loss and will talk with you about treatment.\",\n",
       "   'parent_id': 9,\n",
       "   'parent_unique_id': '68c7255b-ffcc-4b3b-bbce-70856ff33110',\n",
       "   'url_links': [],\n",
       "   'is_root': False,\n",
       "   'kind': 'chunk'},\n",
       "  {'id': 14,\n",
       "   'unique_id': '743fcb89-53fc-49c3-90a2-2510f1f9386e',\n",
       "   'content': '### Speech\\n\\nIn some children, differences in the mouth or throat cause problems with speech.\\nBy age 2, a speech and language pathologist (SLP) will regularly check your child’s ability to make speech sounds. Our team will continue to check your child’s speech as they grow.\\nSome children have a condition called [velopharyngeal dysfunction](/conditions/vpd/ \"velopharyngeal dysfunction\") (VPD), which makes it hard for them to make speech sounds correctly. VPD may develop over time in a child who had a cleft palate repaired.\\nDepending on your child’s needs, we may recommend:\\n* A custom\\\\-made speech appliance called an obturator.\\n* Surgery on the roof of the mouth or throat. Your surgeon and speech pathologist will work together to recommend what is best for your child.\\n* Speech therapy to develop correct speech sounds.',\n",
       "   'parent_id': 9,\n",
       "   'parent_unique_id': '68c7255b-ffcc-4b3b-bbce-70856ff33110',\n",
       "   'url_links': ['https://www.seattlechildrens.org/conditions/vpd/',\n",
       "    'https://www.seattlechildrens.org/conditions/cleft-lip-palate/'],\n",
       "   'is_root': False,\n",
       "   'kind': 'chunk'},\n",
       "  {'id': 15,\n",
       "   'unique_id': '1c316b72-1ad6-4400-b645-66df303b90ee',\n",
       "   'content': '### Heart\\n\\nProblems in the heart are common in children with 22q11\\\\.2\\\\-related disorders. The problem could be mild, like an unusual sound heard during a heartbeat (heart murmur). Sometimes it is serious enough to affect how the heart works.\\nIf your child is healthy and growing well, it is not likely that they have a major heart problem. To check, your child’s doctor will order an ultrasound picture of your child’s heart (echocardiogram).\\nIf problems are found, your child will see a heart specialist (cardiologist) for care as needed. [Learn more about Children’s Heart Center](/clinics/heart/why-choose-us/ \"Learn more about Children’s Heart Center\").',\n",
       "   'parent_id': 9,\n",
       "   'parent_unique_id': '68c7255b-ffcc-4b3b-bbce-70856ff33110',\n",
       "   'url_links': ['https://www.seattlechildrens.org/clinics/heart/',\n",
       "    'https://www.seattlechildrens.org/clinics/heart/why-choose-us/',\n",
       "    'https://www.seattlechildrens.org/clinics/craniofacial/services/22q-clinic/'],\n",
       "   'is_root': False,\n",
       "   'kind': 'chunk'},\n",
       "  {'id': 16,\n",
       "   'unique_id': 'addd9b50-ceee-429b-ba3a-3064f4a2a9b7',\n",
       "   'content': '### Immune system\\n\\nMany children with 22q11\\\\.2\\\\-related disorders have problems with their immune system, which helps protect their body from sickness.\\nWe will check the number of infection\\\\-fighting white cells in your child’s blood. We may send your child to a doctor who specializes in the immune system (immunologist).\\nIf your child’s immune system does not work well, they may:\\n* Be more likely to get infections. We will watch for signs of an infection and treat it quickly. Rarely, children need to take antibiotics or other treatments to prevent infection.\\n* Need extra doses of vaccines to build enough protection against disease.\\n* Need to avoid some vaccines with live viruses because their body is less able to fight infection.\\n[Learn more about Children’s Immunology program](/clinics/immunology/ \"Learn more about Children’s Immunology program\").',\n",
       "   'parent_id': 9,\n",
       "   'parent_unique_id': '68c7255b-ffcc-4b3b-bbce-70856ff33110',\n",
       "   'url_links': ['https://www.seattlechildrens.org/clinics/immunology/',\n",
       "    'https://www.seattlechildrens.org/clinics/craniofacial/services/22q-clinic/'],\n",
       "   'is_root': False,\n",
       "   'kind': 'chunk'},\n",
       "  {'id': 17,\n",
       "   'unique_id': 'c5cf1f5a-8134-4344-814e-039c3b0f4302',\n",
       "   'content': '### Kidneys\\n\\nSome children with 22q11\\\\.2\\\\-related disorders have kidney problems. We may recommend that your child have a kidney (renal) ultrasound.\\nWe are looking to make sure that the kidneys formed normally. If your child has a normal ultrasound, they will not need another one.\\nIf there is a problem, your child will see a kidney specialist (nephrologist).\\n[Learn more about Children’s Nephrology program](/clinics/nephrology/ \"Learn more about Children’s Nephrology program\").',\n",
       "   'parent_id': 9,\n",
       "   'parent_unique_id': '68c7255b-ffcc-4b3b-bbce-70856ff33110',\n",
       "   'url_links': ['https://www.seattlechildrens.org/clinics/craniofacial/services/22q-clinic/',\n",
       "    'https://www.seattlechildrens.org/clinics/nephrology/'],\n",
       "   'is_root': False,\n",
       "   'kind': 'chunk'},\n",
       "  {'id': 18,\n",
       "   'unique_id': '784ffcec-bd91-4f36-819e-b88c8cbeb1d2',\n",
       "   'content': '### Low calcium levels in blood\\n\\nSome children with 22q\\\\-related disorders have problems with low calcium levels. If calcium is too low it can cause seizures.\\nWe will do a blood test to check the calcium level. Your doctor may decide your child needs to take a calcium supplement or see an [endocrinologist](/clinics/endocrinology/).',\n",
       "   'parent_id': 9,\n",
       "   'parent_unique_id': '68c7255b-ffcc-4b3b-bbce-70856ff33110',\n",
       "   'url_links': ['https://www.seattlechildrens.org/clinics/endocrinology/',\n",
       "    'https://www.seattlechildrens.org/clinics/craniofacial/services/22q-clinic/'],\n",
       "   'is_root': False,\n",
       "   'kind': 'chunk'},\n",
       "  {'id': 19,\n",
       "   'unique_id': 'c5295655-d73f-43e4-a11a-f237148b3386',\n",
       "   'content': '### Development and learning\\n\\nMany children with 22q11\\\\.2\\\\-related disorders have differences in how they learn and process information. Some children will have normal intelligence, and some will have intelligence that is below normal.\\nYour child’s care team will make sure their learning style is tested. This helps us better understand how they process information. We will help your child’s school know the best ways to support your child’s learning.\\nSome children with 22q11\\\\.2\\\\-related disorders will have trouble learning because of attention deficit hyperactivity disorder (ADHD), anxiety or autism spectrum disorder. If your child develops any of these problems, a specialist will evaluate your child and suggest treatment to help them start school ready to learn. We will also work with you to find resources in your community if needed.',\n",
       "   'parent_id': 9,\n",
       "   'parent_unique_id': '68c7255b-ffcc-4b3b-bbce-70856ff33110',\n",
       "   'url_links': [],\n",
       "   'is_root': False,\n",
       "   'kind': 'chunk'},\n",
       "  {'id': 20,\n",
       "   'unique_id': 'fb85d5f4-7a46-4d69-beab-47b51e6a0443',\n",
       "   'content': '### Behavior and mental health\\n\\n22q11\\\\.2\\\\-related disorders increase the risk of problems with behavior and mental health. These include:\\n* Attention deficit hyperactivity disorder (ADHD)\\n* Autism spectrum disorder\\n* Anxiety\\n* Depression\\n* Bipolar disorder\\nMany problems can be managed well if they are found early and treated by a doctor familiar with 22q11\\\\.2\\\\-related disorders.\\n* Patients with 22q\\\\-related disorders have an increased risk of autism spectrum disorder and other problems affecting the brain and central nervous system (neurodevelopmental).\\n* Children with 22q\\\\-related disorders are also at risk for other psychiatric conditions, such as schizophrenia \\xa0and anxiety.\\nVarious types of mental health issues begin at different times. We will regularly check your child’s behavior, mood and coping. Your healthcare team will ask about your child’s behavior at home and school.\\nIf there are concerns, a psychiatrist or neurodevelopmental specialist will evaluate your child and recommend treatment. Your craniofacial pediatrician and social worker will work with you to find resources in your community if needed.',\n",
       "   'parent_id': 9,\n",
       "   'parent_unique_id': '68c7255b-ffcc-4b3b-bbce-70856ff33110',\n",
       "   'url_links': ['https://www.seattlechildrens.org/clinics/psychiatry-and-behavioral-medicine/',\n",
       "    'https://www.seattlechildrens.org/clinics/neurosciences/'],\n",
       "   'is_root': False,\n",
       "   'kind': 'chunk'},\n",
       "  {'id': 21,\n",
       "   'unique_id': '2a9a9e94-7b6d-4d98-9166-db707dc24613',\n",
       "   'content': '## 22q11\\\\.2\\\\-Related Disorders at Seattle Children\\'s\\n\\nMany families have never heard of these conditions before their child’s diagnosis. Seattle Children’s has a [clinic](/clinics/craniofacial/services/22q-clinic/ \"clinic\") focused on caring for children with 22q11\\\\.2\\\\-related disorders.\\nMany of the babies and children we see are newly diagnosed. We also work with expectant parents who are worried about the results of tests during pregnancy.\\nPlease call the Craniofacial Center at [206\\\\-987\\\\-0339](tel:206-987-0339) for more information, a second opinion or to make an appointment.',\n",
       "   'parent_id': 0,\n",
       "   'parent_unique_id': '135a5878-c42f-4142-8790-2824114791d2',\n",
       "   'url_links': ['https://www.seattlechildrens.org/clinics/craniofacial/contact-locations/',\n",
       "    'https://www.seattlechildrens.org/clinics/craniofacial/services/22q-clinic/',\n",
       "    'https://www.seattlechildrens.orgtel:206-987-0339'],\n",
       "   'is_root': False,\n",
       "   'kind': 'chunk'},\n",
       "  {'id': 22,\n",
       "   'unique_id': '007c2218-bf60-4851-8997-d1b92f61b64f',\n",
       "   'content': '### A clinic focused on your child’s condition\\n\\nOur [22q Clinic](/clinics/craniofacial/services/22q-clinic/ \"22q Clinic\") is the only multidisciplinary clinic for children with 22q11\\\\.2\\\\-related disorders in the 5\\\\-state region that includes Washington, Alaska, Montana, Idaho and Wyoming. Our clinic team has been diagnosing these conditions and helping families care for their children since 2006\\\\.\\nOur doctors are experienced in treating the problems caused by these conditions.',\n",
       "   'parent_id': 21,\n",
       "   'parent_unique_id': '2a9a9e94-7b6d-4d98-9166-db707dc24613',\n",
       "   'url_links': ['https://www.seattlechildrens.org/clinics/craniofacial/services/22q-clinic/'],\n",
       "   'is_root': False,\n",
       "   'kind': 'chunk'},\n",
       "  {'id': 23,\n",
       "   'unique_id': '4917f551-bd81-4990-bd9c-8221f6c3825f',\n",
       "   'content': '### Specialists to cover your child\\'s needs\\n\\nThe 22q Clinic is part of Seattle Children’s [Craniofacial Center](/clinics/craniofacial/ \"Craniofacial Center\"). Our 50 specialists in 19 different fields meet weekly to discuss children with complex needs and decide on the best care plan for each child.\\nA craniofacial pediatrician, medical geneticist, genetic counselor, nurse, family service coordinator and social worker will work closely with your family. They manage your child’s care and make sure all your questions are answered.\\n[Our 22q Clinic](/clinics/craniofacial/services/22q-clinic/ \"Our 22q Clinic\") can easily form a team with the right experts to care for your child’s specific needs. These may include an audiologist; dietitian; ear, nose and throat specialist (otolaryngologist); feeding therapist; psychiatrist; and speech and language pathologist (SLP). They create a personalized plan of care for your child.\\nIf needed, your child will see experts in other departments at Seattle Children’s, for problems affecting their [heart](/clinics/heart/ \"heart\"), [mental health](/clinics/psychiatry-and-behavioral-medicine/ \"mental health\"), [hormones](/clinics/endocrinology/ \"hormones\"), [nervous system](/clinics/neurosciences/ \"nervous system\"), [stomach and intestines](/clinics/gastroenterology-hepatology/ \"stomach and intestines\"), [bones](/clinics/orthopedics/ \"bones\"), [kidneys](/clinics/nephrology/ \"kidneys\") and [infection\\\\-fighting immune system](/clinics/immunology/ \"infection-fighting immune system\"). We work together, and with you and your family’s doctor, to care for your child.',\n",
       "   'parent_id': 21,\n",
       "   'parent_unique_id': '2a9a9e94-7b6d-4d98-9166-db707dc24613',\n",
       "   'url_links': ['https://www.seattlechildrens.org/clinics/gastroenterology-hepatology/',\n",
       "    'https://www.seattlechildrens.org/clinics/orthopedics/',\n",
       "    'https://www.seattlechildrens.org/clinics/endocrinology/',\n",
       "    'https://www.seattlechildrens.org/clinics/psychiatry-and-behavioral-medicine/',\n",
       "    'https://www.seattlechildrens.org/clinics/craniofacial/services/22q-clinic/',\n",
       "    'https://www.seattlechildrens.org/clinics/nephrology/',\n",
       "    'https://www.seattlechildrens.org/clinics/craniofacial/contact-locations/',\n",
       "    'https://www.seattlechildrens.org/clinics/heart/',\n",
       "    'https://www.seattlechildrens.org/clinics/immunology/',\n",
       "    'https://www.seattlechildrens.org/clinics/neurosciences/'],\n",
       "   'is_root': False,\n",
       "   'kind': 'chunk'},\n",
       "  {'id': 24,\n",
       "   'unique_id': 'e8403f13-2bb2-4b7f-8383-cf78276e8d2d',\n",
       "   'content': '### We support your whole family\\n\\nA diagnosis of a 22q11\\\\.2\\\\-related disorder can be scary. We take time to explain your child’s condition. We help you fully understand your treatment options and make choices that are right for your family.\\nOur child life specialists and social workers support your child and family through the challenges of their condition. We help you find [community resources and support groups](/clinics/craniofacial/patient-family-resources/ \"community resources and support groups\").\\nAs your child gets older, we include them in decisions about their medical care. Your family has a [full team](/clinics/craniofacial/meet-your-team/ \"full team\") behind you, including specialists in nutrition, physical therapy and speech therapy. Read more about the [supportive care we offer](/clinics/craniofacial/services/supportive-care/ \"supportive care we offer\").\\nSeattle Children’s provides craniofacial care for children in an area one\\\\-fourth the size of the continental U.S. We also treat children from across the globe. This has helped us develop systems to provide outstanding, personalized care at great distance.',\n",
       "   'parent_id': 21,\n",
       "   'parent_unique_id': '2a9a9e94-7b6d-4d98-9166-db707dc24613',\n",
       "   'url_links': ['https://www.seattlechildrens.org/clinics/craniofacial/patient-family-resources/',\n",
       "    'https://www.seattlechildrens.org/clinics/craniofacial/services/supportive-care/',\n",
       "    'https://www.seattlechildrens.org/clinics/craniofacial/meet-your-team/',\n",
       "    'https://www.seattlechildrens.org/clinics/craniofacial/services/22q-clinic/'],\n",
       "   'is_root': False,\n",
       "   'kind': 'chunk'},\n",
       "  {'id': 25,\n",
       "   'unique_id': '0b156396-a699-49a0-ba68-09a6749fc27f',\n",
       "   'content': '## Contact Us\\n\\nContact the [Craniofacial Center](/clinics/craniofacial/contact-locations/ \"Craniofacial Center\") at\\xa0[206\\\\-987\\\\-2208](tel:206-987-2208) for an appointment, a second opinion or more information.\\nProviders, see [how to refer a patient](/clinics/craniofacial/refer-a-patient/ \"how to refer a patient\").',\n",
       "   'parent_id': 0,\n",
       "   'parent_unique_id': '135a5878-c42f-4142-8790-2824114791d2',\n",
       "   'url_links': ['https://www.seattlechildrens.org/clinics/craniofacial/services/22q-clinic/',\n",
       "    'https://www.seattlechildrens.org/clinics/craniofacial/contact-locations/',\n",
       "    'https://www.seattlechildrens.orgtel:206-987-2208',\n",
       "    'https://www.seattlechildrens.org/clinics/craniofacial/services/22q-clinic/',\n",
       "    'https://www.seattlechildrens.org/clinics/craniofacial/refer-a-patient/'],\n",
       "   'is_root': False,\n",
       "   'kind': 'chunk'}],\n",
       " 'kind': 'page',\n",
       " 'summary': \"22q11.2-related disorders stem from variations in a specific region of chromosome 22, impacting growth, feeding, speech, learning, and mental health. These conditions, previously known by various names like DiGeorge syndrome, present with a wide range of symptoms, even within families, and can affect facial features, the palate, heart, immune system, and more. Diagnosis can occur before or after birth through genetic testing and specific medical evaluations. Treatment is highly individualized, often involving a multidisciplinary team of specialists to address the diverse potential health issues. Seattle Children's offers a specialized 22q Clinic dedicated to diagnosing and managing these complex disorders, providing comprehensive care and support for affected children and their families.\",\n",
       " 'keywords': ['22q11.2-related disorders',\n",
       "  'chromosome 22',\n",
       "  'genetic syndrome',\n",
       "  'cleft palate',\n",
       "  'heart problems',\n",
       "  'immune system',\n",
       "  'kidney problems',\n",
       "  'low calcium levels',\n",
       "  'developmental delay',\n",
       "  'mental health issues']}"
      ]
     },
     "execution_count": 65,
     "metadata": {},
     "output_type": "execute_result"
    }
   ],
   "source": [
    "all_conditions[0]"
   ]
  },
  {
   "cell_type": "markdown",
   "id": "09bfc977",
   "metadata": {},
   "source": [
    "If everything looks good, we can update the pages content file."
   ]
  },
  {
   "cell_type": "code",
   "execution_count": 66,
   "id": "c9c30369",
   "metadata": {},
   "outputs": [],
   "source": [
    "jsonl_content = \"\"\n",
    "for all_condition in all_conditions:\n",
    "    if \"unique_id\" not in all_condition.keys():\n",
    "        print(all_condition)\n",
    "    jsonl_content += json.dumps(all_condition) + \"\\n\"\n",
    "\n",
    "\n",
    "with open(\"../data/pages_content.jsonl\", \"w\") as fp:\n",
    "    fp.write(jsonl_content)"
   ]
  },
  {
   "cell_type": "code",
   "execution_count": 67,
   "id": "ea43a327",
   "metadata": {},
   "outputs": [
    {
     "name": "stderr",
     "output_type": "stream",
     "text": [
      "Copying file://..\\data\\pages_content.jsonl [Content-Type=application/octet-stream]...\n",
      "/ [0 files][    0.0 B/ 11.0 MiB]                                                \n",
      "-\n",
      "- [0 files][  4.1 MiB/ 11.0 MiB]                                                \n",
      "\\\n",
      "|\n",
      "| [0 files][  9.4 MiB/ 11.0 MiB]                                                \n",
      "| [1 files][ 11.0 MiB/ 11.0 MiB]                                                \n",
      "/\n",
      "\n",
      "Operation completed over 1 objects/11.0 MiB.                                     \n"
     ]
    }
   ],
   "source": [
    "# upload the pages.json to GSC bucket\n",
    "! gsutil cp \"../data/pages_content.jsonl\" gs://sch_knowledge_management_system/conditions_pages/pages_content.jsonl"
   ]
  },
  {
   "cell_type": "markdown",
   "id": "f9a534ed",
   "metadata": {},
   "source": [
    "## 04- GraphRag Approach"
   ]
  },
  {
   "cell_type": "markdown",
   "id": "6571a12b",
   "metadata": {},
   "source": [
    "### 04-01- Atomic Facts"
   ]
  },
  {
   "cell_type": "markdown",
   "id": "03786536",
   "metadata": {},
   "source": [
    "Here, we enrich the chunks with atomic facts and key elements:\n",
    "\n",
    "- `Atomic Fact`: The smallest, indivisible facts, presented as concise sentences. These include propositions, theories, existences, concepts, and implicit elements like logic, causality, event sequences, drug-condition relationships, timelines, etc.\n",
    "\n",
    "- `Key Elements`: The essential nouns (e.g., disease, medical condition, drugs, people, numbers), verbs (e.g., actions, consequences), and adjectives (e.g., severity, impact) that are pivotal to the text’s narrative."
   ]
  },
  {
   "cell_type": "code",
   "execution_count": 47,
   "id": "a48e0b2f",
   "metadata": {},
   "outputs": [],
   "source": [
    "rich_chunks = [c['content'] for c in a_condition['chunks'] if len(c['content'])>30]"
   ]
  },
  {
   "cell_type": "code",
   "execution_count": 48,
   "id": "fd56f857",
   "metadata": {},
   "outputs": [],
   "source": [
    "class AtomicFact(BaseModel):\n",
    "\n",
    "    topics: str = Field(\n",
    "        description=\"Topics tag the Atomic Fact and is about the 2 main topics discussed in its atomic_fact.\"\n",
    "    )\n",
    "\n",
    "    key_elements: List[str] = Field(\n",
    "        description=\"\"\"The essential nouns (e.g., disease, medical condition, drugs, people, numbers), verbs (e.g.,\n",
    "        actions, consequences), and adjectives (e.g., severity, impact) that are pivotal to the text’s narrative.\"\"\"\n",
    "    )\n",
    "    \n",
    "    atomic_fact: str = Field(\n",
    "        description=\"\"\"The smallest, indivisible facts, presented as concise sentences. These include\n",
    "        propositions, theories, existences, concepts, and implicit elements like logic, causality, event\n",
    "        sequences, drug-condition relationships, timelines, etc.\"\"\"\n",
    "    )\n",
    "\n",
    "class Extraction(BaseModel):\n",
    "    atomic_facts: List[AtomicFact] = Field(description=\"List of atomic facts\")"
   ]
  },
  {
   "cell_type": "code",
   "execution_count": 49,
   "id": "03970f20",
   "metadata": {},
   "outputs": [],
   "source": [
    "construction_system = \"\"\"\n",
    "You are now an intelligent assistant tasked with meticulously extracting both key elements and\n",
    "atomic facts from a long text.\n",
    "\n",
    "1. Key Elements: The essential nouns (e.g., disease, medical condition, drugs, substances, people, numbers, date, ...), verbs (e.g.,\n",
    "actions, consequences, ...), and adjectives (e.g., severity, impact, ...) that are pivotal to the text’s narrative.\n",
    "\n",
    "2. Atomic Facts: The smallest, indivisible facts, presented as concise sentences. These include\n",
    "propositions, theories, existences, concepts, and implicit elements like logic, causality, event\n",
    "sequences, discoveries, drug-condition relationships, timelines, etc. An atomic fact has a label which tags the\n",
    "main topic discussed in its text.\n",
    "\n",
    "Requirements:\n",
    "#####\n",
    "1. Ensure that all identified atomic facts have at least one key element.\n",
    "\n",
    "2. Ensure that all identified key elements are reflected within the corresponding atomic facts.\n",
    "\n",
    "3. You should extract key elements and atomic facts comprehensively, especially those that are\n",
    "important and potentially query-worthy and do not leave out details.\n",
    "\n",
    "4. Whenever applicable, replace pronouns with their specific noun counterparts (e.g., change I, He,\n",
    "She to actual names).\n",
    "\n",
    "5. Ensure that the key elements and atomic facts you extract are presented in the same language as\n",
    "the original text (e.g., English or Chinese).\n",
    "\n",
    "6. Ensure that each Atomic Fact has list of topics corresponding to the 2 main topic discussed in its text.\n",
    "\"\"\""
   ]
  },
  {
   "cell_type": "code",
   "execution_count": 53,
   "id": "3051cf44",
   "metadata": {},
   "outputs": [],
   "source": [
    "prompt = types.Part.from_text(text=\"Use the given format to extract information from the following content:\")\n",
    "content = types.Part.from_text(text=rich_chunks[0])\n",
    "system_instruction=[types.Part.from_text(text=construction_system)]\n",
    "complex_tasks_generate_content_config.system_instruction = system_instruction\n",
    "complex_tasks_generate_content_config.response_mime_type=\"application/json\"\n",
    "complex_tasks_generate_content_config.response_schema = Extraction\n"
   ]
  },
  {
   "cell_type": "code",
   "execution_count": 55,
   "id": "beff8501",
   "metadata": {},
   "outputs": [],
   "source": [
    "response = genai_client.models.generate_content(\n",
    "    model = complex_tasks_model,\n",
    "    contents = [prompt, content],\n",
    "    config = complex_tasks_generate_content_config\n",
    ")\n",
    "\n",
    "insight = response.parsed"
   ]
  },
  {
   "cell_type": "code",
   "execution_count": 60,
   "id": "c25238b4",
   "metadata": {},
   "outputs": [
    {
     "name": "stdout",
     "output_type": "stream",
     "text": [
      "22q11.2-related disorders are caused by differences in a part of chromosome 22 known as the q11.2 region.\n",
      "-22q11.2-related disorders, Chromosome 22\n",
      "----22q11.2-related disorders\n",
      "----caused by\n",
      "----differences\n",
      "----chromosome 22\n",
      "----q11.2 region\n",
      "Chromosomes contain genes, which instruct cells on how to function and what proteins to produce.\n",
      "-Chromosomes, Genes\n",
      "----Chromosomes\n",
      "----genes\n",
      "----cells\n",
      "----proteins\n",
      "There are 23 pairs of chromosomes in each cell of the body.\n",
      "-Chromosomes, Cells\n",
      "----23 pairs of chromosomes\n",
      "----cell\n",
      "----body\n",
      "22q11.2-related disorders occur in at least 1 in 1,000 newborns.\n",
      "-22q11.2-related disorders, Prevalence\n",
      "----22q11.2-related disorders\n",
      "----1 in 1,000\n",
      "----newborns\n",
      "The symptoms of 22q11.2-related disorders differ widely, even among members of the same family.\n",
      "-22q11.2-related disorders, Symptoms\n",
      "----symptoms\n",
      "----differ widely\n",
      "----members of the same family\n",
      "There may be small differences in the appearance of a child's eyelids, nose, and ears with 22q11.2-related disorders.\n",
      "-22q11.2-related disorders, Physical characteristics\n",
      "----small differences\n",
      "----eyelids\n",
      "----nose\n",
      "----ears\n",
      "22q11.2-related disorders are linked to many health issues.\n",
      "-22q11.2-related disorders, Health issues\n",
      "----22q11.2-related disorders\n",
      "----linked to\n",
      "----health issues\n",
      "22q11.2-related disorders can affect a child’s growth, feeding, breathing, speaking, hearing, learning, and mental health.\n",
      "-22q11.2-related disorders, Health impacts\n",
      "----affect\n",
      "----growth\n",
      "----feeding\n",
      "----breathing\n",
      "----speaking\n",
      "----hearing\n",
      "----learning\n",
      "----mental health\n",
      "Most children with 22q11.2-related disorders only have problems in some of the possible affected areas.\n",
      "-22q11.2-related disorders, Symptom presentation\n",
      "----most children\n",
      "----22q11.2-related disorders\n",
      "----problems\n",
      "----some areas\n"
     ]
    }
   ],
   "source": [
    "for af in insight.atomic_facts:\n",
    "    print(af.atomic_fact)\n",
    "    print(\"-\" + af.topics)\n",
    "    for ke in af.key_elements:\n",
    "        print(\"----\" + ke)"
   ]
  },
  {
   "cell_type": "markdown",
   "id": "77a096a1",
   "metadata": {},
   "source": [
    "These actomic facts and associated key elements can be added into the graph, for each chunk node. The actomic facts are the first knowledge elements concerned by the retrieval process, and should encoded using a dense embedding model."
   ]
  },
  {
   "cell_type": "markdown",
   "id": "6098a2b6",
   "metadata": {},
   "source": [
    "### 04-02- Generated Questions from Atomic Facts"
   ]
  },
  {
   "cell_type": "markdown",
   "id": "cbca8be9",
   "metadata": {},
   "source": [
    "A recurrent question about the RAG approach is about comparing embedding of text chunks and questions. From a theorical point of view, we should better compare the user's question and a list of anticipated questions first, and then, retrieve the text chunks containing the context needed to answer the anticipated questions found the most similar to the user's question.\n",
    "\n",
    "The anticipated questions can be created from the Atomic Facts, using Gemini 2.5 Flash Lite. It is not a complex task."
   ]
  },
  {
   "cell_type": "code",
   "execution_count": 72,
   "id": "b905b8a2",
   "metadata": {},
   "outputs": [],
   "source": [
    "class QA(BaseModel):\n",
    "    question: str\n",
    "    answer: str"
   ]
  },
  {
   "cell_type": "code",
   "execution_count": 80,
   "id": "dd8ddc1b",
   "metadata": {},
   "outputs": [],
   "source": [
    "prompt = types.Part.from_text(text=\"Extract all relevant questions and the associated answers from the following text. Just return them as a list. Nothing else.\")\n",
    "content = types.Part.from_text(text=insight.atomic_facts[5].atomic_fact)\n",
    "system_instruction=[types.Part.from_text(text=\"You are a medical expert extracting knowledge from teaching material.\")]\n",
    "simple_tasks_generate_content_config.system_instruction = system_instruction\n",
    "simple_tasks_generate_content_config.response_mime_type=\"application/json\"\n",
    "simple_tasks_generate_content_config.response_schema = QA"
   ]
  },
  {
   "cell_type": "code",
   "execution_count": 81,
   "id": "648614e6",
   "metadata": {},
   "outputs": [
    {
     "name": "stdout",
     "output_type": "stream",
     "text": [
      "('{\\n'\n",
      " '\"question\": \"What differences may be observed in a child\\'s eyelids, nose, '\n",
      " 'and ears with 22q11.2-related disorders?\",\\n'\n",
      " '\"answer\": \"There may be small differences in the appearance of a child\\'s '\n",
      " 'eyelids, nose, and ears with 22q11.2-related disorders.\"\\n'\n",
      " '}')\n"
     ]
    }
   ],
   "source": [
    "response = genai_client.models.generate_content(\n",
    "    model = simple_tasks_model,\n",
    "    contents = [prompt, content],\n",
    "    config = simple_tasks_generate_content_config\n",
    ")\n",
    "\n",
    "pprint.pprint(response.text)"
   ]
  },
  {
   "cell_type": "markdown",
   "id": "ac049fb0",
   "metadata": {},
   "source": [
    "The generated questions and answers can also be used for creating a Q&A repository kept in a cache and used as an entry point by the answering engine."
   ]
  }
 ],
 "metadata": {
  "kernelspec": {
   "display_name": ".env",
   "language": "python",
   "name": "python3"
  },
  "language_info": {
   "codemirror_mode": {
    "name": "ipython",
    "version": 3
   },
   "file_extension": ".py",
   "mimetype": "text/x-python",
   "name": "python",
   "nbconvert_exporter": "python",
   "pygments_lexer": "ipython3",
   "version": "3.12.3"
  }
 },
 "nbformat": 4,
 "nbformat_minor": 5
}
